{
  "nbformat": 4,
  "nbformat_minor": 0,
  "metadata": {
    "colab": {
      "provenance": []
    },
    "kernelspec": {
      "name": "python3",
      "display_name": "Python 3"
    },
    "language_info": {
      "name": "python"
    },
    "accelerator": "GPU",
    "gpuClass": "standard"
  },
  "cells": [
    {
      "cell_type": "code",
      "source": [
        "#@title Download Data\n",
        "!wget -qq https://cdn.iisc.talentsprint.com/AIandMLOps/Datasets/housing_dataset.csv\n",
        "print(\"Data downloaded successfully!\")"
      ],
      "metadata": {
        "cellView": "form",
        "id": "kBINTxv0O26H",
        "outputId": "72360b25-b2cd-4a37-ba9e-0ae416e114bb",
        "colab": {
          "base_uri": "https://localhost:8080/"
        }
      },
      "execution_count": 1,
      "outputs": [
        {
          "output_type": "stream",
          "name": "stdout",
          "text": [
            "Data downloaded successfully!\n"
          ]
        }
      ]
    },
    {
      "cell_type": "markdown",
      "source": [
        "### Import libraries"
      ],
      "metadata": {
        "id": "Hf1qet2EgGcL"
      }
    },
    {
      "cell_type": "code",
      "execution_count": 2,
      "metadata": {
        "id": "sgPKI1GpnAn7"
      },
      "outputs": [],
      "source": [
        "from tensorflow.keras.layers import Dense, Dropout, Flatten, Conv2D,MaxPool2D\n",
        "from tensorflow.keras import Input\n",
        "from tensorflow.keras import Model\n",
        "from tensorflow.keras.models import load_model\n",
        "import numpy as np\n",
        "import pandas as pd\n",
        "import matplotlib.pyplot as plt"
      ]
    },
    {
      "cell_type": "markdown",
      "metadata": {
        "id": "seu6Ni2CX7CT"
      },
      "source": [
        "Let us reuse the VGG16 network which has been trained on the ImageNet, which contains multiple classes of cats and dogs among other things.\n",
        "\n",
        "We expect the convolution base to have learned features that help it identify cats and dogs.\n",
        "\n",
        "Keras provides us with a pre-trained VGG16 network!\n",
        "\n"
      ]
    },
    {
      "cell_type": "code",
      "source": [
        "from tensorflow.keras.applications.vgg16 import VGG16"
      ],
      "metadata": {
        "id": "fcNilE95iILQ"
      },
      "execution_count": 3,
      "outputs": []
    },
    {
      "cell_type": "code",
      "execution_count": 4,
      "metadata": {
        "id": "6ExTNZyWnEx3",
        "outputId": "6aa8cff3-adb2-4eba-a015-736f880d2c6a",
        "colab": {
          "base_uri": "https://localhost:8080/"
        }
      },
      "outputs": [
        {
          "output_type": "stream",
          "name": "stdout",
          "text": [
            "Downloading data from https://storage.googleapis.com/tensorflow/keras-applications/vgg16/vgg16_weights_tf_dim_ordering_tf_kernels_notop.h5\n",
            "58889256/58889256 [==============================] - 4s 0us/step\n"
          ]
        }
      ],
      "source": [
        "# Load the convolutional base\n",
        "conv_base = VGG16(\n",
        "    weights = \"imagenet\",\n",
        "    include_top = False, # Don't re-use the classifier (top layers)\n",
        "    input_shape = (180,180,3)\n",
        ")"
      ]
    },
    {
      "cell_type": "code",
      "execution_count": 5,
      "metadata": {
        "id": "0b9kdoqLnPKx",
        "outputId": "6adba891-058a-4531-b48f-8f326bdf9fee",
        "colab": {
          "base_uri": "https://localhost:8080/"
        }
      },
      "outputs": [
        {
          "output_type": "stream",
          "name": "stdout",
          "text": [
            "Model: \"vgg16\"\n",
            "_________________________________________________________________\n",
            " Layer (type)                Output Shape              Param #   \n",
            "=================================================================\n",
            " input_1 (InputLayer)        [(None, 180, 180, 3)]     0         \n",
            "                                                                 \n",
            " block1_conv1 (Conv2D)       (None, 180, 180, 64)      1792      \n",
            "                                                                 \n",
            " block1_conv2 (Conv2D)       (None, 180, 180, 64)      36928     \n",
            "                                                                 \n",
            " block1_pool (MaxPooling2D)  (None, 90, 90, 64)        0         \n",
            "                                                                 \n",
            " block2_conv1 (Conv2D)       (None, 90, 90, 128)       73856     \n",
            "                                                                 \n",
            " block2_conv2 (Conv2D)       (None, 90, 90, 128)       147584    \n",
            "                                                                 \n",
            " block2_pool (MaxPooling2D)  (None, 45, 45, 128)       0         \n",
            "                                                                 \n",
            " block3_conv1 (Conv2D)       (None, 45, 45, 256)       295168    \n",
            "                                                                 \n",
            " block3_conv2 (Conv2D)       (None, 45, 45, 256)       590080    \n",
            "                                                                 \n",
            " block3_conv3 (Conv2D)       (None, 45, 45, 256)       590080    \n",
            "                                                                 \n",
            " block3_pool (MaxPooling2D)  (None, 22, 22, 256)       0         \n",
            "                                                                 \n",
            " block4_conv1 (Conv2D)       (None, 22, 22, 512)       1180160   \n",
            "                                                                 \n",
            " block4_conv2 (Conv2D)       (None, 22, 22, 512)       2359808   \n",
            "                                                                 \n",
            " block4_conv3 (Conv2D)       (None, 22, 22, 512)       2359808   \n",
            "                                                                 \n",
            " block4_pool (MaxPooling2D)  (None, 11, 11, 512)       0         \n",
            "                                                                 \n",
            " block5_conv1 (Conv2D)       (None, 11, 11, 512)       2359808   \n",
            "                                                                 \n",
            " block5_conv2 (Conv2D)       (None, 11, 11, 512)       2359808   \n",
            "                                                                 \n",
            " block5_conv3 (Conv2D)       (None, 11, 11, 512)       2359808   \n",
            "                                                                 \n",
            " block5_pool (MaxPooling2D)  (None, 5, 5, 512)         0         \n",
            "                                                                 \n",
            "=================================================================\n",
            "Total params: 14,714,688\n",
            "Trainable params: 14,714,688\n",
            "Non-trainable params: 0\n",
            "_________________________________________________________________\n"
          ]
        }
      ],
      "source": [
        "# See a summary of the convolutional base\n",
        "conv_base.summary()"
      ]
    },
    {
      "cell_type": "markdown",
      "metadata": {
        "id": "_UKbWJkUbMJt"
      },
      "source": [
        "So how do we extract the features? Simple:\n",
        "\n",
        "Pass the images through the convolutional base."
      ]
    },
    {
      "cell_type": "code",
      "source": [
        "#@title Download the data\n",
        "!wget -qq https://cdn.iisc.talentsprint.com/AIandMLOps/Datasets/cats_vs_dogs_small.zip\n",
        "!unzip -qq '/content/cats_vs_dogs_small.zip'"
      ],
      "metadata": {
        "id": "S-Wl6uFLjL3Y",
        "cellView": "form"
      },
      "execution_count": 6,
      "outputs": []
    },
    {
      "cell_type": "code",
      "source": [
        "# defining path names for futur use\n",
        "data_dir = '/content/cats_vs_dogs_small'\n",
        "\n",
        "train_path = data_dir + '/train'\n",
        "validation_path = data_dir + '/validation'\n",
        "test_path = data_dir + '/test'"
      ],
      "metadata": {
        "id": "rA46mBvMjORA"
      },
      "execution_count": 7,
      "outputs": []
    },
    {
      "cell_type": "markdown",
      "source": [
        "### Converting the image dataset into a workable format"
      ],
      "metadata": {
        "id": "K1JApk1OjbKR"
      }
    },
    {
      "cell_type": "code",
      "source": [
        "from tensorflow.keras.utils import image_dataset_from_directory\n",
        "train_dataset = image_dataset_from_directory(\n",
        "               train_path,\n",
        "                image_size=(180, 180), # Resize the images to (180,180) \n",
        "                batch_size=32)\n",
        "validation_dataset = image_dataset_from_directory(\n",
        "                      validation_path,\n",
        "                      image_size=(180, 180),\n",
        "                      batch_size=32)\n",
        "test_dataset = image_dataset_from_directory(\n",
        "                test_path,\n",
        "                image_size=(180, 180),\n",
        "                batch_size=32)"
      ],
      "metadata": {
        "id": "hjXVr-IhjWkB",
        "outputId": "bc9ed915-33fb-4d28-e5eb-f9e8fe337894",
        "colab": {
          "base_uri": "https://localhost:8080/"
        }
      },
      "execution_count": 8,
      "outputs": [
        {
          "output_type": "stream",
          "name": "stdout",
          "text": [
            "Found 2000 files belonging to 2 classes.\n",
            "Found 1000 files belonging to 2 classes.\n",
            "Found 2000 files belonging to 2 classes.\n"
          ]
        }
      ]
    },
    {
      "cell_type": "markdown",
      "source": [
        "### Passing the dataset through Conv Base i.e forward pass through pre-trained weights\n",
        "\n",
        "Before forward pass, Preprocessing the dataset specific to VGG16 is also required."
      ],
      "metadata": {
        "id": "JQ0gpF96nqkT"
      }
    },
    {
      "cell_type": "code",
      "source": [
        "from tensorflow.keras.applications.vgg16 import preprocess_input # Importing function for preprocessing specific to the vgg16"
      ],
      "metadata": {
        "id": "LqSbNdyUkIRe"
      },
      "execution_count": 9,
      "outputs": []
    },
    {
      "cell_type": "code",
      "execution_count": 10,
      "metadata": {
        "id": "kRw1G2rlnUG5",
        "outputId": "d61aafbd-1947-46f2-acb9-d77986a01510",
        "colab": {
          "base_uri": "https://localhost:8080/"
        }
      },
      "outputs": [
        {
          "output_type": "stream",
          "name": "stdout",
          "text": [
            "1/1 [==============================] - 10s 10s/step\n",
            "1/1 [==============================] - 0s 31ms/step\n",
            "1/1 [==============================] - 0s 27ms/step\n",
            "1/1 [==============================] - 0s 26ms/step\n",
            "1/1 [==============================] - 0s 30ms/step\n",
            "1/1 [==============================] - 0s 27ms/step\n",
            "1/1 [==============================] - 0s 28ms/step\n",
            "1/1 [==============================] - 0s 30ms/step\n",
            "1/1 [==============================] - 0s 27ms/step\n",
            "1/1 [==============================] - 0s 26ms/step\n",
            "1/1 [==============================] - 0s 24ms/step\n",
            "1/1 [==============================] - 0s 26ms/step\n",
            "1/1 [==============================] - 0s 29ms/step\n",
            "1/1 [==============================] - 0s 26ms/step\n",
            "1/1 [==============================] - 0s 31ms/step\n",
            "1/1 [==============================] - 0s 33ms/step\n",
            "1/1 [==============================] - 0s 35ms/step\n",
            "1/1 [==============================] - 0s 30ms/step\n",
            "1/1 [==============================] - 0s 29ms/step\n",
            "1/1 [==============================] - 0s 33ms/step\n",
            "1/1 [==============================] - 0s 29ms/step\n",
            "1/1 [==============================] - 0s 35ms/step\n",
            "1/1 [==============================] - 0s 30ms/step\n",
            "1/1 [==============================] - 0s 36ms/step\n",
            "1/1 [==============================] - 0s 25ms/step\n",
            "1/1 [==============================] - 0s 23ms/step\n",
            "1/1 [==============================] - 0s 31ms/step\n",
            "1/1 [==============================] - 0s 24ms/step\n",
            "1/1 [==============================] - 0s 22ms/step\n",
            "1/1 [==============================] - 0s 23ms/step\n",
            "1/1 [==============================] - 0s 22ms/step\n",
            "1/1 [==============================] - 0s 25ms/step\n",
            "1/1 [==============================] - 0s 28ms/step\n",
            "1/1 [==============================] - 0s 24ms/step\n",
            "1/1 [==============================] - 0s 26ms/step\n",
            "1/1 [==============================] - 0s 26ms/step\n",
            "1/1 [==============================] - 0s 22ms/step\n",
            "1/1 [==============================] - 0s 22ms/step\n",
            "1/1 [==============================] - 0s 22ms/step\n",
            "1/1 [==============================] - 0s 22ms/step\n",
            "1/1 [==============================] - 0s 24ms/step\n",
            "1/1 [==============================] - 0s 26ms/step\n",
            "1/1 [==============================] - 0s 23ms/step\n",
            "1/1 [==============================] - 0s 24ms/step\n",
            "1/1 [==============================] - 0s 27ms/step\n",
            "1/1 [==============================] - 0s 23ms/step\n",
            "1/1 [==============================] - 0s 25ms/step\n",
            "1/1 [==============================] - 0s 24ms/step\n",
            "1/1 [==============================] - 0s 33ms/step\n",
            "1/1 [==============================] - 0s 22ms/step\n",
            "1/1 [==============================] - 0s 22ms/step\n",
            "1/1 [==============================] - 0s 30ms/step\n",
            "1/1 [==============================] - 0s 23ms/step\n",
            "1/1 [==============================] - 0s 25ms/step\n",
            "1/1 [==============================] - 0s 22ms/step\n",
            "1/1 [==============================] - 0s 23ms/step\n",
            "1/1 [==============================] - 0s 22ms/step\n",
            "1/1 [==============================] - 0s 26ms/step\n",
            "1/1 [==============================] - 0s 22ms/step\n",
            "1/1 [==============================] - 0s 23ms/step\n",
            "1/1 [==============================] - 0s 24ms/step\n",
            "1/1 [==============================] - 0s 24ms/step\n",
            "1/1 [==============================] - 2s 2s/step\n",
            "1/1 [==============================] - 0s 28ms/step\n",
            "1/1 [==============================] - 0s 22ms/step\n",
            "1/1 [==============================] - 0s 31ms/step\n",
            "1/1 [==============================] - 0s 31ms/step\n",
            "1/1 [==============================] - 0s 22ms/step\n",
            "1/1 [==============================] - 0s 25ms/step\n",
            "1/1 [==============================] - 0s 31ms/step\n",
            "1/1 [==============================] - 0s 26ms/step\n",
            "1/1 [==============================] - 0s 23ms/step\n",
            "1/1 [==============================] - 0s 35ms/step\n",
            "1/1 [==============================] - 0s 34ms/step\n",
            "1/1 [==============================] - 0s 31ms/step\n",
            "1/1 [==============================] - 0s 43ms/step\n",
            "1/1 [==============================] - 0s 33ms/step\n",
            "1/1 [==============================] - 0s 33ms/step\n",
            "1/1 [==============================] - 0s 42ms/step\n",
            "1/1 [==============================] - 0s 32ms/step\n",
            "1/1 [==============================] - 0s 38ms/step\n",
            "1/1 [==============================] - 0s 33ms/step\n",
            "1/1 [==============================] - 0s 24ms/step\n",
            "1/1 [==============================] - 0s 22ms/step\n",
            "1/1 [==============================] - 0s 23ms/step\n",
            "1/1 [==============================] - 0s 23ms/step\n",
            "1/1 [==============================] - 0s 23ms/step\n",
            "1/1 [==============================] - 0s 22ms/step\n",
            "1/1 [==============================] - 0s 24ms/step\n",
            "1/1 [==============================] - 0s 22ms/step\n",
            "1/1 [==============================] - 0s 24ms/step\n",
            "1/1 [==============================] - 0s 22ms/step\n",
            "1/1 [==============================] - 0s 22ms/step\n",
            "1/1 [==============================] - 0s 25ms/step\n",
            "1/1 [==============================] - 1s 946ms/step\n",
            "1/1 [==============================] - 0s 29ms/step\n",
            "1/1 [==============================] - 0s 28ms/step\n",
            "1/1 [==============================] - 0s 33ms/step\n",
            "1/1 [==============================] - 0s 29ms/step\n",
            "1/1 [==============================] - 0s 25ms/step\n",
            "1/1 [==============================] - 0s 25ms/step\n",
            "1/1 [==============================] - 0s 25ms/step\n",
            "1/1 [==============================] - 0s 23ms/step\n",
            "1/1 [==============================] - 0s 26ms/step\n",
            "1/1 [==============================] - 0s 24ms/step\n",
            "1/1 [==============================] - 0s 22ms/step\n",
            "1/1 [==============================] - 0s 40ms/step\n",
            "1/1 [==============================] - 0s 43ms/step\n",
            "1/1 [==============================] - 0s 25ms/step\n",
            "1/1 [==============================] - 0s 24ms/step\n",
            "1/1 [==============================] - 0s 39ms/step\n",
            "1/1 [==============================] - 0s 76ms/step\n",
            "1/1 [==============================] - 0s 29ms/step\n",
            "1/1 [==============================] - 0s 23ms/step\n",
            "1/1 [==============================] - 0s 48ms/step\n",
            "1/1 [==============================] - 0s 47ms/step\n",
            "1/1 [==============================] - 0s 30ms/step\n",
            "1/1 [==============================] - 0s 44ms/step\n",
            "1/1 [==============================] - 0s 62ms/step\n",
            "1/1 [==============================] - 0s 29ms/step\n",
            "1/1 [==============================] - 0s 23ms/step\n",
            "1/1 [==============================] - 0s 37ms/step\n",
            "1/1 [==============================] - 0s 43ms/step\n",
            "1/1 [==============================] - 0s 74ms/step\n",
            "1/1 [==============================] - 0s 38ms/step\n",
            "1/1 [==============================] - 0s 22ms/step\n",
            "1/1 [==============================] - 0s 32ms/step\n",
            "1/1 [==============================] - 0s 39ms/step\n",
            "1/1 [==============================] - 0s 30ms/step\n",
            "1/1 [==============================] - 0s 41ms/step\n",
            "1/1 [==============================] - 0s 34ms/step\n",
            "1/1 [==============================] - 0s 39ms/step\n",
            "1/1 [==============================] - 0s 37ms/step\n",
            "1/1 [==============================] - 0s 33ms/step\n",
            "1/1 [==============================] - 0s 23ms/step\n",
            "1/1 [==============================] - 0s 24ms/step\n",
            "1/1 [==============================] - 0s 24ms/step\n",
            "1/1 [==============================] - 0s 22ms/step\n",
            "1/1 [==============================] - 0s 25ms/step\n",
            "1/1 [==============================] - 0s 22ms/step\n",
            "1/1 [==============================] - 0s 26ms/step\n",
            "1/1 [==============================] - 0s 23ms/step\n",
            "1/1 [==============================] - 0s 27ms/step\n",
            "1/1 [==============================] - 0s 34ms/step\n",
            "1/1 [==============================] - 0s 24ms/step\n",
            "1/1 [==============================] - 0s 23ms/step\n",
            "1/1 [==============================] - 0s 22ms/step\n",
            "1/1 [==============================] - 0s 25ms/step\n",
            "1/1 [==============================] - 0s 23ms/step\n",
            "1/1 [==============================] - 0s 24ms/step\n",
            "1/1 [==============================] - 0s 28ms/step\n",
            "1/1 [==============================] - 0s 29ms/step\n",
            "1/1 [==============================] - 0s 23ms/step\n",
            "1/1 [==============================] - 0s 22ms/step\n",
            "1/1 [==============================] - 0s 23ms/step\n",
            "1/1 [==============================] - 0s 22ms/step\n",
            "1/1 [==============================] - 0s 24ms/step\n",
            "1/1 [==============================] - 0s 23ms/step\n"
          ]
        }
      ],
      "source": [
        "# Extracting the features from pretrained models\n",
        "def get_features_and_labels(dataset):\n",
        "    all_features = []\n",
        "    all_labels = []\n",
        "    for images, labels in dataset:\n",
        "        preprocessed_images = preprocess_input(images) # preprocessing specific to the vgg16\n",
        "        features = conv_base.predict(preprocessed_images)    # forward pass\n",
        "        all_features.append(features)\n",
        "        all_labels.append(labels)\n",
        "    return np.concatenate(all_features), np.concatenate(all_labels)\n",
        "\n",
        "# Doing the same for all datasets\n",
        "train_feature, train_labels = get_features_and_labels(train_dataset)\n",
        "val_feature, val_labels = get_features_and_labels(validation_dataset)\n",
        "test_feature, test_labels = get_features_and_labels(test_dataset)"
      ]
    },
    {
      "cell_type": "markdown",
      "metadata": {
        "id": "xyAs3DUVntAy"
      },
      "source": [
        "### Defining and training the densely connected classifier\n",
        "\n"
      ]
    },
    {
      "cell_type": "code",
      "execution_count": 11,
      "metadata": {
        "id": "KFHNlQaqnfo_"
      },
      "outputs": [],
      "source": [
        "# Q: Defining the classifier using the Functional API\n",
        "inputs = Input(shape=(5,5,512))\n",
        "x = Flatten()(inputs)\n",
        "x = Dense(256)(x)\n",
        "x = Dropout(0.5)(x)\n",
        "outputs = Dense(1,activation=\"sigmoid\")(x)\n",
        "model_without_conv_base = Model(inputs,outputs)  ## Model is imported from keras while importing libraries\n",
        "\n",
        "model_without_conv_base.compile(loss=\"binary_crossentropy\",\n",
        "             optimizer=\"rmsprop\",\n",
        "             metrics=[\"accuracy\"])"
      ]
    },
    {
      "cell_type": "markdown",
      "source": [
        "#### Call Back Function"
      ],
      "metadata": {
        "id": "gAY7NwrZM81q"
      }
    },
    {
      "cell_type": "code",
      "source": [
        "from tensorflow.keras.callbacks import ModelCheckpoint\n",
        "from tensorflow.keras.callbacks import TensorBoard\n",
        "from tensorflow.keras.callbacks import EarlyStopping"
      ],
      "metadata": {
        "id": "eFC5KcwnsyuP"
      },
      "execution_count": 12,
      "outputs": []
    },
    {
      "cell_type": "code",
      "execution_count": 13,
      "metadata": {
        "id": "pRjznrJmvYwE"
      },
      "outputs": [],
      "source": [
        "# Define a function to return a commmonly used callback_list\n",
        "def def_callbacks(filepath, mod_chk_mon = \"val_loss\", tensorboard = True, earlystop = 0 ):\n",
        "    callback_list = []\n",
        "\n",
        "    # Defualt callback\n",
        "    callback_list.append(ModelCheckpoint(filepath,\n",
        "                                         save_best_only = True,\n",
        "                                         monitor=mod_chk_mon))\n",
        "    if tensorboard:\n",
        "      log_dir = \"tensorLog_\" + filepath\n",
        "      callback_list.append(TensorBoard(log_dir=log_dir))\n",
        "\n",
        "    if earlystop>0:\n",
        "       callback_list.append(EarlyStopping(patience=earlystop))\n",
        "\n",
        "    return callback_list"
      ]
    },
    {
      "cell_type": "code",
      "execution_count": 14,
      "metadata": {
        "id": "_YHU9VyboGQs",
        "outputId": "279434cf-7f03-411e-b652-c94fc32e7257",
        "colab": {
          "base_uri": "https://localhost:8080/"
        }
      },
      "outputs": [
        {
          "output_type": "stream",
          "name": "stdout",
          "text": [
            "Epoch 1/20\n",
            "63/63 [==============================] - 2s 10ms/step - loss: 14.0956 - accuracy: 0.9200 - val_loss: 7.7153 - val_accuracy: 0.9580\n",
            "Epoch 2/20\n",
            "63/63 [==============================] - 0s 7ms/step - loss: 3.6708 - accuracy: 0.9765 - val_loss: 5.8191 - val_accuracy: 0.9720\n",
            "Epoch 3/20\n",
            "63/63 [==============================] - 0s 6ms/step - loss: 2.1168 - accuracy: 0.9840 - val_loss: 2.5947 - val_accuracy: 0.9800\n",
            "Epoch 4/20\n",
            "63/63 [==============================] - 0s 5ms/step - loss: 1.1537 - accuracy: 0.9885 - val_loss: 3.2172 - val_accuracy: 0.9790\n",
            "Epoch 5/20\n",
            "63/63 [==============================] - 0s 6ms/step - loss: 0.4059 - accuracy: 0.9940 - val_loss: 3.3614 - val_accuracy: 0.9790\n",
            "Epoch 6/20\n",
            "63/63 [==============================] - 0s 5ms/step - loss: 0.4251 - accuracy: 0.9935 - val_loss: 9.2260 - val_accuracy: 0.9550\n",
            "Epoch 7/20\n",
            "63/63 [==============================] - 0s 5ms/step - loss: 0.4515 - accuracy: 0.9935 - val_loss: 2.7508 - val_accuracy: 0.9830\n",
            "Epoch 8/20\n",
            "63/63 [==============================] - 0s 5ms/step - loss: 1.3394e-14 - accuracy: 1.0000 - val_loss: 2.7508 - val_accuracy: 0.9830\n",
            "Epoch 9/20\n",
            "63/63 [==============================] - 0s 5ms/step - loss: 0.4359 - accuracy: 0.9950 - val_loss: 6.3548 - val_accuracy: 0.9690\n",
            "Epoch 10/20\n",
            "63/63 [==============================] - 0s 6ms/step - loss: 0.4948 - accuracy: 0.9970 - val_loss: 5.8868 - val_accuracy: 0.9730\n",
            "Epoch 11/20\n",
            "63/63 [==============================] - 0s 7ms/step - loss: 0.7155 - accuracy: 0.9935 - val_loss: 8.7191 - val_accuracy: 0.9670\n",
            "Epoch 12/20\n",
            "63/63 [==============================] - 1s 8ms/step - loss: 0.1586 - accuracy: 0.9975 - val_loss: 4.1501 - val_accuracy: 0.9810\n",
            "Epoch 13/20\n",
            "63/63 [==============================] - 0s 7ms/step - loss: 0.0446 - accuracy: 0.9995 - val_loss: 5.6973 - val_accuracy: 0.9720\n",
            "Epoch 14/20\n",
            "63/63 [==============================] - 0s 8ms/step - loss: 1.0517 - accuracy: 0.9940 - val_loss: 7.1977 - val_accuracy: 0.9680\n",
            "Epoch 15/20\n",
            "63/63 [==============================] - 0s 7ms/step - loss: 0.0230 - accuracy: 0.9985 - val_loss: 5.1354 - val_accuracy: 0.9760\n",
            "Epoch 16/20\n",
            "63/63 [==============================] - 0s 5ms/step - loss: 7.9107e-28 - accuracy: 1.0000 - val_loss: 5.1354 - val_accuracy: 0.9760\n",
            "Epoch 17/20\n",
            "63/63 [==============================] - 0s 5ms/step - loss: 0.0034 - accuracy: 0.9995 - val_loss: 4.8881 - val_accuracy: 0.9750\n",
            "Epoch 18/20\n",
            "63/63 [==============================] - 0s 5ms/step - loss: 0.0338 - accuracy: 0.9990 - val_loss: 5.0561 - val_accuracy: 0.9750\n",
            "Epoch 19/20\n",
            "63/63 [==============================] - 0s 6ms/step - loss: 0.1619 - accuracy: 0.9980 - val_loss: 3.9014 - val_accuracy: 0.9780\n",
            "Epoch 20/20\n",
            "63/63 [==============================] - 0s 6ms/step - loss: 0.4950 - accuracy: 0.9985 - val_loss: 4.8341 - val_accuracy: 0.9780\n"
          ]
        }
      ],
      "source": [
        "# fit the densely connected classsifier\n",
        "history_wcb = model_without_conv_base.fit(\n",
        "    train_feature,train_labels,     # Q: How did we get train_features? A: By forward-passing the images through the conv base\n",
        "    epochs=20,\n",
        "    validation_data=(val_feature,val_labels),\n",
        "    callbacks =def_callbacks(\"feature_extraction.keras\")\n",
        ")"
      ]
    },
    {
      "cell_type": "markdown",
      "source": [
        "Plotting Accuracy and Loss vs Epochs"
      ],
      "metadata": {
        "id": "oGFxlJVrqZZd"
      }
    },
    {
      "cell_type": "code",
      "execution_count": 15,
      "metadata": {
        "id": "AwU7lbh_oML5",
        "outputId": "b998e249-db42-4186-85b2-19187d6f1bde",
        "colab": {
          "base_uri": "https://localhost:8080/",
          "height": 927
        }
      },
      "outputs": [
        {
          "output_type": "display_data",
          "data": {
            "text/plain": [
              "<Figure size 640x480 with 1 Axes>"
            ],
            "image/png": "[encoded data removed]"
          },
          "metadata": {}
        },
        {
          "output_type": "display_data",
          "data": {
            "text/plain": [
              "<Figure size 640x480 with 1 Axes>"
            ],
            "image/png": "[encoded data removed]"
          },
          "metadata": {}
        }
      ],
      "source": [
        "import pandas as pd\n",
        "data = pd.DataFrame(history_wcb.history)\n",
        "epochs = range(1,len(data)+1)\n",
        "plt.plot(epochs,data['accuracy'],'bo',label=\"Training accuracy\")\n",
        "plt.plot(epochs,data['val_accuracy'],'b',label=\"validation accuracy\")\n",
        "plt.legend()\n",
        "plt.xlabel(\"Epochs\")\n",
        "plt.ylabel(\"Accuracy\")\n",
        "plt.title(\"Accuracy vs Epochs\")\n",
        "plt.figure()\n",
        "plt.plot(epochs,data['loss'],'bo',label=\"Training Loss\")\n",
        "plt.plot(epochs,data['val_loss'],'b',label=\"validation Loss\")\n",
        "plt.legend()\n",
        "plt.xlabel(\"Epochs\")\n",
        "plt.ylabel(\"Loss\")\n",
        "plt.title(\"Loss vs Epochs\")\n",
        "\n",
        "plt.show()"
      ]
    },
    {
      "cell_type": "code",
      "execution_count": 16,
      "metadata": {
        "id": "8ohA0fCso6v3",
        "outputId": "98047dcf-96b5-4e77-be84-644479e6eba3",
        "colab": {
          "base_uri": "https://localhost:8080/"
        }
      },
      "outputs": [
        {
          "output_type": "stream",
          "name": "stdout",
          "text": [
            "63/63 [==============================] - 0s 3ms/step - loss: 4.0679 - accuracy: 0.9750\n",
            "Test accuracy:0.975\n"
          ]
        }
      ],
      "source": [
        "test_model = load_model(\"feature_extraction.keras\")\n",
        "test_loss, test_acc = test_model.evaluate(test_feature,test_labels)\n",
        "print(f\"Test accuracy:{test_acc:.3f}\")"
      ]
    },
    {
      "cell_type": "markdown",
      "metadata": {
        "id": "w5h2ONkvyZ2c"
      },
      "source": [
        "The pretrained conv base + newly trained classification head has achieved roughly **97%** accuracy!\n",
        "\n",
        "Remember, for convnet_from_scratch_with_data_augmentation, it was ~ 85%\n",
        "\n",
        "For convnet_from_scratch, it was ~ 70%"
      ]
    },
    {
      "cell_type": "markdown",
      "metadata": {
        "id": "TpBJf_wrzSTf"
      },
      "source": [
        "## Fine tuning"
      ]
    },
    {
      "cell_type": "markdown",
      "metadata": {
        "id": "0DrZOdGXzVBN"
      },
      "source": [
        "The key idea here is to fine tune some top layers of the conv base as well.\n",
        "\n",
        "We do so by freezing most of the bottom layers, leaving only a few top layers to train. Lets see:"
      ]
    },
    {
      "cell_type": "code",
      "execution_count": 17,
      "metadata": {
        "id": "kTjJMKK2zr5_"
      },
      "outputs": [],
      "source": [
        "# Load the convolutional base\n",
        "conv_base = VGG16(\n",
        "    weights = \"imagenet\",\n",
        "    include_top = False, # Don't re-use the classifier (top layers)\n",
        "    input_shape = (180,180,3)\n",
        ")"
      ]
    },
    {
      "cell_type": "code",
      "source": [
        "#Define the model\n",
        "inputs = Input(shape=(180, 180, 3))\n",
        "# x = data_augmentation(inputs)\n",
        "x = preprocess_input(inputs)\n",
        "x = conv_base(x)\n",
        "x = Flatten()(x)\n",
        "x = Dense(256)(x)\n",
        "x = Dropout(0.5)(x)\n",
        "outputs = Dense(1, activation=\"sigmoid\")(x)\n",
        "model = Model(inputs, outputs)"
      ],
      "metadata": {
        "id": "B75ct3dqmibj"
      },
      "execution_count": 18,
      "outputs": []
    },
    {
      "cell_type": "code",
      "source": [
        "from tensorflow.keras.optimizers import RMSprop"
      ],
      "metadata": {
        "id": "B9dnMykRt2vh"
      },
      "execution_count": 19,
      "outputs": []
    },
    {
      "cell_type": "code",
      "source": [
        "#Freezing all layers until the fourth from the last\n",
        "conv_base.trainable = True\n",
        "for layer in conv_base.layers[:-4]:   #[1,2,3,4,5,6,7,8,9]\n",
        "    layer.trainable = False\n",
        "\n",
        "#  Model compilation and summary\n",
        "model.compile(loss=\"binary_crossentropy\",\n",
        "              optimizer=RMSprop(learning_rate=1e-5), # use low learning rate to not vary the weights drastically\n",
        "              metrics=[\"accuracy\"])\n",
        "\n",
        "model.summary()"
      ],
      "metadata": {
        "id": "NQ387fN1mooT",
        "outputId": "96d606ee-0d8f-4df9-95cb-1d823f138de1",
        "colab": {
          "base_uri": "https://localhost:8080/"
        }
      },
      "execution_count": 20,
      "outputs": [
        {
          "output_type": "stream",
          "name": "stdout",
          "text": [
            "Model: \"model_1\"\n",
            "_________________________________________________________________\n",
            " Layer (type)                Output Shape              Param #   \n",
            "=================================================================\n",
            " input_4 (InputLayer)        [(None, 180, 180, 3)]     0         \n",
            "                                                                 \n",
            " tf.__operators__.getitem (S  (None, 180, 180, 3)      0         \n",
            " licingOpLambda)                                                 \n",
            "                                                                 \n",
            " tf.nn.bias_add (TFOpLambda)  (None, 180, 180, 3)      0         \n",
            "                                                                 \n",
            " vgg16 (Functional)          (None, 5, 5, 512)         14714688  \n",
            "                                                                 \n",
            " flatten_1 (Flatten)         (None, 12800)             0         \n",
            "                                                                 \n",
            " dense_2 (Dense)             (None, 256)               3277056   \n",
            "                                                                 \n",
            " dropout_1 (Dropout)         (None, 256)               0         \n",
            "                                                                 \n",
            " dense_3 (Dense)             (None, 1)                 257       \n",
            "                                                                 \n",
            "=================================================================\n",
            "Total params: 17,992,001\n",
            "Trainable params: 10,356,737\n",
            "Non-trainable params: 7,635,264\n",
            "_________________________________________________________________\n"
          ]
        }
      ]
    },
    {
      "cell_type": "code",
      "source": [
        "## Callback function\n",
        "callbacks = [ModelCheckpoint(filepath=\"fine_tuning.keras\", save_best_only=True, monitor=\"val_loss\")]"
      ],
      "metadata": {
        "id": "BhI6SuYim0Hi"
      },
      "execution_count": 21,
      "outputs": []
    },
    {
      "cell_type": "code",
      "source": [
        "## Training\n",
        "history = model.fit(train_dataset, epochs=30, validation_data=validation_dataset, callbacks=callbacks)"
      ],
      "metadata": {
        "id": "S_SJzWbGnQUc",
        "outputId": "50b4e28a-bfc2-4503-da1e-99510aaf99a6",
        "colab": {
          "base_uri": "https://localhost:8080/"
        }
      },
      "execution_count": 22,
      "outputs": [
        {
          "output_type": "stream",
          "name": "stdout",
          "text": [
            "Epoch 1/30\n",
            "63/63 [==============================] - 13s 158ms/step - loss: 4.0923 - accuracy: 0.8080 - val_loss: 0.9166 - val_accuracy: 0.9210\n",
            "Epoch 2/30\n",
            "63/63 [==============================] - 10s 154ms/step - loss: 0.8909 - accuracy: 0.9280 - val_loss: 0.6173 - val_accuracy: 0.9370\n",
            "Epoch 3/30\n",
            "63/63 [==============================] - 10s 152ms/step - loss: 0.3608 - accuracy: 0.9620 - val_loss: 0.5517 - val_accuracy: 0.9490\n",
            "Epoch 4/30\n",
            "63/63 [==============================] - 10s 153ms/step - loss: 0.1749 - accuracy: 0.9790 - val_loss: 0.4922 - val_accuracy: 0.9550\n",
            "Epoch 5/30\n",
            "63/63 [==============================] - 10s 154ms/step - loss: 0.1070 - accuracy: 0.9860 - val_loss: 0.4612 - val_accuracy: 0.9660\n",
            "Epoch 6/30\n",
            "63/63 [==============================] - 10s 156ms/step - loss: 0.0775 - accuracy: 0.9910 - val_loss: 0.4426 - val_accuracy: 0.9670\n",
            "Epoch 7/30\n",
            "63/63 [==============================] - 10s 156ms/step - loss: 0.0324 - accuracy: 0.9935 - val_loss: 0.4383 - val_accuracy: 0.9640\n",
            "Epoch 8/30\n",
            "63/63 [==============================] - 10s 154ms/step - loss: 0.0348 - accuracy: 0.9940 - val_loss: 0.4683 - val_accuracy: 0.9620\n",
            "Epoch 9/30\n",
            "63/63 [==============================] - 12s 189ms/step - loss: 0.0435 - accuracy: 0.9935 - val_loss: 0.4188 - val_accuracy: 0.9660\n",
            "Epoch 10/30\n",
            "63/63 [==============================] - 10s 152ms/step - loss: 0.0181 - accuracy: 0.9945 - val_loss: 0.4539 - val_accuracy: 0.9650\n",
            "Epoch 11/30\n",
            "63/63 [==============================] - 10s 152ms/step - loss: 0.0055 - accuracy: 0.9985 - val_loss: 0.4425 - val_accuracy: 0.9670\n",
            "Epoch 12/30\n",
            "63/63 [==============================] - 10s 156ms/step - loss: 0.0272 - accuracy: 0.9960 - val_loss: 0.4331 - val_accuracy: 0.9650\n",
            "Epoch 13/30\n",
            "63/63 [==============================] - 10s 159ms/step - loss: 0.0317 - accuracy: 0.9975 - val_loss: 0.4116 - val_accuracy: 0.9680\n",
            "Epoch 14/30\n",
            "63/63 [==============================] - 10s 156ms/step - loss: 0.0044 - accuracy: 0.9975 - val_loss: 0.4656 - val_accuracy: 0.9630\n",
            "Epoch 15/30\n",
            "63/63 [==============================] - 10s 157ms/step - loss: 0.0156 - accuracy: 0.9980 - val_loss: 0.5305 - val_accuracy: 0.9590\n",
            "Epoch 16/30\n",
            "63/63 [==============================] - 12s 187ms/step - loss: 0.0141 - accuracy: 0.9975 - val_loss: 0.4464 - val_accuracy: 0.9660\n",
            "Epoch 17/30\n",
            "63/63 [==============================] - 10s 156ms/step - loss: 0.0175 - accuracy: 0.9985 - val_loss: 0.4318 - val_accuracy: 0.9650\n",
            "Epoch 18/30\n",
            "63/63 [==============================] - 10s 156ms/step - loss: 0.0129 - accuracy: 0.9975 - val_loss: 0.4701 - val_accuracy: 0.9630\n",
            "Epoch 19/30\n",
            "63/63 [==============================] - 10s 157ms/step - loss: 0.0187 - accuracy: 0.9985 - val_loss: 0.5180 - val_accuracy: 0.9640\n",
            "Epoch 20/30\n",
            "63/63 [==============================] - 10s 159ms/step - loss: 0.0128 - accuracy: 0.9980 - val_loss: 0.4547 - val_accuracy: 0.9660\n",
            "Epoch 21/30\n",
            "63/63 [==============================] - 12s 188ms/step - loss: 0.0051 - accuracy: 0.9985 - val_loss: 0.4344 - val_accuracy: 0.9690\n",
            "Epoch 22/30\n",
            "63/63 [==============================] - 12s 188ms/step - loss: 0.0034 - accuracy: 0.9990 - val_loss: 0.4403 - val_accuracy: 0.9640\n",
            "Epoch 23/30\n",
            "63/63 [==============================] - 10s 156ms/step - loss: 0.0092 - accuracy: 0.9980 - val_loss: 0.4122 - val_accuracy: 0.9690\n",
            "Epoch 24/30\n",
            "63/63 [==============================] - 10s 156ms/step - loss: 0.0060 - accuracy: 0.9985 - val_loss: 0.4204 - val_accuracy: 0.9690\n",
            "Epoch 25/30\n",
            "63/63 [==============================] - 10s 158ms/step - loss: 2.9083e-05 - accuracy: 1.0000 - val_loss: 0.4146 - val_accuracy: 0.9670\n",
            "Epoch 26/30\n",
            "63/63 [==============================] - 10s 158ms/step - loss: 0.0057 - accuracy: 0.9990 - val_loss: 0.4533 - val_accuracy: 0.9650\n",
            "Epoch 27/30\n",
            "63/63 [==============================] - 10s 159ms/step - loss: 0.0069 - accuracy: 0.9985 - val_loss: 0.5264 - val_accuracy: 0.9630\n",
            "Epoch 28/30\n",
            "63/63 [==============================] - 10s 163ms/step - loss: 6.0231e-05 - accuracy: 1.0000 - val_loss: 0.3996 - val_accuracy: 0.9710\n",
            "Epoch 29/30\n",
            "63/63 [==============================] - 12s 190ms/step - loss: 1.0711e-04 - accuracy: 1.0000 - val_loss: 0.3921 - val_accuracy: 0.9710\n",
            "Epoch 30/30\n",
            "63/63 [==============================] - 12s 191ms/step - loss: 5.9586e-04 - accuracy: 0.9995 - val_loss: 0.3782 - val_accuracy: 0.9680\n"
          ]
        }
      ]
    },
    {
      "cell_type": "code",
      "source": [
        "## Evaluation\n",
        "model = load_model(\"fine_tuning.keras\")\n",
        "test_loss, test_acc = model.evaluate(test_dataset)\n",
        "print(f\"Test accuracy: {test_acc:.3f}\")\n",
        "\n",
        "# OPTIONAL EXERCISE: plot the losses by using appropriate callbacks and tensorboard"
      ],
      "metadata": {
        "id": "F6L_SQlHnJj0",
        "outputId": "d43125b8-0331-420c-b79b-081ab6d168c5",
        "colab": {
          "base_uri": "https://localhost:8080/"
        }
      },
      "execution_count": 23,
      "outputs": [
        {
          "output_type": "stream",
          "name": "stdout",
          "text": [
            "63/63 [==============================] - 6s 90ms/step - loss: 0.4797 - accuracy: 0.9685\n",
            "Test accuracy: 0.969\n"
          ]
        }
      ]
    },
    {
      "cell_type": "markdown",
      "metadata": {
        "id": "UBFUlWZwpMt5"
      },
      "source": [
        "# Using already run and saved models\n",
        "\n",
        "For this save the model checkpoints in your drive (download the checkpoints and save to drive) give that path while loading. \n",
        "\n",
        "Mount your G drive:"
      ]
    },
    {
      "cell_type": "code",
      "execution_count": 24,
      "metadata": {
        "id": "qhrep95RpQ9B",
        "outputId": "ccb0372b-6cc7-49e7-dfde-d5a39544ba13",
        "colab": {
          "base_uri": "https://localhost:8080/"
        }
      },
      "outputs": [
        {
          "output_type": "stream",
          "name": "stdout",
          "text": [
            "Mounted at /content/drive\n",
            "/content/drive/My Drive\n"
          ]
        }
      ],
      "source": [
        "from google.colab import drive\n",
        "drive.mount('/content/drive')\n",
        "%cd \"/content/drive/My Drive/\""
      ]
    },
    {
      "cell_type": "markdown",
      "source": [
        "For example, you downloaded the 'feature_extraction. keras' model and saved it in your drive inside a folder named 'model'. You can load it here like this: \n",
        "\n",
        "    model_saved_1 = load_model('/content/drive/MyDrive/model/feature_extraction.keras')"
      ],
      "metadata": {
        "id": "DC4PNMZGvOgo"
      }
    },
    {
      "cell_type": "markdown",
      "source": [
        " In this case the file path is simply : '/content/feature_extraction.keras'"
      ],
      "metadata": {
        "id": "N4fBwcIYudkJ"
      }
    },
    {
      "cell_type": "code",
      "execution_count": 25,
      "metadata": {
        "id": "zoNajzD7pntO"
      },
      "outputs": [],
      "source": [
        "model_fewa = load_model('/content/feature_extraction.keras')"
      ]
    },
    {
      "cell_type": "code",
      "execution_count": 26,
      "metadata": {
        "id": "2dky0dGDqoew",
        "outputId": "67ca54ab-9d63-4f08-8f07-c991554c3fc2",
        "colab": {
          "base_uri": "https://localhost:8080/"
        }
      },
      "outputs": [
        {
          "output_type": "stream",
          "name": "stdout",
          "text": [
            "63/63 [==============================] - 0s 3ms/step - loss: 4.0679 - accuracy: 0.9750\n",
            "Test accuracy is:0.975\n"
          ]
        }
      ],
      "source": [
        "test_loss, test_acc = model_fewa.evaluate(test_feature, test_labels)\n",
        "print(f\"Test accuracy is:{test_acc:.3f}\")"
      ]
    },
    {
      "cell_type": "markdown",
      "metadata": {
        "id": "FzD_PIikOtew"
      },
      "source": [
        "Great! feature_extraction model has achieved **97%** accuracy!"
      ]
    }
  ]
}