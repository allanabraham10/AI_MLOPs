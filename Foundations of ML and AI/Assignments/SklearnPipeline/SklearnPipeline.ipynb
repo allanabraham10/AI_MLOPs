{
 "cells": [
  {
   "cell_type": "markdown",
   "metadata": {
    "id": "BNLA8HiKxQhc"
   },
   "source": [
    "### Setup Steps:"
   ]
  },
  {
   "cell_type": "code",
   "execution_count": 1,
   "metadata": {
    "cellView": "form",
    "id": "XJhGvW0ToAuO"
   },
   "outputs": [
    {
     "name": "stdout",
     "output_type": "stream",
     "text": [
      "Data downloaded successfully!\n"
     ]
    }
   ],
   "source": [
    "#@title Download Data\n",
    "!wget -qq https://cdn.iisc.talentsprint.com/AIandMLOps/Datasets/Acoustic_Extinguisher_Fire_Dataset.xlsx\n",
    "print(\"Data downloaded successfully!\")"
   ]
  },
  {
   "cell_type": "markdown",
   "metadata": {
    "id": "69RDKc0Rq6Le"
   },
   "source": [
    "### Import Required Packages"
   ]
  },
  {
   "cell_type": "code",
   "execution_count": 2,
   "metadata": {
    "id": "88_C4BgAFCH2"
   },
   "outputs": [],
   "source": [
    "import pandas as pd\n",
    "import numpy as np\n",
    "import matplotlib.pyplot as plt                                 # For plotting data\n",
    "import seaborn as sns                                           # For plotting data\n",
    "from sklearn.model_selection import train_test_split            # For train/test splits\n",
    "from sklearn.neighbors import KNeighborsClassifier              # The k-nearest neighbor classifier\n",
    "from sklearn.feature_selection import VarianceThreshold         # Feature selector\n",
    "from sklearn.pipeline import Pipeline                           # For setting up pipeline\n",
    "\n",
    "# Various pre-processing steps\n",
    "from sklearn.preprocessing import Normalizer, StandardScaler, MinMaxScaler, PowerTransformer, MaxAbsScaler, LabelEncoder, OrdinalEncoder\n",
    "from sklearn.model_selection import GridSearchCV                # For optimization\n",
    "\n",
    "# To supress warnings\n",
    "import warnings\n",
    "warnings.filterwarnings(\"ignore\")"
   ]
  },
  {
   "cell_type": "markdown",
   "metadata": {
    "id": "49YbZU_erJn4"
   },
   "source": [
    "### Load the Dataset"
   ]
  },
  {
   "cell_type": "code",
   "execution_count": 3,
   "metadata": {
    "id": "69at-tNsTDcC"
   },
   "outputs": [
    {
     "data": {
      "text/plain": [
       "(17442, 7)"
      ]
     },
     "execution_count": 3,
     "metadata": {},
     "output_type": "execute_result"
    }
   ],
   "source": [
    "df = pd.read_excel('Acoustic_Extinguisher_Fire_Dataset.xlsx', sheet_name='A_E_Fire_Dataset')\n",
    "# Shape of dataframe\n",
    "df.shape"
   ]
  },
  {
   "cell_type": "markdown",
   "metadata": {
    "id": "H53GhbkwrQMw"
   },
   "source": [
    "### Data Exploration"
   ]
  },
  {
   "cell_type": "code",
   "execution_count": 4,
   "metadata": {
    "id": "oefdmDE_UiCc"
   },
   "outputs": [
    {
     "data": {
      "text/html": [
       "<div>\n",
       "<style scoped>\n",
       "    .dataframe tbody tr th:only-of-type {\n",
       "        vertical-align: middle;\n",
       "    }\n",
       "\n",
       "    .dataframe tbody tr th {\n",
       "        vertical-align: top;\n",
       "    }\n",
       "\n",
       "    .dataframe thead th {\n",
       "        text-align: right;\n",
       "    }\n",
       "</style>\n",
       "<table border=\"1\" class=\"dataframe\">\n",
       "  <thead>\n",
       "    <tr style=\"text-align: right;\">\n",
       "      <th></th>\n",
       "      <th>SIZE</th>\n",
       "      <th>FUEL</th>\n",
       "      <th>DISTANCE</th>\n",
       "      <th>DESIBEL</th>\n",
       "      <th>AIRFLOW</th>\n",
       "      <th>FREQUENCY</th>\n",
       "      <th>STATUS</th>\n",
       "    </tr>\n",
       "  </thead>\n",
       "  <tbody>\n",
       "    <tr>\n",
       "      <th>0</th>\n",
       "      <td>1</td>\n",
       "      <td>gasoline</td>\n",
       "      <td>10</td>\n",
       "      <td>96</td>\n",
       "      <td>0.0</td>\n",
       "      <td>75</td>\n",
       "      <td>0</td>\n",
       "    </tr>\n",
       "    <tr>\n",
       "      <th>1</th>\n",
       "      <td>1</td>\n",
       "      <td>gasoline</td>\n",
       "      <td>10</td>\n",
       "      <td>96</td>\n",
       "      <td>0.0</td>\n",
       "      <td>72</td>\n",
       "      <td>1</td>\n",
       "    </tr>\n",
       "    <tr>\n",
       "      <th>2</th>\n",
       "      <td>1</td>\n",
       "      <td>gasoline</td>\n",
       "      <td>10</td>\n",
       "      <td>96</td>\n",
       "      <td>2.6</td>\n",
       "      <td>70</td>\n",
       "      <td>1</td>\n",
       "    </tr>\n",
       "    <tr>\n",
       "      <th>3</th>\n",
       "      <td>1</td>\n",
       "      <td>gasoline</td>\n",
       "      <td>10</td>\n",
       "      <td>96</td>\n",
       "      <td>3.2</td>\n",
       "      <td>68</td>\n",
       "      <td>1</td>\n",
       "    </tr>\n",
       "    <tr>\n",
       "      <th>4</th>\n",
       "      <td>1</td>\n",
       "      <td>gasoline</td>\n",
       "      <td>10</td>\n",
       "      <td>109</td>\n",
       "      <td>4.5</td>\n",
       "      <td>67</td>\n",
       "      <td>1</td>\n",
       "    </tr>\n",
       "    <tr>\n",
       "      <th>5</th>\n",
       "      <td>1</td>\n",
       "      <td>gasoline</td>\n",
       "      <td>10</td>\n",
       "      <td>109</td>\n",
       "      <td>7.8</td>\n",
       "      <td>66</td>\n",
       "      <td>1</td>\n",
       "    </tr>\n",
       "    <tr>\n",
       "      <th>6</th>\n",
       "      <td>1</td>\n",
       "      <td>gasoline</td>\n",
       "      <td>10</td>\n",
       "      <td>103</td>\n",
       "      <td>9.7</td>\n",
       "      <td>65</td>\n",
       "      <td>1</td>\n",
       "    </tr>\n",
       "    <tr>\n",
       "      <th>7</th>\n",
       "      <td>1</td>\n",
       "      <td>gasoline</td>\n",
       "      <td>10</td>\n",
       "      <td>95</td>\n",
       "      <td>12.0</td>\n",
       "      <td>60</td>\n",
       "      <td>1</td>\n",
       "    </tr>\n",
       "  </tbody>\n",
       "</table>\n",
       "</div>"
      ],
      "text/plain": [
       "   SIZE      FUEL  DISTANCE  DESIBEL  AIRFLOW  FREQUENCY  STATUS\n",
       "0     1  gasoline        10       96      0.0         75       0\n",
       "1     1  gasoline        10       96      0.0         72       1\n",
       "2     1  gasoline        10       96      2.6         70       1\n",
       "3     1  gasoline        10       96      3.2         68       1\n",
       "4     1  gasoline        10      109      4.5         67       1\n",
       "5     1  gasoline        10      109      7.8         66       1\n",
       "6     1  gasoline        10      103      9.7         65       1\n",
       "7     1  gasoline        10       95     12.0         60       1"
      ]
     },
     "execution_count": 4,
     "metadata": {},
     "output_type": "execute_result"
    }
   ],
   "source": [
    "# Show first few rows of dataframe\n",
    "df.head(8)"
   ]
  },
  {
   "cell_type": "markdown",
   "metadata": {
    "id": "PVIuNmCPsDNn"
   },
   "source": [
    "From above it can be seen that:\n",
    "\n",
    "- There are 6 independent variables\n",
    "- `FUEL` is a categorical feature\n",
    "- Every other feature is numerical\n",
    "- `STATUS` is the dependent variable\n",
    "- It is a binary classification problem"
   ]
  },
  {
   "cell_type": "markdown",
   "metadata": {
    "id": "8ot-_opHsraf"
   },
   "source": [
    "### Segregating the dataframe into independent and dependent features"
   ]
  },
  {
   "cell_type": "code",
   "execution_count": 5,
   "metadata": {
    "id": "4xcV5GOXcDT7"
   },
   "outputs": [
    {
     "data": {
      "text/plain": [
       "((17442, 6), (17442, 1))"
      ]
     },
     "execution_count": 5,
     "metadata": {},
     "output_type": "execute_result"
    }
   ],
   "source": [
    "# The data matrix X\n",
    "X = df.iloc[:, :-1]\n",
    "# The labels\n",
    "y = (df.iloc[:,-1:])\n",
    "\n",
    "X.shape, y.shape"
   ]
  },
  {
   "cell_type": "code",
   "execution_count": 6,
   "metadata": {
    "id": "GHGQcdQAdth6"
   },
   "outputs": [
    {
     "data": {
      "text/html": [
       "<div>\n",
       "<style scoped>\n",
       "    .dataframe tbody tr th:only-of-type {\n",
       "        vertical-align: middle;\n",
       "    }\n",
       "\n",
       "    .dataframe tbody tr th {\n",
       "        vertical-align: top;\n",
       "    }\n",
       "\n",
       "    .dataframe thead th {\n",
       "        text-align: right;\n",
       "    }\n",
       "</style>\n",
       "<table border=\"1\" class=\"dataframe\">\n",
       "  <thead>\n",
       "    <tr style=\"text-align: right;\">\n",
       "      <th></th>\n",
       "      <th>SIZE</th>\n",
       "      <th>FUEL</th>\n",
       "      <th>DISTANCE</th>\n",
       "      <th>DESIBEL</th>\n",
       "      <th>AIRFLOW</th>\n",
       "      <th>FREQUENCY</th>\n",
       "    </tr>\n",
       "  </thead>\n",
       "  <tbody>\n",
       "    <tr>\n",
       "      <th>0</th>\n",
       "      <td>1</td>\n",
       "      <td>gasoline</td>\n",
       "      <td>10</td>\n",
       "      <td>96</td>\n",
       "      <td>0.0</td>\n",
       "      <td>75</td>\n",
       "    </tr>\n",
       "    <tr>\n",
       "      <th>1</th>\n",
       "      <td>1</td>\n",
       "      <td>gasoline</td>\n",
       "      <td>10</td>\n",
       "      <td>96</td>\n",
       "      <td>0.0</td>\n",
       "      <td>72</td>\n",
       "    </tr>\n",
       "    <tr>\n",
       "      <th>2</th>\n",
       "      <td>1</td>\n",
       "      <td>gasoline</td>\n",
       "      <td>10</td>\n",
       "      <td>96</td>\n",
       "      <td>2.6</td>\n",
       "      <td>70</td>\n",
       "    </tr>\n",
       "    <tr>\n",
       "      <th>3</th>\n",
       "      <td>1</td>\n",
       "      <td>gasoline</td>\n",
       "      <td>10</td>\n",
       "      <td>96</td>\n",
       "      <td>3.2</td>\n",
       "      <td>68</td>\n",
       "    </tr>\n",
       "    <tr>\n",
       "      <th>4</th>\n",
       "      <td>1</td>\n",
       "      <td>gasoline</td>\n",
       "      <td>10</td>\n",
       "      <td>109</td>\n",
       "      <td>4.5</td>\n",
       "      <td>67</td>\n",
       "    </tr>\n",
       "    <tr>\n",
       "      <th>...</th>\n",
       "      <td>...</td>\n",
       "      <td>...</td>\n",
       "      <td>...</td>\n",
       "      <td>...</td>\n",
       "      <td>...</td>\n",
       "      <td>...</td>\n",
       "    </tr>\n",
       "    <tr>\n",
       "      <th>17437</th>\n",
       "      <td>7</td>\n",
       "      <td>lpg</td>\n",
       "      <td>190</td>\n",
       "      <td>86</td>\n",
       "      <td>2.2</td>\n",
       "      <td>5</td>\n",
       "    </tr>\n",
       "    <tr>\n",
       "      <th>17438</th>\n",
       "      <td>7</td>\n",
       "      <td>lpg</td>\n",
       "      <td>190</td>\n",
       "      <td>84</td>\n",
       "      <td>2.0</td>\n",
       "      <td>4</td>\n",
       "    </tr>\n",
       "    <tr>\n",
       "      <th>17439</th>\n",
       "      <td>7</td>\n",
       "      <td>lpg</td>\n",
       "      <td>190</td>\n",
       "      <td>80</td>\n",
       "      <td>1.5</td>\n",
       "      <td>3</td>\n",
       "    </tr>\n",
       "    <tr>\n",
       "      <th>17440</th>\n",
       "      <td>7</td>\n",
       "      <td>lpg</td>\n",
       "      <td>190</td>\n",
       "      <td>76</td>\n",
       "      <td>0.4</td>\n",
       "      <td>2</td>\n",
       "    </tr>\n",
       "    <tr>\n",
       "      <th>17441</th>\n",
       "      <td>7</td>\n",
       "      <td>lpg</td>\n",
       "      <td>190</td>\n",
       "      <td>72</td>\n",
       "      <td>0.0</td>\n",
       "      <td>1</td>\n",
       "    </tr>\n",
       "  </tbody>\n",
       "</table>\n",
       "<p>17442 rows × 6 columns</p>\n",
       "</div>"
      ],
      "text/plain": [
       "       SIZE      FUEL  DISTANCE  DESIBEL  AIRFLOW  FREQUENCY\n",
       "0         1  gasoline        10       96      0.0         75\n",
       "1         1  gasoline        10       96      0.0         72\n",
       "2         1  gasoline        10       96      2.6         70\n",
       "3         1  gasoline        10       96      3.2         68\n",
       "4         1  gasoline        10      109      4.5         67\n",
       "...     ...       ...       ...      ...      ...        ...\n",
       "17437     7       lpg       190       86      2.2          5\n",
       "17438     7       lpg       190       84      2.0          4\n",
       "17439     7       lpg       190       80      1.5          3\n",
       "17440     7       lpg       190       76      0.4          2\n",
       "17441     7       lpg       190       72      0.0          1\n",
       "\n",
       "[17442 rows x 6 columns]"
      ]
     },
     "execution_count": 6,
     "metadata": {},
     "output_type": "execute_result"
    }
   ],
   "source": [
    "# Independent features\n",
    "X"
   ]
  },
  {
   "cell_type": "markdown",
   "metadata": {
    "id": "ifhK8xQhtC2N"
   },
   "source": [
    "### Exploring the unique categories in categorical feature"
   ]
  },
  {
   "cell_type": "code",
   "execution_count": 7,
   "metadata": {
    "id": "K4r1aHQtfibA"
   },
   "outputs": [
    {
     "data": {
      "text/plain": [
       "gasoline    5130\n",
       "thinner     5130\n",
       "kerosene    5130\n",
       "lpg         2052\n",
       "Name: FUEL, dtype: int64"
      ]
     },
     "execution_count": 7,
     "metadata": {},
     "output_type": "execute_result"
    }
   ],
   "source": [
    "# Unique values in FUEL column\n",
    "X['FUEL'].value_counts()"
   ]
  },
  {
   "cell_type": "code",
   "execution_count": 8,
   "metadata": {
    "id": "9tPMhs0YvnAP"
   },
   "outputs": [
    {
     "data": {
      "image/png": "[encoded data removed]",
      "text/plain": [
       "<Figure size 640x480 with 1 Axes>"
      ]
     },
     "metadata": {},
     "output_type": "display_data"
    }
   ],
   "source": [
    "# Plot unique values in FUEL column\n",
    "uniques = X['FUEL'].value_counts()\n",
    "sns.barplot(x = uniques.index, y = uniques.values)\n",
    "plt.xlabel(\"FUEL type\")\n",
    "plt.ylabel(\"Values\")\n",
    "plt.show()"
   ]
  },
  {
   "cell_type": "markdown",
   "metadata": {
    "id": "CMhEIvL-kCSA"
   },
   "source": [
    "### Encoding the Categorical Feature"
   ]
  },
  {
   "cell_type": "code",
   "execution_count": 9,
   "metadata": {
    "id": "nLEf_IV8kAEW"
   },
   "outputs": [],
   "source": [
    "# Ordinal encode input variable\n",
    "ordinal = OrdinalEncoder()\n",
    "X['FUEL'] = ordinal.fit_transform(X[['FUEL']])"
   ]
  },
  {
   "cell_type": "code",
   "execution_count": 10,
   "metadata": {
    "id": "VDEmTnxG0Dvh"
   },
   "outputs": [
    {
     "data": {
      "text/html": [
       "<div>\n",
       "<style scoped>\n",
       "    .dataframe tbody tr th:only-of-type {\n",
       "        vertical-align: middle;\n",
       "    }\n",
       "\n",
       "    .dataframe tbody tr th {\n",
       "        vertical-align: top;\n",
       "    }\n",
       "\n",
       "    .dataframe thead th {\n",
       "        text-align: right;\n",
       "    }\n",
       "</style>\n",
       "<table border=\"1\" class=\"dataframe\">\n",
       "  <thead>\n",
       "    <tr style=\"text-align: right;\">\n",
       "      <th></th>\n",
       "      <th>SIZE</th>\n",
       "      <th>FUEL</th>\n",
       "      <th>DISTANCE</th>\n",
       "      <th>DESIBEL</th>\n",
       "      <th>AIRFLOW</th>\n",
       "      <th>FREQUENCY</th>\n",
       "    </tr>\n",
       "  </thead>\n",
       "  <tbody>\n",
       "    <tr>\n",
       "      <th>17332</th>\n",
       "      <td>7</td>\n",
       "      <td>2.0</td>\n",
       "      <td>170</td>\n",
       "      <td>78</td>\n",
       "      <td>1.4</td>\n",
       "      <td>2</td>\n",
       "    </tr>\n",
       "    <tr>\n",
       "      <th>17333</th>\n",
       "      <td>7</td>\n",
       "      <td>2.0</td>\n",
       "      <td>170</td>\n",
       "      <td>76</td>\n",
       "      <td>0.0</td>\n",
       "      <td>1</td>\n",
       "    </tr>\n",
       "    <tr>\n",
       "      <th>17334</th>\n",
       "      <td>7</td>\n",
       "      <td>2.0</td>\n",
       "      <td>180</td>\n",
       "      <td>104</td>\n",
       "      <td>0.0</td>\n",
       "      <td>75</td>\n",
       "    </tr>\n",
       "    <tr>\n",
       "      <th>17335</th>\n",
       "      <td>7</td>\n",
       "      <td>2.0</td>\n",
       "      <td>180</td>\n",
       "      <td>97</td>\n",
       "      <td>0.0</td>\n",
       "      <td>72</td>\n",
       "    </tr>\n",
       "    <tr>\n",
       "      <th>17336</th>\n",
       "      <td>7</td>\n",
       "      <td>2.0</td>\n",
       "      <td>180</td>\n",
       "      <td>96</td>\n",
       "      <td>0.0</td>\n",
       "      <td>70</td>\n",
       "    </tr>\n",
       "    <tr>\n",
       "      <th>...</th>\n",
       "      <td>...</td>\n",
       "      <td>...</td>\n",
       "      <td>...</td>\n",
       "      <td>...</td>\n",
       "      <td>...</td>\n",
       "      <td>...</td>\n",
       "    </tr>\n",
       "    <tr>\n",
       "      <th>17437</th>\n",
       "      <td>7</td>\n",
       "      <td>2.0</td>\n",
       "      <td>190</td>\n",
       "      <td>86</td>\n",
       "      <td>2.2</td>\n",
       "      <td>5</td>\n",
       "    </tr>\n",
       "    <tr>\n",
       "      <th>17438</th>\n",
       "      <td>7</td>\n",
       "      <td>2.0</td>\n",
       "      <td>190</td>\n",
       "      <td>84</td>\n",
       "      <td>2.0</td>\n",
       "      <td>4</td>\n",
       "    </tr>\n",
       "    <tr>\n",
       "      <th>17439</th>\n",
       "      <td>7</td>\n",
       "      <td>2.0</td>\n",
       "      <td>190</td>\n",
       "      <td>80</td>\n",
       "      <td>1.5</td>\n",
       "      <td>3</td>\n",
       "    </tr>\n",
       "    <tr>\n",
       "      <th>17440</th>\n",
       "      <td>7</td>\n",
       "      <td>2.0</td>\n",
       "      <td>190</td>\n",
       "      <td>76</td>\n",
       "      <td>0.4</td>\n",
       "      <td>2</td>\n",
       "    </tr>\n",
       "    <tr>\n",
       "      <th>17441</th>\n",
       "      <td>7</td>\n",
       "      <td>2.0</td>\n",
       "      <td>190</td>\n",
       "      <td>72</td>\n",
       "      <td>0.0</td>\n",
       "      <td>1</td>\n",
       "    </tr>\n",
       "  </tbody>\n",
       "</table>\n",
       "<p>110 rows × 6 columns</p>\n",
       "</div>"
      ],
      "text/plain": [
       "       SIZE  FUEL  DISTANCE  DESIBEL  AIRFLOW  FREQUENCY\n",
       "17332     7   2.0       170       78      1.4          2\n",
       "17333     7   2.0       170       76      0.0          1\n",
       "17334     7   2.0       180      104      0.0         75\n",
       "17335     7   2.0       180       97      0.0         72\n",
       "17336     7   2.0       180       96      0.0         70\n",
       "...     ...   ...       ...      ...      ...        ...\n",
       "17437     7   2.0       190       86      2.2          5\n",
       "17438     7   2.0       190       84      2.0          4\n",
       "17439     7   2.0       190       80      1.5          3\n",
       "17440     7   2.0       190       76      0.4          2\n",
       "17441     7   2.0       190       72      0.0          1\n",
       "\n",
       "[110 rows x 6 columns]"
      ]
     },
     "execution_count": 10,
     "metadata": {},
     "output_type": "execute_result"
    }
   ],
   "source": [
    "X.tail(110)"
   ]
  },
  {
   "cell_type": "markdown",
   "metadata": {
    "id": "REdtfeKftWr1"
   },
   "source": [
    "After ordinal encoding, all the features are numerical in nature now."
   ]
  },
  {
   "cell_type": "code",
   "execution_count": 11,
   "metadata": {
    "id": "4cUIcML23n-L"
   },
   "outputs": [
    {
     "data": {
      "text/html": [
       "<div>\n",
       "<style scoped>\n",
       "    .dataframe tbody tr th:only-of-type {\n",
       "        vertical-align: middle;\n",
       "    }\n",
       "\n",
       "    .dataframe tbody tr th {\n",
       "        vertical-align: top;\n",
       "    }\n",
       "\n",
       "    .dataframe thead th {\n",
       "        text-align: right;\n",
       "    }\n",
       "</style>\n",
       "<table border=\"1\" class=\"dataframe\">\n",
       "  <thead>\n",
       "    <tr style=\"text-align: right;\">\n",
       "      <th></th>\n",
       "      <th>SIZE</th>\n",
       "      <th>FUEL</th>\n",
       "      <th>DISTANCE</th>\n",
       "      <th>DESIBEL</th>\n",
       "      <th>AIRFLOW</th>\n",
       "      <th>FREQUENCY</th>\n",
       "    </tr>\n",
       "  </thead>\n",
       "  <tbody>\n",
       "    <tr>\n",
       "      <th>0</th>\n",
       "      <td>1</td>\n",
       "      <td>0.0</td>\n",
       "      <td>10</td>\n",
       "      <td>96</td>\n",
       "      <td>0.0</td>\n",
       "      <td>75</td>\n",
       "    </tr>\n",
       "    <tr>\n",
       "      <th>1</th>\n",
       "      <td>1</td>\n",
       "      <td>0.0</td>\n",
       "      <td>10</td>\n",
       "      <td>96</td>\n",
       "      <td>0.0</td>\n",
       "      <td>72</td>\n",
       "    </tr>\n",
       "    <tr>\n",
       "      <th>2</th>\n",
       "      <td>1</td>\n",
       "      <td>0.0</td>\n",
       "      <td>10</td>\n",
       "      <td>96</td>\n",
       "      <td>2.6</td>\n",
       "      <td>70</td>\n",
       "    </tr>\n",
       "    <tr>\n",
       "      <th>3</th>\n",
       "      <td>1</td>\n",
       "      <td>0.0</td>\n",
       "      <td>10</td>\n",
       "      <td>96</td>\n",
       "      <td>3.2</td>\n",
       "      <td>68</td>\n",
       "    </tr>\n",
       "    <tr>\n",
       "      <th>4</th>\n",
       "      <td>1</td>\n",
       "      <td>0.0</td>\n",
       "      <td>10</td>\n",
       "      <td>109</td>\n",
       "      <td>4.5</td>\n",
       "      <td>67</td>\n",
       "    </tr>\n",
       "  </tbody>\n",
       "</table>\n",
       "</div>"
      ],
      "text/plain": [
       "   SIZE  FUEL  DISTANCE  DESIBEL  AIRFLOW  FREQUENCY\n",
       "0     1   0.0        10       96      0.0         75\n",
       "1     1   0.0        10       96      0.0         72\n",
       "2     1   0.0        10       96      2.6         70\n",
       "3     1   0.0        10       96      3.2         68\n",
       "4     1   0.0        10      109      4.5         67"
      ]
     },
     "execution_count": 11,
     "metadata": {},
     "output_type": "execute_result"
    }
   ],
   "source": [
    "# Prediction features\n",
    "X.head()"
   ]
  },
  {
   "cell_type": "code",
   "execution_count": 12,
   "metadata": {
    "id": "7qdzBidudvYk"
   },
   "outputs": [
    {
     "data": {
      "text/html": [
       "<div>\n",
       "<style scoped>\n",
       "    .dataframe tbody tr th:only-of-type {\n",
       "        vertical-align: middle;\n",
       "    }\n",
       "\n",
       "    .dataframe tbody tr th {\n",
       "        vertical-align: top;\n",
       "    }\n",
       "\n",
       "    .dataframe thead th {\n",
       "        text-align: right;\n",
       "    }\n",
       "</style>\n",
       "<table border=\"1\" class=\"dataframe\">\n",
       "  <thead>\n",
       "    <tr style=\"text-align: right;\">\n",
       "      <th></th>\n",
       "      <th>STATUS</th>\n",
       "    </tr>\n",
       "  </thead>\n",
       "  <tbody>\n",
       "    <tr>\n",
       "      <th>0</th>\n",
       "      <td>0</td>\n",
       "    </tr>\n",
       "    <tr>\n",
       "      <th>1</th>\n",
       "      <td>1</td>\n",
       "    </tr>\n",
       "    <tr>\n",
       "      <th>2</th>\n",
       "      <td>1</td>\n",
       "    </tr>\n",
       "    <tr>\n",
       "      <th>3</th>\n",
       "      <td>1</td>\n",
       "    </tr>\n",
       "    <tr>\n",
       "      <th>4</th>\n",
       "      <td>1</td>\n",
       "    </tr>\n",
       "    <tr>\n",
       "      <th>...</th>\n",
       "      <td>...</td>\n",
       "    </tr>\n",
       "    <tr>\n",
       "      <th>17437</th>\n",
       "      <td>0</td>\n",
       "    </tr>\n",
       "    <tr>\n",
       "      <th>17438</th>\n",
       "      <td>0</td>\n",
       "    </tr>\n",
       "    <tr>\n",
       "      <th>17439</th>\n",
       "      <td>0</td>\n",
       "    </tr>\n",
       "    <tr>\n",
       "      <th>17440</th>\n",
       "      <td>0</td>\n",
       "    </tr>\n",
       "    <tr>\n",
       "      <th>17441</th>\n",
       "      <td>0</td>\n",
       "    </tr>\n",
       "  </tbody>\n",
       "</table>\n",
       "<p>17442 rows × 1 columns</p>\n",
       "</div>"
      ],
      "text/plain": [
       "       STATUS\n",
       "0           0\n",
       "1           1\n",
       "2           1\n",
       "3           1\n",
       "4           1\n",
       "...       ...\n",
       "17437       0\n",
       "17438       0\n",
       "17439       0\n",
       "17440       0\n",
       "17441       0\n",
       "\n",
       "[17442 rows x 1 columns]"
      ]
     },
     "execution_count": 12,
     "metadata": {},
     "output_type": "execute_result"
    }
   ],
   "source": [
    "# Target feature: Extinction Status\n",
    "y"
   ]
  },
  {
   "cell_type": "markdown",
   "metadata": {
    "id": "sxH87eA-tgZT"
   },
   "source": [
    "### Split the data into train and test sets"
   ]
  },
  {
   "cell_type": "code",
   "execution_count": 13,
   "metadata": {
    "id": "4y-f5vXOdxtN"
   },
   "outputs": [
    {
     "name": "stdout",
     "output_type": "stream",
     "text": [
      "(11628, 6)\n",
      "(5814, 6)\n"
     ]
    }
   ],
   "source": [
    "# Split the data into train and test\n",
    "X_train, X_test, y_train, y_test = train_test_split(X,                  # predictors\n",
    "                                                    y,                  # labels\n",
    "                                                    test_size=1/3,      # test set size \n",
    "                                                    random_state=0)     # set random number generator seed for reproducibility \n",
    "\n",
    "print(X_train.shape)\n",
    "print(X_test.shape)"
   ]
  },
  {
   "cell_type": "markdown",
   "metadata": {
    "id": "81xxistBUov5"
   },
   "source": [
    "### A Classifier Without a Pipeline and Optimization"
   ]
  },
  {
   "cell_type": "markdown",
   "metadata": {
    "id": "MxxfOS4W_gJZ"
   },
   "source": [
    "First, let’s just check how the k-nearest neighbor performs on the training and test sets. This would give us a baseline for performance.\n",
    "\n"
   ]
  },
  {
   "cell_type": "code",
   "execution_count": 14,
   "metadata": {
    "id": "dnUXK9waUSeI"
   },
   "outputs": [
    {
     "name": "stdout",
     "output_type": "stream",
     "text": [
      "Training set score: 0.9425524595803234\n",
      "Test set score: 0.9157206742346061\n"
     ]
    }
   ],
   "source": [
    "# Instantiate KNN classifier and fit on train set\n",
    "knn = KNeighborsClassifier().fit(X_train, y_train)\n",
    "\n",
    "# Performance on train and test sets\n",
    "print('Training set score: ' + str(knn.score(X_train,y_train)))\n",
    "print('Test set score: ' + str(knn.score(X_test,y_test)))"
   ]
  },
  {
   "cell_type": "markdown",
   "metadata": {
    "id": "iJ0JCvWsU7-e"
   },
   "source": [
    "### Setting Up a Machine Learning Pipeline"
   ]
  },
  {
   "cell_type": "markdown",
   "metadata": {
    "id": "LLeFDVre_SZS"
   },
   "source": [
    "- **Scaler:** For pre-processing data, i.e., transform the data to zero mean and unit variance using the `StandardScaler()`.\n",
    "\n",
    "- **Feature selector:** Use `VarianceThreshold()` for discarding features whose variance is less than a certain defined threshold. \n",
    "\n",
    "- **Classifier:** `KNeighborsClassifier()`, which implements the k-nearest neighbor classifier and selects the class of the majority k points, which are closest to the test example."
   ]
  },
  {
   "cell_type": "code",
   "execution_count": 15,
   "metadata": {
    "id": "hoXhOD7HUv8m"
   },
   "outputs": [],
   "source": [
    "# Setup pipeline\n",
    "pipe = Pipeline([('scaler', StandardScaler()), \n",
    "                 ('selector', VarianceThreshold()), \n",
    "                 ('classifier', KNeighborsClassifier())\n",
    "                 ])"
   ]
  },
  {
   "cell_type": "code",
   "execution_count": 16,
   "metadata": {
    "id": "E_3WR3shVGsb"
   },
   "outputs": [
    {
     "name": "stdout",
     "output_type": "stream",
     "text": [
      "Training set score: 0.9765221878224974\n",
      "Test set score: 0.9613003095975232\n"
     ]
    }
   ],
   "source": [
    "# Fit pipeline on train set\n",
    "pipe.fit(X_train, y_train)\n",
    " \n",
    "# Performance on train and test sets\n",
    "print('Training set score: ' + str(pipe.score(X_train,y_train)))\n",
    "print('Test set score: ' + str(pipe.score(X_test,y_test)))"
   ]
  },
  {
   "cell_type": "markdown",
   "metadata": {
    "id": "le5Pzs4Rt4oA"
   },
   "source": [
    "It can be clearly noticed that setting the pipeline, including `StandardScaler()` and `VarianceThreshold()` has helped train a good model because scores are better both for training and test data when compared with the model without using a pipeline."
   ]
  },
  {
   "cell_type": "markdown",
   "metadata": {
    "id": "fowNWKfFVTx_"
   },
   "source": [
    "### Optimizing and Tuning the Pipeline with GridSearchCV"
   ]
  },
  {
   "cell_type": "markdown",
   "metadata": {
    "id": "LLDvhYpwnNFw"
   },
   "source": [
    "In the code below, we’ll show the following:\n",
    "\n",
    "- We can search for the best scalers. Instead of just the `StandardScaler()`, we can try `MinMaxScaler()`, `Normalizer()`, and `MaxAbsScaler()`.\n",
    "\n",
    "- We can search for the best variance threshold to use in the selector, i.e., `VarianceThreshold()`.\n",
    "\n",
    "- We can search for the best value of k for the `KNeighborsClassifier()`."
   ]
  },
  {
   "cell_type": "code",
   "execution_count": 17,
   "metadata": {
    "id": "4K5_Y-egVKuv"
   },
   "outputs": [],
   "source": [
    "parameters = {'scaler': [StandardScaler(), MinMaxScaler(), Normalizer(), MaxAbsScaler()], \n",
    "              'selector__threshold': [0, 0.001, 0.01],  \n",
    "\t\t\t  'classifier__n_neighbors': [1, 3, 5, 7, 10],           # Number of neighbors to use by default for k-neighbors\n",
    "\t\t\t  'classifier__p': [1, 2],                               # Power parameter for the Minkowski metric\n",
    "\t\t\t  'classifier__leaf_size': [1, 5, 10, 15]                # Leaf size passed to BallTree or KDTree. This can affect the speed of the\n",
    "\t\t\t  }                                                      # construction and query, as well as the memory required to store the tree "
   ]
  },
  {
   "cell_type": "code",
   "execution_count": 18,
   "metadata": {
    "id": "YKdKGlTbeW9I"
   },
   "outputs": [
    {
     "data": {
      "text/plain": [
       "480"
      ]
     },
     "execution_count": 18,
     "metadata": {},
     "output_type": "execute_result"
    }
   ],
   "source": [
    "4*3*5*2*4"
   ]
  },
  {
   "cell_type": "markdown",
   "metadata": {
    "id": "Mdtg8rcU_nEa"
   },
   "source": [
    "Here, we have passed a list of parameters that the GridsearchCV algorithm will use to come at an optimum solution. It will go through every combination of this parameters to get an optimal solution. So, total iterations here will be 4 $\\times$ 3 $\\times$ 5 $\\times$ 2 $\\times$ 4 = 480.\n",
    "\n",
    "`n_neighbors`, `p` and `leaf_size` are the parameter for `KNeighborsClassifier()`.\n",
    "\n",
    "To know more about `KNeighborsClassifier()`, refer [here](https://scikit-learn.org/stable/modules/generated/sklearn.neighbors.KNeighborsClassifier.html#sklearn.neighbors.KNeighborsClassifier)."
   ]
  },
  {
   "cell_type": "code",
   "execution_count": 19,
   "metadata": {
    "id": "XlUHH0bZnRqF"
   },
   "outputs": [
    {
     "name": "stdout",
     "output_type": "stream",
     "text": [
      "Training set score: 0.9799621603027175\n",
      "Test set score: 0.9685242518059856\n"
     ]
    }
   ],
   "source": [
    "# Instantiate GridSearchCV\n",
    "grid = GridSearchCV(pipe, parameters, cv=2).fit(X_train, y_train)\n",
    "\n",
    "# Performance on train and test sets\n",
    "print('Training set score: ' + str(grid.score(X_train, y_train)))\n",
    "print('Test set score: ' + str(grid.score(X_test, y_test)))"
   ]
  },
  {
   "cell_type": "markdown",
   "metadata": {
    "id": "JCnKM224AIMm"
   },
   "source": [
    "To know more about GridSearchCV, refer [here](https://scikit-learn.org/stable/modules/generated/sklearn.model_selection.GridSearchCV.html#sklearn.model_selection.GridSearchCV)."
   ]
  },
  {
   "cell_type": "markdown",
   "metadata": {
    "id": "-zNZEXAFo3a2"
   },
   "source": [
    "### Analyzing the Results\n"
   ]
  },
  {
   "cell_type": "code",
   "execution_count": 20,
   "metadata": {
    "id": "-q9LPWF8nXSS"
   },
   "outputs": [
    {
     "name": "stdout",
     "output_type": "stream",
     "text": [
      "{'classifier__leaf_size': 5, 'classifier__n_neighbors': 5, 'classifier__p': 1, 'scaler': MaxAbsScaler(), 'selector__threshold': 0}\n",
      "Pipeline(steps=[('scaler', MaxAbsScaler()),\n",
      "                ('selector', VarianceThreshold(threshold=0)),\n",
      "                ('classifier', KNeighborsClassifier(leaf_size=5, p=1))])\n"
     ]
    }
   ],
   "source": [
    "# Access the best set of parameters\n",
    "best_params = grid.best_params_\n",
    "print(best_params)\n",
    "\n",
    "# Stores the optimum model in best_pipe\n",
    "best_pipe = grid.best_estimator_\n",
    "print(best_pipe)"
   ]
  },
  {
   "cell_type": "markdown",
   "metadata": {
    "id": "VbarYPUJif0z"
   },
   "source": [
    "Another useful technique for analyzing the results is to construct a DataFrame from the `grid.cv_results_` attribute."
   ]
  },
  {
   "cell_type": "code",
   "execution_count": 21,
   "metadata": {
    "id": "IJiM_ZhEo9pt"
   },
   "outputs": [
    {
     "name": "stdout",
     "output_type": "stream",
     "text": [
      "Index(['mean_fit_time', 'std_fit_time', 'mean_score_time', 'std_score_time',\n",
      "       'param_classifier__leaf_size', 'param_classifier__n_neighbors',\n",
      "       'param_classifier__p', 'param_scaler', 'param_selector__threshold',\n",
      "       'params', 'split0_test_score', 'split1_test_score', 'mean_test_score',\n",
      "       'std_test_score', 'rank_test_score'],\n",
      "      dtype='object')\n"
     ]
    }
   ],
   "source": [
    "# Create a dataframe\n",
    "result_df = pd.DataFrame.from_dict(grid.cv_results_, orient='columns')\n",
    "print(result_df.columns)"
   ]
  },
  {
   "cell_type": "code",
   "execution_count": 22,
   "metadata": {
    "id": "oYYRy9QQc3vK"
   },
   "outputs": [
    {
     "data": {
      "text/plain": [
       "(480, 15)"
      ]
     },
     "execution_count": 22,
     "metadata": {},
     "output_type": "execute_result"
    }
   ],
   "source": [
    "result_df.shape"
   ]
  },
  {
   "cell_type": "code",
   "execution_count": 23,
   "metadata": {
    "id": "ZiJHUyPTczoj"
   },
   "outputs": [
    {
     "data": {
      "text/html": [
       "<div>\n",
       "<style scoped>\n",
       "    .dataframe tbody tr th:only-of-type {\n",
       "        vertical-align: middle;\n",
       "    }\n",
       "\n",
       "    .dataframe tbody tr th {\n",
       "        vertical-align: top;\n",
       "    }\n",
       "\n",
       "    .dataframe thead th {\n",
       "        text-align: right;\n",
       "    }\n",
       "</style>\n",
       "<table border=\"1\" class=\"dataframe\">\n",
       "  <thead>\n",
       "    <tr style=\"text-align: right;\">\n",
       "      <th></th>\n",
       "      <th>mean_fit_time</th>\n",
       "      <th>std_fit_time</th>\n",
       "      <th>mean_score_time</th>\n",
       "      <th>std_score_time</th>\n",
       "      <th>param_classifier__leaf_size</th>\n",
       "      <th>param_classifier__n_neighbors</th>\n",
       "      <th>param_classifier__p</th>\n",
       "      <th>param_scaler</th>\n",
       "      <th>param_selector__threshold</th>\n",
       "      <th>params</th>\n",
       "      <th>split0_test_score</th>\n",
       "      <th>split1_test_score</th>\n",
       "      <th>mean_test_score</th>\n",
       "      <th>std_test_score</th>\n",
       "      <th>rank_test_score</th>\n",
       "    </tr>\n",
       "  </thead>\n",
       "  <tbody>\n",
       "    <tr>\n",
       "      <th>0</th>\n",
       "      <td>0.013174</td>\n",
       "      <td>0.005757</td>\n",
       "      <td>0.139928</td>\n",
       "      <td>0.010900</td>\n",
       "      <td>1</td>\n",
       "      <td>1</td>\n",
       "      <td>1</td>\n",
       "      <td>StandardScaler()</td>\n",
       "      <td>0</td>\n",
       "      <td>{'classifier__leaf_size': 1, 'classifier__n_ne...</td>\n",
       "      <td>0.946508</td>\n",
       "      <td>0.947196</td>\n",
       "      <td>0.946852</td>\n",
       "      <td>0.000344</td>\n",
       "      <td>343</td>\n",
       "    </tr>\n",
       "    <tr>\n",
       "      <th>1</th>\n",
       "      <td>0.007212</td>\n",
       "      <td>0.000078</td>\n",
       "      <td>0.128985</td>\n",
       "      <td>0.000847</td>\n",
       "      <td>1</td>\n",
       "      <td>1</td>\n",
       "      <td>1</td>\n",
       "      <td>StandardScaler()</td>\n",
       "      <td>0.001</td>\n",
       "      <td>{'classifier__leaf_size': 1, 'classifier__n_ne...</td>\n",
       "      <td>0.946508</td>\n",
       "      <td>0.947196</td>\n",
       "      <td>0.946852</td>\n",
       "      <td>0.000344</td>\n",
       "      <td>343</td>\n",
       "    </tr>\n",
       "    <tr>\n",
       "      <th>2</th>\n",
       "      <td>0.007037</td>\n",
       "      <td>0.000039</td>\n",
       "      <td>0.130403</td>\n",
       "      <td>0.001303</td>\n",
       "      <td>1</td>\n",
       "      <td>1</td>\n",
       "      <td>1</td>\n",
       "      <td>StandardScaler()</td>\n",
       "      <td>0.01</td>\n",
       "      <td>{'classifier__leaf_size': 1, 'classifier__n_ne...</td>\n",
       "      <td>0.946508</td>\n",
       "      <td>0.947196</td>\n",
       "      <td>0.946852</td>\n",
       "      <td>0.000344</td>\n",
       "      <td>343</td>\n",
       "    </tr>\n",
       "    <tr>\n",
       "      <th>3</th>\n",
       "      <td>0.007004</td>\n",
       "      <td>0.000115</td>\n",
       "      <td>0.131700</td>\n",
       "      <td>0.000118</td>\n",
       "      <td>1</td>\n",
       "      <td>1</td>\n",
       "      <td>1</td>\n",
       "      <td>MinMaxScaler()</td>\n",
       "      <td>0</td>\n",
       "      <td>{'classifier__leaf_size': 1, 'classifier__n_ne...</td>\n",
       "      <td>0.949776</td>\n",
       "      <td>0.951840</td>\n",
       "      <td>0.950808</td>\n",
       "      <td>0.001032</td>\n",
       "      <td>205</td>\n",
       "    </tr>\n",
       "    <tr>\n",
       "      <th>4</th>\n",
       "      <td>0.007125</td>\n",
       "      <td>0.000012</td>\n",
       "      <td>0.129953</td>\n",
       "      <td>0.002071</td>\n",
       "      <td>1</td>\n",
       "      <td>1</td>\n",
       "      <td>1</td>\n",
       "      <td>MinMaxScaler()</td>\n",
       "      <td>0.001</td>\n",
       "      <td>{'classifier__leaf_size': 1, 'classifier__n_ne...</td>\n",
       "      <td>0.949776</td>\n",
       "      <td>0.951840</td>\n",
       "      <td>0.950808</td>\n",
       "      <td>0.001032</td>\n",
       "      <td>205</td>\n",
       "    </tr>\n",
       "  </tbody>\n",
       "</table>\n",
       "</div>"
      ],
      "text/plain": [
       "   mean_fit_time  std_fit_time  mean_score_time  std_score_time  \\\n",
       "0       0.013174      0.005757         0.139928        0.010900   \n",
       "1       0.007212      0.000078         0.128985        0.000847   \n",
       "2       0.007037      0.000039         0.130403        0.001303   \n",
       "3       0.007004      0.000115         0.131700        0.000118   \n",
       "4       0.007125      0.000012         0.129953        0.002071   \n",
       "\n",
       "  param_classifier__leaf_size param_classifier__n_neighbors  \\\n",
       "0                           1                             1   \n",
       "1                           1                             1   \n",
       "2                           1                             1   \n",
       "3                           1                             1   \n",
       "4                           1                             1   \n",
       "\n",
       "  param_classifier__p      param_scaler param_selector__threshold  \\\n",
       "0                   1  StandardScaler()                         0   \n",
       "1                   1  StandardScaler()                     0.001   \n",
       "2                   1  StandardScaler()                      0.01   \n",
       "3                   1    MinMaxScaler()                         0   \n",
       "4                   1    MinMaxScaler()                     0.001   \n",
       "\n",
       "                                              params  split0_test_score  \\\n",
       "0  {'classifier__leaf_size': 1, 'classifier__n_ne...           0.946508   \n",
       "1  {'classifier__leaf_size': 1, 'classifier__n_ne...           0.946508   \n",
       "2  {'classifier__leaf_size': 1, 'classifier__n_ne...           0.946508   \n",
       "3  {'classifier__leaf_size': 1, 'classifier__n_ne...           0.949776   \n",
       "4  {'classifier__leaf_size': 1, 'classifier__n_ne...           0.949776   \n",
       "\n",
       "   split1_test_score  mean_test_score  std_test_score  rank_test_score  \n",
       "0           0.947196         0.946852        0.000344              343  \n",
       "1           0.947196         0.946852        0.000344              343  \n",
       "2           0.947196         0.946852        0.000344              343  \n",
       "3           0.951840         0.950808        0.001032              205  \n",
       "4           0.951840         0.950808        0.001032              205  "
      ]
     },
     "execution_count": 23,
     "metadata": {},
     "output_type": "execute_result"
    }
   ],
   "source": [
    "result_df.head()"
   ]
  },
  {
   "cell_type": "markdown",
   "metadata": {
    "id": "cGRrwxgACPJW"
   },
   "source": [
    "This DataFrame is very valuable as it shows us the scores for different parameters. The column with the `mean_test_score` is the average of the scores on the test set for all the folds during cross-validation. The DataFrame may be too big to visualize manually, hence, it is always a good idea to plot the results. \n",
    "\n",
    "Let’s see how `n_neighbors` affect the performance for different `scalers`, and for different values of `p`."
   ]
  },
  {
   "cell_type": "code",
   "execution_count": 24,
   "metadata": {
    "id": "T5YjM-2Lpw8y"
   },
   "outputs": [
    {
     "data": {
      "image/png": "[encoded data removed]",
      "text/plain": [
       "<Figure size 1167.5x500 with 2 Axes>"
      ]
     },
     "metadata": {},
     "output_type": "display_data"
    }
   ],
   "source": [
    "sns.relplot(data = result_df,\n",
    "            kind = 'line',\n",
    "\t\t\tx = 'param_classifier__n_neighbors',\n",
    "\t\t\ty = 'mean_test_score',\n",
    "\t\t\thue = 'param_scaler',\n",
    "\t\t\tcol = 'param_classifier__p')\n",
    "plt.show()"
   ]
  },
  {
   "cell_type": "markdown",
   "metadata": {
    "id": "4UFZTncnDBDb"
   },
   "source": [
    "From the above plots, it can be seen that:\n",
    "\n",
    "- For both `p = 1` and `2`, worst performing scaler method is `Normalizer()`\n",
    "- For both `p = 1` and `2`, best performing scaler is `MaxAbsScaler()`\n",
    "- For `p = 1` and `scaler = MaxAbsScaler()`, there is a peak in `mean_test_score` at `n_neighbors = 5`.\n",
    "\n",
    "Let’s see how `n_neighbors` affect the performance for different `scalers`, and for different values of `life_size`."
   ]
  },
  {
   "cell_type": "code",
   "execution_count": 25,
   "metadata": {
    "id": "VB9NpUkRqi58"
   },
   "outputs": [
    {
     "data": {
      "image/png": "[encoded data removed]",
      "text/plain": [
       "<Figure size 2167.5x500 with 4 Axes>"
      ]
     },
     "metadata": {},
     "output_type": "display_data"
    }
   ],
   "source": [
    "sns.relplot(data = result_df,\n",
    "            kind = 'line',\n",
    "            x = 'param_classifier__n_neighbors',\n",
    "            y = 'mean_test_score',\n",
    "            hue = 'param_scaler',\n",
    "            col = 'param_classifier__leaf_size')\n",
    "plt.show()"
   ]
  },
  {
   "cell_type": "markdown",
   "metadata": {
    "id": "CAZD73LSDw3q"
   },
   "source": [
    "- For all the `leaf_size` parameters, that is 1, 5, 10, 15, worst performing scaler method is `Normalizer()`.\n",
    "- For all the `leaf_size` parameters, best performing scaler is `MaxAbsScaler()`.\n",
    "- For all the `leaf_size` parameters, there is a peak at `n_neighbors = 5`."
   ]
  },
  {
   "cell_type": "markdown",
   "metadata": {
    "id": "p1fpVuU87D0i"
   },
   "source": [
    "`MaxAbsScaler()` is performing well because it scales and translates each feature individually such that the maximal absolute value of each feature in the training set will be $1.0$. It does not shift or center the data, and thus does not destroy any sparsity.\n",
    "\n",
    "To know more about `MaxAbsScaler()`, refer [here](https://scikit-learn.org/stable/modules/generated/sklearn.preprocessing.MaxAbsScaler.html#sklearn.preprocessing.MaxAbsScaler)."
   ]
  }
 ],
 "metadata": {
  "colab": {
   "provenance": []
  },
  "kernelspec": {
   "display_name": "Python 3 (ipykernel)",
   "language": "python",
   "name": "python3"
  },
  "language_info": {
   "codemirror_mode": {
    "name": "ipython",
    "version": 3
   },
   "file_extension": ".py",
   "mimetype": "text/x-python",
   "name": "python",
   "nbconvert_exporter": "python",
   "pygments_lexer": "ipython3",
   "version": "3.9.13"
  }
 },
 "nbformat": 4,
 "nbformat_minor": 1
}
