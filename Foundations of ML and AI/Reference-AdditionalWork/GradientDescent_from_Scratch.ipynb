{
  "cells": [
    {
      "cell_type": "markdown",
      "metadata": {
        "id": "cOc4QFM8jOeR"
      },
      "source": [
        "## Learning Objectives\n",
        "\n",
        "At the end of the experiment, participants will be able to : \n",
        "\n",
        "* understand the intuition behind Gradient Descent\n",
        "* implement Batch Gradient Descent from scratch\n",
        "* implement Stochastic Gradient Descent from scratch"
      ]
    },
    {
      "cell_type": "markdown",
      "metadata": {
        "id": "NWEHrLZsjxvx"
      },
      "source": [
        "## Overview \n",
        "\n",
        "In general terms Gradient means slope or slant of a surface. Gradient Descent aims to minimize the cost function. A function reaches its minimum value when the slope is equal to 0. Gradient descent is an iterative algorithm, that starts from a random point on a function and travels down its slope in steps until it reaches the minimum point of that function."
      ]
    },
    {
      "cell_type": "markdown",
      "metadata": {
        "id": "P3--euVMj6yC"
      },
      "source": [
        "#### Importing required packages"
      ]
    },
    {
      "cell_type": "code",
      "execution_count": 1,
      "metadata": {
        "id": "BIOwSer_sJly"
      },
      "outputs": [],
      "source": [
        "import matplotlib.pyplot as plt\n",
        "import pandas as pd\n",
        "import numpy as np"
      ]
    },
    {
      "cell_type": "markdown",
      "metadata": {
        "id": "N4jn8BlrsJmC"
      },
      "source": [
        "### Implementing  Equation --> $y=3x+1$  Using  Matrix Concepts \n",
        "\n",
        "![](https://cdn.extras.talentsprint.com/IOT/Images/St_line_into_Matrix.png)\n",
        "\n"
      ]
    },
    {
      "cell_type": "code",
      "execution_count": 2,
      "metadata": {
        "id": "23Zhl34exiLp",
        "outputId": "3d9ff2a3-f4f3-4faf-e492-c37298548c6c",
        "colab": {
          "base_uri": "https://localhost:8080/"
        }
      },
      "outputs": [
        {
          "output_type": "execute_result",
          "data": {
            "text/plain": [
              "array([-3., -2., -1.,  0.,  1.,  2.,  3.])"
            ]
          },
          "metadata": {},
          "execution_count": 2
        }
      ],
      "source": [
        "x1=np.linspace(-3,3,7)\n",
        "x1"
      ]
    },
    {
      "cell_type": "code",
      "execution_count": 3,
      "metadata": {
        "id": "1c9ldvl6ybnN",
        "outputId": "02abd1d1-df7c-4a61-b8d9-5b5c2c22cc33",
        "colab": {
          "base_uri": "https://localhost:8080/"
        }
      },
      "outputs": [
        {
          "output_type": "execute_result",
          "data": {
            "text/plain": [
              "array([-8., -5., -2.,  1.,  4.,  7., 10.])"
            ]
          },
          "metadata": {},
          "execution_count": 3
        }
      ],
      "source": [
        "y1=3*x1+1\n",
        "y1"
      ]
    },
    {
      "cell_type": "markdown",
      "metadata": {
        "id": "bxbOy9SbsJmO"
      },
      "source": [
        "#### Calculating y for all values of x  in one shot in eqn  y = 3x + 1\n",
        "#### Taking X= [-3, -2 ,  -1,   0,   1,  2,   3 ]"
      ]
    },
    {
      "cell_type": "code",
      "execution_count": 4,
      "metadata": {
        "id": "GH9gZGaP9yCR",
        "outputId": "bb17959e-5449-4b7e-de44-63e0f62e75cd",
        "colab": {
          "base_uri": "https://localhost:8080/"
        }
      },
      "outputs": [
        {
          "output_type": "stream",
          "name": "stdout",
          "text": [
            "theta :\n",
            " [[1]\n",
            " [3]] \n",
            "\n",
            "shape of theta :  (2, 1)\n",
            "X1 :\n",
            " [[-3.]\n",
            " [-2.]\n",
            " [-1.]\n",
            " [ 0.]\n",
            " [ 1.]\n",
            " [ 2.]\n",
            " [ 3.]] \n",
            "\n",
            "X values In array form :\n",
            " [[ 1. -3.]\n",
            " [ 1. -2.]\n",
            " [ 1. -1.]\n",
            " [ 1.  0.]\n",
            " [ 1.  1.]\n",
            " [ 1.  2.]\n",
            " [ 1.  3.]]\n",
            "shape of X_values array : \n",
            " (7, 2)\n",
            "Y_Values : \n",
            "  [[-8.]\n",
            " [-5.]\n",
            " [-2.]\n",
            " [ 1.]\n",
            " [ 4.]\n",
            " [ 7.]\n",
            " [10.]] \n",
            "\n",
            "shape of y_values :  (7, 1)\n"
          ]
        }
      ],
      "source": [
        "## Making array of coefficient of y=mx+c\n",
        "theta=np.array([[1],[3]]) ## theta_0(c)=1,theta_1(m)=3\n",
        "print('theta :\\n', theta,'\\n')\n",
        "print('shape of theta : ',theta.shape)\n",
        "\n",
        "## Creating X array\n",
        "x1=np.linspace(-3,3,7)\n",
        "X1=x1[:,np.newaxis] ## Converting one dimensional x1 into 2D and storing inside X1\n",
        "print('X1 :\\n',X1,'\\n')\n",
        "X_values=np.hstack((np.ones((7,1)),X1))\n",
        "\n",
        "print('X values In array form :\\n', X_values)\n",
        "print('shape of X_values array : \\n', X_values.shape)\n",
        "\n",
        "### Finally implementing y=mx+c in array format\n",
        "y_values=np.dot(X_values,theta)\n",
        "print('Y_Values : \\n ',y_values,'\\n')\n",
        "print('shape of y_values : ',y_values.shape)"
      ]
    },
    {
      "cell_type": "markdown",
      "metadata": {
        "id": "PxooqFR1sJmb"
      },
      "source": [
        "### Importing Data "
      ]
    },
    {
      "cell_type": "code",
      "execution_count": 5,
      "metadata": {
        "colab": {
          "base_uri": "https://localhost:8080/"
        },
        "id": "MRrN_z1fwnQL",
        "outputId": "559d8c08-e5ae-4933-e1ab-5620d3308100",
        "cellView": "form"
      },
      "outputs": [
        {
          "output_type": "stream",
          "name": "stdout",
          "text": [
            "Data downloaded successfully!\n"
          ]
        }
      ],
      "source": [
        "#@title Download dataset\n",
        "!wget -qq https://cdn.extras.talentsprint.com/IOT/Data/data1.txt\n",
        "print(\"Data downloaded successfully!\")"
      ]
    },
    {
      "cell_type": "code",
      "execution_count": 6,
      "metadata": {
        "id": "_yj3RVXssJmc",
        "outputId": "5d02bca9-cdd6-4417-ee99-3c0a5f200de2",
        "colab": {
          "base_uri": "https://localhost:8080/",
          "height": 206
        }
      },
      "outputs": [
        {
          "output_type": "execute_result",
          "data": {
            "text/plain": [
              "   Visitor_Count  Revenue\n",
              "0         6.1101  17.5920\n",
              "1         5.5277   9.1302\n",
              "2         8.5186  13.6620\n",
              "3         7.0032  11.8540\n",
              "4         5.8598   6.8233"
            ],
            "text/html": [
              "\n",
              "  <div id=\"df-05995e69-6e24-4326-8e03-c6e268be4b49\">\n",
              "    <div class=\"colab-df-container\">\n",
              "      <div>\n",
              "<style scoped>\n",
              "    .dataframe tbody tr th:only-of-type {\n",
              "        vertical-align: middle;\n",
              "    }\n",
              "\n",
              "    .dataframe tbody tr th {\n",
              "        vertical-align: top;\n",
              "    }\n",
              "\n",
              "    .dataframe thead th {\n",
              "        text-align: right;\n",
              "    }\n",
              "</style>\n",
              "<table border=\"1\" class=\"dataframe\">\n",
              "  <thead>\n",
              "    <tr style=\"text-align: right;\">\n",
              "      <th></th>\n",
              "      <th>Visitor_Count</th>\n",
              "      <th>Revenue</th>\n",
              "    </tr>\n",
              "  </thead>\n",
              "  <tbody>\n",
              "    <tr>\n",
              "      <th>0</th>\n",
              "      <td>6.1101</td>\n",
              "      <td>17.5920</td>\n",
              "    </tr>\n",
              "    <tr>\n",
              "      <th>1</th>\n",
              "      <td>5.5277</td>\n",
              "      <td>9.1302</td>\n",
              "    </tr>\n",
              "    <tr>\n",
              "      <th>2</th>\n",
              "      <td>8.5186</td>\n",
              "      <td>13.6620</td>\n",
              "    </tr>\n",
              "    <tr>\n",
              "      <th>3</th>\n",
              "      <td>7.0032</td>\n",
              "      <td>11.8540</td>\n",
              "    </tr>\n",
              "    <tr>\n",
              "      <th>4</th>\n",
              "      <td>5.8598</td>\n",
              "      <td>6.8233</td>\n",
              "    </tr>\n",
              "  </tbody>\n",
              "</table>\n",
              "</div>\n",
              "      <button class=\"colab-df-convert\" onclick=\"convertToInteractive('df-05995e69-6e24-4326-8e03-c6e268be4b49')\"\n",
              "              title=\"Convert this dataframe to an interactive table.\"\n",
              "              style=\"display:none;\">\n",
              "        \n",
              "  <svg xmlns=\"http://www.w3.org/2000/svg\" height=\"24px\"viewBox=\"0 0 24 24\"\n",
              "       width=\"24px\">\n",
              "    <path d=\"M0 0h24v24H0V0z\" fill=\"none\"/>\n",
              "    <path d=\"M18.56 5.44l.94 2.06.94-2.06 2.06-.94-2.06-.94-.94-2.06-.94 2.06-2.06.94zm-11 1L8.5 8.5l.94-2.06 2.06-.94-2.06-.94L8.5 2.5l-.94 2.06-2.06.94zm10 10l.94 2.06.94-2.06 2.06-.94-2.06-.94-.94-2.06-.94 2.06-2.06.94z\"/><path d=\"M17.41 7.96l-1.37-1.37c-.4-.4-.92-.59-1.43-.59-.52 0-1.04.2-1.43.59L10.3 9.45l-7.72 7.72c-.78.78-.78 2.05 0 2.83L4 21.41c.39.39.9.59 1.41.59.51 0 1.02-.2 1.41-.59l7.78-7.78 2.81-2.81c.8-.78.8-2.07 0-2.86zM5.41 20L4 18.59l7.72-7.72 1.47 1.35L5.41 20z\"/>\n",
              "  </svg>\n",
              "      </button>\n",
              "      \n",
              "  <style>\n",
              "    .colab-df-container {\n",
              "      display:flex;\n",
              "      flex-wrap:wrap;\n",
              "      gap: 12px;\n",
              "    }\n",
              "\n",
              "    .colab-df-convert {\n",
              "      background-color: #E8F0FE;\n",
              "      border: none;\n",
              "      border-radius: 50%;\n",
              "      cursor: pointer;\n",
              "      display: none;\n",
              "      fill: #1967D2;\n",
              "      height: 32px;\n",
              "      padding: 0 0 0 0;\n",
              "      width: 32px;\n",
              "    }\n",
              "\n",
              "    .colab-df-convert:hover {\n",
              "      background-color: #E2EBFA;\n",
              "      box-shadow: 0px 1px 2px rgba(60, 64, 67, 0.3), 0px 1px 3px 1px rgba(60, 64, 67, 0.15);\n",
              "      fill: #174EA6;\n",
              "    }\n",
              "\n",
              "    [theme=dark] .colab-df-convert {\n",
              "      background-color: #3B4455;\n",
              "      fill: #D2E3FC;\n",
              "    }\n",
              "\n",
              "    [theme=dark] .colab-df-convert:hover {\n",
              "      background-color: #434B5C;\n",
              "      box-shadow: 0px 1px 3px 1px rgba(0, 0, 0, 0.15);\n",
              "      filter: drop-shadow(0px 1px 2px rgba(0, 0, 0, 0.3));\n",
              "      fill: #FFFFFF;\n",
              "    }\n",
              "  </style>\n",
              "\n",
              "      <script>\n",
              "        const buttonEl =\n",
              "          document.querySelector('#df-05995e69-6e24-4326-8e03-c6e268be4b49 button.colab-df-convert');\n",
              "        buttonEl.style.display =\n",
              "          google.colab.kernel.accessAllowed ? 'block' : 'none';\n",
              "\n",
              "        async function convertToInteractive(key) {\n",
              "          const element = document.querySelector('#df-05995e69-6e24-4326-8e03-c6e268be4b49');\n",
              "          const dataTable =\n",
              "            await google.colab.kernel.invokeFunction('convertToInteractive',\n",
              "                                                     [key], {});\n",
              "          if (!dataTable) return;\n",
              "\n",
              "          const docLinkHtml = 'Like what you see? Visit the ' +\n",
              "            '<a target=\"_blank\" href=https://colab.research.google.com/notebooks/data_table.ipynb>data table notebook</a>'\n",
              "            + ' to learn more about interactive tables.';\n",
              "          element.innerHTML = '';\n",
              "          dataTable['output_type'] = 'display_data';\n",
              "          await google.colab.output.renderOutput(dataTable, element);\n",
              "          const docLink = document.createElement('div');\n",
              "          docLink.innerHTML = docLinkHtml;\n",
              "          element.appendChild(docLink);\n",
              "        }\n",
              "      </script>\n",
              "    </div>\n",
              "  </div>\n",
              "  "
            ]
          },
          "metadata": {},
          "execution_count": 6
        }
      ],
      "source": [
        "data = pd.read_csv('data1.txt',header=None)\n",
        "data.rename(columns = {0:'Visitor_Count', 1:'Revenue'}, inplace=True)\n",
        "data.head()"
      ]
    },
    {
      "cell_type": "code",
      "execution_count": 7,
      "metadata": {
        "id": "RCrYADYWsJmd",
        "outputId": "4d54d7cb-df0a-4ecb-ddc2-8141ec61a391",
        "colab": {
          "base_uri": "https://localhost:8080/"
        }
      },
      "outputs": [
        {
          "output_type": "stream",
          "name": "stdout",
          "text": [
            "<class 'pandas.core.frame.DataFrame'>\n",
            "RangeIndex: 97 entries, 0 to 96\n",
            "Data columns (total 2 columns):\n",
            " #   Column         Non-Null Count  Dtype  \n",
            "---  ------         --------------  -----  \n",
            " 0   Visitor_Count  97 non-null     float64\n",
            " 1   Revenue        97 non-null     float64\n",
            "dtypes: float64(2)\n",
            "memory usage: 1.6 KB\n"
          ]
        }
      ],
      "source": [
        "data.info()"
      ]
    },
    {
      "cell_type": "code",
      "execution_count": 8,
      "metadata": {
        "id": "BR4I9XoLsJmd",
        "outputId": "c775ca0f-51aa-430e-9d80-244e6c161bf3",
        "colab": {
          "base_uri": "https://localhost:8080/",
          "height": 449
        }
      },
      "outputs": [
        {
          "output_type": "display_data",
          "data": {
            "text/plain": [
              "<Figure size 640x480 with 1 Axes>"
            ],
            "image/png": "[encoded data removed]"
          },
          "metadata": {}
        }
      ],
      "source": [
        "plt.scatter(data.Visitor_Count, data.Revenue)\n",
        "plt.xlabel('Visitor Count in 10,000')\n",
        "plt.ylabel('Revenue in 10,000')\n",
        "plt.show()"
      ]
    },
    {
      "cell_type": "code",
      "execution_count": 9,
      "metadata": {
        "id": "0dvAO6KCcZsk"
      },
      "outputs": [],
      "source": [
        "# Save\n",
        "data.to_excel('/content/df.xlsx') # '/content/df.xlsx'"
      ]
    },
    {
      "cell_type": "markdown",
      "metadata": {
        "id": "hIdrHYULsJme"
      },
      "source": [
        "### Separating feature X and output Y"
      ]
    },
    {
      "cell_type": "code",
      "execution_count": 10,
      "metadata": {
        "id": "XSYt2nnaez2b",
        "outputId": "f3879217-5c09-4f66-c0cb-b9d41b5f816c",
        "colab": {
          "base_uri": "https://localhost:8080/"
        }
      },
      "outputs": [
        {
          "output_type": "execute_result",
          "data": {
            "text/plain": [
              "array([[1., 1., 1., 1.],\n",
              "       [1., 1., 1., 1.],\n",
              "       [1., 1., 1., 1.]])"
            ]
          },
          "metadata": {},
          "execution_count": 10
        }
      ],
      "source": [
        "ones = np.ones((3,4))\n",
        "ones"
      ]
    },
    {
      "cell_type": "code",
      "execution_count": 11,
      "metadata": {
        "id": "nuipCOlzsJmf",
        "outputId": "c93c71e7-97b5-41f2-e316-20f5189f56bb",
        "colab": {
          "base_uri": "https://localhost:8080/"
        }
      },
      "outputs": [
        {
          "output_type": "stream",
          "name": "stdout",
          "text": [
            "97\n"
          ]
        },
        {
          "output_type": "execute_result",
          "data": {
            "text/plain": [
              "array([[17.592  ],\n",
              "       [ 9.1302 ],\n",
              "       [13.662  ],\n",
              "       [11.854  ],\n",
              "       [ 6.8233 ],\n",
              "       [11.886  ],\n",
              "       [ 4.3483 ],\n",
              "       [12.     ],\n",
              "       [ 6.5987 ],\n",
              "       [ 3.8166 ],\n",
              "       [ 3.2522 ],\n",
              "       [15.505  ],\n",
              "       [ 3.1551 ],\n",
              "       [ 7.2258 ],\n",
              "       [ 0.71618],\n",
              "       [ 3.5129 ],\n",
              "       [ 5.3048 ],\n",
              "       [ 0.56077],\n",
              "       [ 3.6518 ],\n",
              "       [ 5.3893 ],\n",
              "       [ 3.1386 ],\n",
              "       [21.767  ],\n",
              "       [ 4.263  ],\n",
              "       [ 5.1875 ],\n",
              "       [ 3.0825 ],\n",
              "       [22.638  ],\n",
              "       [13.501  ],\n",
              "       [ 7.0467 ],\n",
              "       [14.692  ],\n",
              "       [24.147  ],\n",
              "       [-1.22   ],\n",
              "       [ 5.9966 ],\n",
              "       [12.134  ],\n",
              "       [ 1.8495 ],\n",
              "       [ 6.5426 ],\n",
              "       [ 4.5623 ],\n",
              "       [ 4.1164 ],\n",
              "       [ 3.3928 ],\n",
              "       [10.117  ],\n",
              "       [ 5.4974 ],\n",
              "       [ 0.55657],\n",
              "       [ 3.9115 ],\n",
              "       [ 5.3854 ],\n",
              "       [ 2.4406 ],\n",
              "       [ 6.7318 ],\n",
              "       [ 1.0463 ],\n",
              "       [ 5.1337 ],\n",
              "       [ 1.844  ],\n",
              "       [ 8.0043 ],\n",
              "       [ 1.0179 ],\n",
              "       [ 6.7504 ],\n",
              "       [ 1.8396 ],\n",
              "       [ 4.2885 ],\n",
              "       [ 4.9981 ],\n",
              "       [ 1.4233 ],\n",
              "       [-1.4211 ],\n",
              "       [ 2.4756 ],\n",
              "       [ 4.6042 ],\n",
              "       [ 3.9624 ],\n",
              "       [ 5.4141 ],\n",
              "       [ 5.1694 ],\n",
              "       [-0.74279],\n",
              "       [17.929  ],\n",
              "       [12.054  ],\n",
              "       [17.054  ],\n",
              "       [ 4.8852 ],\n",
              "       [ 5.7442 ],\n",
              "       [ 7.7754 ],\n",
              "       [ 1.0173 ],\n",
              "       [20.992  ],\n",
              "       [ 6.6799 ],\n",
              "       [ 4.0259 ],\n",
              "       [ 1.2784 ],\n",
              "       [ 3.3411 ],\n",
              "       [-2.6807 ],\n",
              "       [ 0.29678],\n",
              "       [ 3.8845 ],\n",
              "       [ 5.7014 ],\n",
              "       [ 6.7526 ],\n",
              "       [ 2.0576 ],\n",
              "       [ 0.47953],\n",
              "       [ 0.20421],\n",
              "       [ 0.67861],\n",
              "       [ 7.5435 ],\n",
              "       [ 5.3436 ],\n",
              "       [ 4.2415 ],\n",
              "       [ 6.7981 ],\n",
              "       [ 0.92695],\n",
              "       [ 0.152  ],\n",
              "       [ 2.8214 ],\n",
              "       [ 1.8451 ],\n",
              "       [ 4.2959 ],\n",
              "       [ 7.2029 ],\n",
              "       [ 1.9869 ],\n",
              "       [ 0.14454],\n",
              "       [ 9.0551 ],\n",
              "       [ 0.61705]])"
            ]
          },
          "metadata": {},
          "execution_count": 11
        }
      ],
      "source": [
        "## Separating feature i.e. x\n",
        "x = data['Visitor_Count'].values\n",
        "m = len(x)\n",
        "print(m)\n",
        "x = x[:, np.newaxis]\n",
        "ones = np.ones((97,1))\n",
        "X = np.hstack([ones,x])\n",
        "\n",
        "## Separint output i.e. y\n",
        "y = data['Revenue'].values\n",
        "y = y[:,np.newaxis]\n",
        "y"
      ]
    },
    {
      "cell_type": "markdown",
      "metadata": {
        "id": "iPMNftaesJmf"
      },
      "source": [
        "### Gradient Calculation\n",
        "* First Eqn is gradient of cost with respect to theta_0\n",
        "* Second Eqn is gradient of cost with respect to theata_1\n",
        "\n",
        "![](https://cdn.extras.talentsprint.com/IOT/Images/Gradient_Cal.png)\n",
        "\n",
        "#### Now implementing exactly these two Eqn in syntax:"
      ]
    },
    {
      "cell_type": "markdown",
      "metadata": {
        "id": "fsYeC9wVsJmh"
      },
      "source": [
        "### Assuming theta"
      ]
    },
    {
      "cell_type": "code",
      "execution_count": 12,
      "metadata": {
        "id": "Xk-4-cb2sJmi",
        "outputId": "b88739df-0cd0-4b65-96d2-e82f97967450",
        "colab": {
          "base_uri": "https://localhost:8080/"
        }
      },
      "outputs": [
        {
          "output_type": "execute_result",
          "data": {
            "text/plain": [
              "array([[1.76405235],\n",
              "       [0.40015721]])"
            ]
          },
          "metadata": {},
          "execution_count": 12
        }
      ],
      "source": [
        "np.random.seed(0)\n",
        "theta = np.random.randn(2,1)  # first value=c, second value=m \n",
        "theta"
      ]
    },
    {
      "cell_type": "code",
      "execution_count": 13,
      "metadata": {
        "id": "ATZtwR10q1c0",
        "outputId": "4ae0f2df-e1a8-458a-86cc-eb173fb4df58",
        "colab": {
          "base_uri": "https://localhost:8080/"
        }
      },
      "outputs": [
        {
          "output_type": "execute_result",
          "data": {
            "text/plain": [
              "(2, 1)"
            ]
          },
          "metadata": {},
          "execution_count": 13
        }
      ],
      "source": [
        "theta.shape"
      ]
    },
    {
      "cell_type": "code",
      "execution_count": 14,
      "metadata": {
        "id": "XqQY1sm2q3TN",
        "outputId": "f8747569-5f3f-401d-8938-2ae2513c9b23",
        "colab": {
          "base_uri": "https://localhost:8080/"
        }
      },
      "outputs": [
        {
          "output_type": "execute_result",
          "data": {
            "text/plain": [
              "(97, 2)"
            ]
          },
          "metadata": {},
          "execution_count": 14
        }
      ],
      "source": [
        "X.shape"
      ]
    },
    {
      "cell_type": "code",
      "execution_count": 15,
      "metadata": {
        "id": "IcWNBHehrJd6",
        "outputId": "cb3c42f8-42a5-4b5d-f3d4-1da03581846c",
        "colab": {
          "base_uri": "https://localhost:8080/"
        }
      },
      "outputs": [
        {
          "output_type": "execute_result",
          "data": {
            "text/plain": [
              "array([[17.592  ],\n",
              "       [ 9.1302 ],\n",
              "       [13.662  ],\n",
              "       [11.854  ],\n",
              "       [ 6.8233 ],\n",
              "       [11.886  ],\n",
              "       [ 4.3483 ],\n",
              "       [12.     ],\n",
              "       [ 6.5987 ],\n",
              "       [ 3.8166 ],\n",
              "       [ 3.2522 ],\n",
              "       [15.505  ],\n",
              "       [ 3.1551 ],\n",
              "       [ 7.2258 ],\n",
              "       [ 0.71618],\n",
              "       [ 3.5129 ],\n",
              "       [ 5.3048 ],\n",
              "       [ 0.56077],\n",
              "       [ 3.6518 ],\n",
              "       [ 5.3893 ],\n",
              "       [ 3.1386 ],\n",
              "       [21.767  ],\n",
              "       [ 4.263  ],\n",
              "       [ 5.1875 ],\n",
              "       [ 3.0825 ],\n",
              "       [22.638  ],\n",
              "       [13.501  ],\n",
              "       [ 7.0467 ],\n",
              "       [14.692  ],\n",
              "       [24.147  ],\n",
              "       [-1.22   ],\n",
              "       [ 5.9966 ],\n",
              "       [12.134  ],\n",
              "       [ 1.8495 ],\n",
              "       [ 6.5426 ],\n",
              "       [ 4.5623 ],\n",
              "       [ 4.1164 ],\n",
              "       [ 3.3928 ],\n",
              "       [10.117  ],\n",
              "       [ 5.4974 ],\n",
              "       [ 0.55657],\n",
              "       [ 3.9115 ],\n",
              "       [ 5.3854 ],\n",
              "       [ 2.4406 ],\n",
              "       [ 6.7318 ],\n",
              "       [ 1.0463 ],\n",
              "       [ 5.1337 ],\n",
              "       [ 1.844  ],\n",
              "       [ 8.0043 ],\n",
              "       [ 1.0179 ],\n",
              "       [ 6.7504 ],\n",
              "       [ 1.8396 ],\n",
              "       [ 4.2885 ],\n",
              "       [ 4.9981 ],\n",
              "       [ 1.4233 ],\n",
              "       [-1.4211 ],\n",
              "       [ 2.4756 ],\n",
              "       [ 4.6042 ],\n",
              "       [ 3.9624 ],\n",
              "       [ 5.4141 ],\n",
              "       [ 5.1694 ],\n",
              "       [-0.74279],\n",
              "       [17.929  ],\n",
              "       [12.054  ],\n",
              "       [17.054  ],\n",
              "       [ 4.8852 ],\n",
              "       [ 5.7442 ],\n",
              "       [ 7.7754 ],\n",
              "       [ 1.0173 ],\n",
              "       [20.992  ],\n",
              "       [ 6.6799 ],\n",
              "       [ 4.0259 ],\n",
              "       [ 1.2784 ],\n",
              "       [ 3.3411 ],\n",
              "       [-2.6807 ],\n",
              "       [ 0.29678],\n",
              "       [ 3.8845 ],\n",
              "       [ 5.7014 ],\n",
              "       [ 6.7526 ],\n",
              "       [ 2.0576 ],\n",
              "       [ 0.47953],\n",
              "       [ 0.20421],\n",
              "       [ 0.67861],\n",
              "       [ 7.5435 ],\n",
              "       [ 5.3436 ],\n",
              "       [ 4.2415 ],\n",
              "       [ 6.7981 ],\n",
              "       [ 0.92695],\n",
              "       [ 0.152  ],\n",
              "       [ 2.8214 ],\n",
              "       [ 1.8451 ],\n",
              "       [ 4.2959 ],\n",
              "       [ 7.2029 ],\n",
              "       [ 1.9869 ],\n",
              "       [ 0.14454],\n",
              "       [ 9.0551 ],\n",
              "       [ 0.61705]])"
            ]
          },
          "metadata": {},
          "execution_count": 15
        }
      ],
      "source": [
        "y"
      ]
    },
    {
      "cell_type": "markdown",
      "metadata": {
        "id": "Fe_3_ndJsJmj"
      },
      "source": [
        "#### Calculating gradient with respect to theta_0"
      ]
    },
    {
      "cell_type": "code",
      "execution_count": 16,
      "metadata": {
        "id": "lfRypJeNsJmk",
        "outputId": "d6c903f8-24be-4ffb-ce16-15017de3886c",
        "colab": {
          "base_uri": "https://localhost:8080/"
        }
      },
      "outputs": [
        {
          "output_type": "execute_result",
          "data": {
            "text/plain": [
              "-0.809879916743859"
            ]
          },
          "metadata": {},
          "execution_count": 16
        }
      ],
      "source": [
        "(1/m) * np.sum((X.dot(theta) - y))    ## Ypredicted : X.dot(theta) , here y= original y"
      ]
    },
    {
      "cell_type": "markdown",
      "metadata": {
        "id": "SKFj8eHssJml"
      },
      "source": [
        "#### Calculating gradient with respect to theta_1"
      ]
    },
    {
      "cell_type": "code",
      "execution_count": 17,
      "metadata": {
        "id": "JkLK3-nQsJmm",
        "outputId": "e85f319c-35c2-49a6-f5a1-66b6ca1c6c33",
        "colab": {
          "base_uri": "https://localhost:8080/"
        }
      },
      "outputs": [
        {
          "output_type": "execute_result",
          "data": {
            "text/plain": [
              "-18.360160903168417"
            ]
          },
          "metadata": {},
          "execution_count": 17
        }
      ],
      "source": [
        "(1/m) * np.sum((X.dot(theta) - y) * x)"
      ]
    },
    {
      "cell_type": "code",
      "execution_count": 18,
      "metadata": {
        "id": "Ur4q4kZ6wF-c",
        "outputId": "f2b86d08-b606-43be-825a-65a32c63235e",
        "colab": {
          "base_uri": "https://localhost:8080/"
        }
      },
      "outputs": [
        {
          "output_type": "execute_result",
          "data": {
            "text/plain": [
              "array([[ 1.    ,  6.1101],\n",
              "       [ 1.    ,  5.5277],\n",
              "       [ 1.    ,  8.5186],\n",
              "       [ 1.    ,  7.0032],\n",
              "       [ 1.    ,  5.8598],\n",
              "       [ 1.    ,  8.3829],\n",
              "       [ 1.    ,  7.4764],\n",
              "       [ 1.    ,  8.5781],\n",
              "       [ 1.    ,  6.4862],\n",
              "       [ 1.    ,  5.0546],\n",
              "       [ 1.    ,  5.7107],\n",
              "       [ 1.    , 14.164 ],\n",
              "       [ 1.    ,  5.734 ],\n",
              "       [ 1.    ,  8.4084],\n",
              "       [ 1.    ,  5.6407],\n",
              "       [ 1.    ,  5.3794],\n",
              "       [ 1.    ,  6.3654],\n",
              "       [ 1.    ,  5.1301],\n",
              "       [ 1.    ,  6.4296],\n",
              "       [ 1.    ,  7.0708],\n",
              "       [ 1.    ,  6.1891],\n",
              "       [ 1.    , 20.27  ],\n",
              "       [ 1.    ,  5.4901],\n",
              "       [ 1.    ,  6.3261],\n",
              "       [ 1.    ,  5.5649],\n",
              "       [ 1.    , 18.945 ],\n",
              "       [ 1.    , 12.828 ],\n",
              "       [ 1.    , 10.957 ],\n",
              "       [ 1.    , 13.176 ],\n",
              "       [ 1.    , 22.203 ],\n",
              "       [ 1.    ,  5.2524],\n",
              "       [ 1.    ,  6.5894],\n",
              "       [ 1.    ,  9.2482],\n",
              "       [ 1.    ,  5.8918],\n",
              "       [ 1.    ,  8.2111],\n",
              "       [ 1.    ,  7.9334],\n",
              "       [ 1.    ,  8.0959],\n",
              "       [ 1.    ,  5.6063],\n",
              "       [ 1.    , 12.836 ],\n",
              "       [ 1.    ,  6.3534],\n",
              "       [ 1.    ,  5.4069],\n",
              "       [ 1.    ,  6.8825],\n",
              "       [ 1.    , 11.708 ],\n",
              "       [ 1.    ,  5.7737],\n",
              "       [ 1.    ,  7.8247],\n",
              "       [ 1.    ,  7.0931],\n",
              "       [ 1.    ,  5.0702],\n",
              "       [ 1.    ,  5.8014],\n",
              "       [ 1.    , 11.7   ],\n",
              "       [ 1.    ,  5.5416],\n",
              "       [ 1.    ,  7.5402],\n",
              "       [ 1.    ,  5.3077],\n",
              "       [ 1.    ,  7.4239],\n",
              "       [ 1.    ,  7.6031],\n",
              "       [ 1.    ,  6.3328],\n",
              "       [ 1.    ,  6.3589],\n",
              "       [ 1.    ,  6.2742],\n",
              "       [ 1.    ,  5.6397],\n",
              "       [ 1.    ,  9.3102],\n",
              "       [ 1.    ,  9.4536],\n",
              "       [ 1.    ,  8.8254],\n",
              "       [ 1.    ,  5.1793],\n",
              "       [ 1.    , 21.279 ],\n",
              "       [ 1.    , 14.908 ],\n",
              "       [ 1.    , 18.959 ],\n",
              "       [ 1.    ,  7.2182],\n",
              "       [ 1.    ,  8.2951],\n",
              "       [ 1.    , 10.236 ],\n",
              "       [ 1.    ,  5.4994],\n",
              "       [ 1.    , 20.341 ],\n",
              "       [ 1.    , 10.136 ],\n",
              "       [ 1.    ,  7.3345],\n",
              "       [ 1.    ,  6.0062],\n",
              "       [ 1.    ,  7.2259],\n",
              "       [ 1.    ,  5.0269],\n",
              "       [ 1.    ,  6.5479],\n",
              "       [ 1.    ,  7.5386],\n",
              "       [ 1.    ,  5.0365],\n",
              "       [ 1.    , 10.274 ],\n",
              "       [ 1.    ,  5.1077],\n",
              "       [ 1.    ,  5.7292],\n",
              "       [ 1.    ,  5.1884],\n",
              "       [ 1.    ,  6.3557],\n",
              "       [ 1.    ,  9.7687],\n",
              "       [ 1.    ,  6.5159],\n",
              "       [ 1.    ,  8.5172],\n",
              "       [ 1.    ,  9.1802],\n",
              "       [ 1.    ,  6.002 ],\n",
              "       [ 1.    ,  5.5204],\n",
              "       [ 1.    ,  5.0594],\n",
              "       [ 1.    ,  5.7077],\n",
              "       [ 1.    ,  7.6366],\n",
              "       [ 1.    ,  5.8707],\n",
              "       [ 1.    ,  5.3054],\n",
              "       [ 1.    ,  8.2934],\n",
              "       [ 1.    , 13.394 ],\n",
              "       [ 1.    ,  5.4369]])"
            ]
          },
          "metadata": {},
          "execution_count": 18
        }
      ],
      "source": [
        "X ## (97,2)"
      ]
    },
    {
      "cell_type": "code",
      "execution_count": 19,
      "metadata": {
        "id": "80kwuX2UwGvn",
        "outputId": "090229de-93fa-4b0a-aa6a-2720cbd4fc34",
        "colab": {
          "base_uri": "https://localhost:8080/"
        }
      },
      "outputs": [
        {
          "output_type": "execute_result",
          "data": {
            "text/plain": [
              "array([[-13.3829471 ],\n",
              "       [ -5.15419865],\n",
              "       [ -8.48916846],\n",
              "       [ -7.28756669],\n",
              "       [ -2.71440644],\n",
              "       [ -6.76746979],\n",
              "       [  0.4074877 ],\n",
              "       [ -6.8033591 ],\n",
              "       [ -2.23914797],\n",
              "       [ -0.02991303],\n",
              "       [  0.79703012],\n",
              "       [ -8.07312095],\n",
              "       [  0.90345378],\n",
              "       [ -2.09706578],\n",
              "       [  3.30503911],\n",
              "       [  0.40375803],\n",
              "       [ -0.99358696],\n",
              "       [  3.25612884],\n",
              "       [  0.68510313],\n",
              "       [ -0.79581607],\n",
              "       [  1.10206532],\n",
              "       [-11.89176104],\n",
              "       [ -0.30204456],\n",
              "       [ -0.89201314],\n",
              "       [  0.90838719],\n",
              "       [-13.29296934],\n",
              "       [ -6.60373099],\n",
              "       [ -0.89812512],\n",
              "       [ -7.65547628],\n",
              "       [-13.49825716],\n",
              "       [  5.08583807],\n",
              "       [ -1.59575175],\n",
              "       [ -6.66921376],\n",
              "       [  2.27219859],\n",
              "       [ -1.4928168 ],\n",
              "       [  0.37635954],\n",
              "       [  0.88728509],\n",
              "       [  0.6146537 ],\n",
              "       [ -3.21652973],\n",
              "       [ -1.19098885],\n",
              "       [  3.37109236],\n",
              "       [  0.60663433],\n",
              "       [  1.06369294],\n",
              "       [  1.63384002],\n",
              "       [ -1.83663755],\n",
              "       [  3.55610744],\n",
              "       [ -1.34077058],\n",
              "       [  2.24152437],\n",
              "       [ -1.55840832],\n",
              "       [  2.96366353],\n",
              "       [ -1.96908227],\n",
              "       [  2.04836676],\n",
              "       [  0.44627945],\n",
              "       [ -0.19161238],\n",
              "       [  2.87486792],\n",
              "       [  5.72971202],\n",
              "       [  1.7991187 ],\n",
              "       [ -0.58338105],\n",
              "       [  1.52719599],\n",
              "       [  0.13287853],\n",
              "       [  0.12619977],\n",
              "       [  4.57937658],\n",
              "       [ -7.65000242],\n",
              "       [ -4.32440399],\n",
              "       [ -7.70336714],\n",
              "       [ -0.23273289],\n",
              "       [ -0.66080359],\n",
              "       [ -1.91533847],\n",
              "       [  2.9473769 ],\n",
              "       [-11.08834988],\n",
              "       [ -0.85985419],\n",
              "       [  0.67310539],\n",
              "       [  2.88907657],\n",
              "       [  1.31444832],\n",
              "       [  6.45630262],\n",
              "       [  4.08746173],\n",
              "       [  0.89617748],\n",
              "       [ -1.92195587],\n",
              "       [ -0.8773325 ],\n",
              "       [  1.75033532],\n",
              "       [  3.57710302],\n",
              "       [  3.63601801],\n",
              "       [  3.62872152],\n",
              "       [ -1.87043193],\n",
              "       [ -0.9721633 ],\n",
              "       [  0.93077132],\n",
              "       [ -1.36052445],\n",
              "       [  3.23884591],\n",
              "       [  3.8210802 ],\n",
              "       [  0.96720773],\n",
              "       [  2.20292964],\n",
              "       [  0.52399288],\n",
              "       [ -3.08964473],\n",
              "       [  1.9001464 ],\n",
              "       [  4.93817614],\n",
              "       [ -1.93134201],\n",
              "       [  3.32261707]])"
            ]
          },
          "metadata": {},
          "execution_count": 19
        }
      ],
      "source": [
        "A = (X.dot(theta) - y)     ## Error e=(yp-yo)\n",
        "A ## (97,1)"
      ]
    },
    {
      "cell_type": "markdown",
      "metadata": {
        "id": "2TGxfTdGsJmm"
      },
      "source": [
        "### Combining both into one equation\n",
        "* Here for simplicity only 3 rows of data (in both X and A matrix) have been shown, actually it has 'm' rows  containing all the data\n",
        "* X is feature matrix\n",
        "* **A** is the resulting matrix of error calculation i.e. result of eqn --> X.dot(theta)-Y    \n",
        "\n",
        "![](https://cdn.extras.talentsprint.com/IOT/Images/Both_Grad_in_one.png)"
      ]
    },
    {
      "cell_type": "markdown",
      "metadata": {
        "id": "ucO-csecsJmo"
      },
      "source": [
        "### Note the two elements of the resulting matrix:\n",
        "* The first element is sum of each error, i.e. gradient with respect to theta_0, see the eqn above.\n",
        "* The second element is the sum of the element-wise product of each error and  x, i.e. gradient with respect to thrta_1.\n",
        "* Thus if we, multiply X transpose with A we can get both gradients in one shot, as given below:"
      ]
    },
    {
      "cell_type": "code",
      "execution_count": 20,
      "metadata": {
        "id": "PQHNZ0M5sJmp",
        "outputId": "54ab012d-18aa-44ce-efca-3338ba775ec5",
        "colab": {
          "base_uri": "https://localhost:8080/"
        }
      },
      "outputs": [
        {
          "output_type": "execute_result",
          "data": {
            "text/plain": [
              "array([[ -0.80987992],\n",
              "       [-18.3601609 ]])"
            ]
          },
          "metadata": {},
          "execution_count": 20
        }
      ],
      "source": [
        "(1/m) * (X.T).dot(X.dot(theta) - y)"
      ]
    },
    {
      "cell_type": "markdown",
      "metadata": {
        "id": "JClaCReasJmt"
      },
      "source": [
        "### Applying Gradient Descent"
      ]
    },
    {
      "cell_type": "markdown",
      "metadata": {
        "id": "xit82iO7MSaU"
      },
      "source": [
        "![](https://cdn.extras.talentsprint.com/IOT/Images/GD_Algo.png)"
      ]
    },
    {
      "cell_type": "markdown",
      "metadata": {
        "id": "eJ6PI7PHsJmr"
      },
      "source": [
        "### Gradient Descent"
      ]
    },
    {
      "cell_type": "markdown",
      "metadata": {
        "id": "PAHDZ8QeJZ-z"
      },
      "source": [
        "\n",
        "### **Initialization of theta** "
      ]
    },
    {
      "cell_type": "code",
      "execution_count": null,
      "metadata": {
        "id": "HWF8zMwhy5Z4"
      },
      "outputs": [],
      "source": [
        "np.random.seed(0)\n",
        "theta = np.random.randn(2,1)  # first value=c, second value=m \n",
        "theta"
      ]
    },
    {
      "cell_type": "code",
      "execution_count": 23,
      "metadata": {
        "id": "dxUnj9SvsJms"
      },
      "outputs": [],
      "source": [
        "a = 0.01      # Learning Rate"
      ]
    },
    {
      "cell_type": "code",
      "execution_count": 22,
      "metadata": {
        "id": "kWIG1_CPymJO"
      },
      "outputs": [],
      "source": [
        "grad = (1/m) * (X.T).dot(X.dot(theta) - y)"
      ]
    },
    {
      "cell_type": "code",
      "execution_count": 24,
      "metadata": {
        "id": "B118d9HBsJmt",
        "outputId": "d4ef4029-c86c-48d1-9580-c29ed83df68f",
        "colab": {
          "base_uri": "https://localhost:8080/"
        }
      },
      "outputs": [
        {
          "output_type": "execute_result",
          "data": {
            "text/plain": [
              "array([[1.77215115],\n",
              "       [0.58375882]])"
            ]
          },
          "metadata": {},
          "execution_count": 24
        }
      ],
      "source": [
        "theta = theta - a*grad\n",
        "theta"
      ]
    },
    {
      "cell_type": "markdown",
      "metadata": {
        "id": "UoTEd-dUzO9u"
      },
      "source": [
        "#### Complete implementation"
      ]
    },
    {
      "cell_type": "code",
      "execution_count": 25,
      "metadata": {
        "id": "JqhpBwm1sJmu",
        "outputId": "72616e5e-587c-46e7-fb7c-471ec3aaaf8a",
        "colab": {
          "base_uri": "https://localhost:8080/"
        }
      },
      "outputs": [
        {
          "output_type": "stream",
          "name": "stdout",
          "text": [
            "[[1.76405235]\n",
            " [0.40015721]]\n",
            "[[-3.8957808 ]\n",
            " [ 1.19303364]]\n"
          ]
        }
      ],
      "source": [
        "## Theta initialization\n",
        "np.random.seed(0)\n",
        "theta = np.random.randn(2,1)  # first value=c, second value=m \n",
        "print(theta)\n",
        "n_iteration = 10000 ## number of iteration\n",
        "a = 0.01\n",
        "for i_iter in range(n_iteration):\n",
        "  grad = (1/m) * (X.T).dot(X.dot(theta) - y) ##Gradient calculation\n",
        "  theta = theta - a*grad\n",
        "print(theta)         ## final updated theta after certain loop\n"
      ]
    },
    {
      "cell_type": "markdown",
      "metadata": {
        "id": "tTM2jKH-sJmw"
      },
      "source": [
        "### Cost Calculation\n",
        "\n",
        "![](https://cdn.extras.talentsprint.com/IOT/Images/cost_cal.png)\n",
        "\n",
        "\n"
      ]
    },
    {
      "cell_type": "code",
      "execution_count": 26,
      "metadata": {
        "id": "Z9MzmUELsJmy",
        "outputId": "16c0f378-d95e-4f14-9ded-7fd633020e1b",
        "colab": {
          "base_uri": "https://localhost:8080/"
        }
      },
      "outputs": [
        {
          "output_type": "execute_result",
          "data": {
            "text/plain": [
              "4.476971375975179"
            ]
          },
          "metadata": {},
          "execution_count": 26
        }
      ],
      "source": [
        "c = (1/(2*m)) * np.sum((np.square(X.dot(theta) - y)))\n",
        "c"
      ]
    },
    {
      "cell_type": "markdown",
      "metadata": {
        "id": "chFnsrkqsJm0"
      },
      "source": [
        "### Including cost calculation for each iteration inside loop i.e. calculating cost for each updated theta:"
      ]
    },
    {
      "cell_type": "code",
      "execution_count": 27,
      "metadata": {
        "id": "fYeR3-E503aG",
        "outputId": "aab75a81-ff24-416f-ea01-82d2f63c4d48",
        "colab": {
          "base_uri": "https://localhost:8080/"
        }
      },
      "outputs": [
        {
          "output_type": "stream",
          "name": "stdout",
          "text": [
            "[[1.76405235]\n",
            " [0.40015721]]\n",
            "[[-2.95911664]\n",
            " [ 1.09893556]]\n",
            "9999\n"
          ]
        }
      ],
      "source": [
        "## Theta initialization\n",
        "np.random.seed(0)\n",
        "theta = np.random.randn(2,1)  # first value=c, second value=m \n",
        "print(theta)\n",
        "c = np.zeros((m,1)) # zero matrix initialization for storing cost values\n",
        "n_iteration = 10000 ## number of iterations\n",
        "c = np.zeros((n_iteration,1))\n",
        "a = 0.001   ## Learning rate\n",
        "for i_iter in range(n_iteration):\n",
        "  grad = (1/m) * (X.T).dot(X.dot(theta) - y) ##Gradient calculation\n",
        "  theta = theta - a*grad\n",
        "  c[i_iter,0] = (1/(2*m)) * np.sum((np.square(X.dot(theta) - y)))\n",
        "\n",
        "print(theta) ## final updated theta after certain loop\n",
        "print(i_iter)\n"
      ]
    },
    {
      "cell_type": "code",
      "execution_count": 28,
      "metadata": {
        "id": "uIkPEIEl2DPY",
        "outputId": "2d81adee-9235-49e1-cbbf-f6de7059c2c8",
        "colab": {
          "base_uri": "https://localhost:8080/"
        }
      },
      "outputs": [
        {
          "output_type": "execute_result",
          "data": {
            "text/plain": [
              "8.866839075125593"
            ]
          },
          "metadata": {},
          "execution_count": 28
        }
      ],
      "source": [
        "c[1,0]"
      ]
    },
    {
      "cell_type": "code",
      "execution_count": 29,
      "metadata": {
        "id": "5zmfjZnb3LN5",
        "outputId": "0d561c1c-4d35-4c29-b65e-3332aabf46dc",
        "colab": {
          "base_uri": "https://localhost:8080/"
        }
      },
      "outputs": [
        {
          "output_type": "stream",
          "name": "stdout",
          "text": [
            "[[9.13983891]\n",
            " [8.86683908]\n",
            " [8.63672102]\n",
            " ...\n",
            " [4.5569015 ]\n",
            " [4.55687269]\n",
            " [4.55684389]]\n"
          ]
        }
      ],
      "source": [
        "print(c)"
      ]
    },
    {
      "cell_type": "code",
      "execution_count": 30,
      "metadata": {
        "id": "lbS5WDV9sJm3",
        "outputId": "509d0448-975e-492e-d9e7-a2a2d020aebe",
        "colab": {
          "base_uri": "https://localhost:8080/",
          "height": 448
        }
      },
      "outputs": [
        {
          "output_type": "execute_result",
          "data": {
            "text/plain": [
              "[<matplotlib.lines.Line2D at 0x7fd899e96310>]"
            ]
          },
          "metadata": {},
          "execution_count": 30
        },
        {
          "output_type": "display_data",
          "data": {
            "text/plain": [
              "<Figure size 640x480 with 1 Axes>"
            ],
            "image/png": "[encoded data removed]"
          },
          "metadata": {}
        }
      ],
      "source": [
        "## Plotting  cost funtion. Cost must decrease in each step if our code is implemented correctly.\n",
        "plt.plot(c) "
      ]
    },
    {
      "cell_type": "code",
      "execution_count": 31,
      "metadata": {
        "id": "DMUyv1bssJm4",
        "outputId": "69c8e228-ed74-4055-b259-413bd46a5cf5",
        "colab": {
          "base_uri": "https://localhost:8080/"
        }
      },
      "outputs": [
        {
          "output_type": "execute_result",
          "data": {
            "text/plain": [
              "array([[-2.95911664],\n",
              "       [ 1.09893556]])"
            ]
          },
          "metadata": {},
          "execution_count": 31
        }
      ],
      "source": [
        "theta"
      ]
    },
    {
      "cell_type": "code",
      "execution_count": 32,
      "metadata": {
        "id": "o9XbMiYlsJm4",
        "outputId": "9c986922-0d99-4579-fe39-5fdb648efbd1",
        "colab": {
          "base_uri": "https://localhost:8080/"
        }
      },
      "outputs": [
        {
          "output_type": "execute_result",
          "data": {
            "text/plain": [
              "array([[ 3.75548954],\n",
              "       [ 3.11546946],\n",
              "       [ 6.40227584],\n",
              "       [ 4.73694889],\n",
              "       [ 3.48042596],\n",
              "       [ 6.25315028],\n",
              "       [ 5.25696519],\n",
              "       [ 6.4676625 ],\n",
              "       [ 4.1687992 ],\n",
              "       [ 2.59556305],\n",
              "       [ 3.31657467],\n",
              "       [12.60620665],\n",
              "       [ 3.34217987],\n",
              "       [ 6.28117314],\n",
              "       [ 3.23964918],\n",
              "       [ 2.95249732],\n",
              "       [ 4.03604778],\n",
              "       [ 2.67853269],\n",
              "       [ 4.10659945],\n",
              "       [ 4.81123693],\n",
              "       [ 3.84230544],\n",
              "       [19.31630719],\n",
              "       [ 3.07414949],\n",
              "       [ 3.99285962],\n",
              "       [ 3.15634987],\n",
              "       [17.86021757],\n",
              "       [11.13802874],\n",
              "       [ 9.08192031],\n",
              "       [11.52045832],\n",
              "       [21.44054963],\n",
              "       [ 2.8129325 ],\n",
              "       [ 4.28220935],\n",
              "       [ 7.20405922],\n",
              "       [ 3.5155919 ],\n",
              "       [ 6.06435315],\n",
              "       [ 5.75917874],\n",
              "       [ 5.93775577],\n",
              "       [ 3.2018458 ],\n",
              "       [11.14682023],\n",
              "       [ 4.02286056],\n",
              "       [ 2.98271805],\n",
              "       [ 4.60430736],\n",
              "       [ 9.90722092],\n",
              "       [ 3.38580761],\n",
              "       [ 5.63972445],\n",
              "       [ 4.83574319],\n",
              "       [ 2.61270644],\n",
              "       [ 3.41624813],\n",
              "       [ 9.89842943],\n",
              "       [ 3.13074467],\n",
              "       [ 5.32707728],\n",
              "       [ 2.87370364],\n",
              "       [ 5.19927108],\n",
              "       [ 5.39620033],\n",
              "       [ 4.00022248],\n",
              "       [ 4.0289047 ],\n",
              "       [ 3.93582486],\n",
              "       [ 3.23855025],\n",
              "       [ 7.27219323],\n",
              "       [ 7.42978059],\n",
              "       [ 6.73942927],\n",
              "       [ 2.73260031],\n",
              "       [20.42513318],\n",
              "       [13.42381471],\n",
              "       [17.87560267],\n",
              "       [ 4.97322003],\n",
              "       [ 6.15666374],\n",
              "       [ 8.28958777],\n",
              "       [ 3.08436959],\n",
              "       [19.39433162],\n",
              "       [ 8.17969421],\n",
              "       [ 5.10102624],\n",
              "       [ 3.64131013],\n",
              "       [ 4.98168183],\n",
              "       [ 2.56512254],\n",
              "       [ 4.23660352],\n",
              "       [ 5.32531899],\n",
              "       [ 2.57567232],\n",
              "       [ 8.33134732],\n",
              "       [ 2.65391653],\n",
              "       [ 3.33690498],\n",
              "       [ 2.74260063],\n",
              "       [ 4.02538811],\n",
              "       [ 7.77605518],\n",
              "       [ 4.20143759],\n",
              "       [ 6.40073733],\n",
              "       [ 7.1293316 ],\n",
              "       [ 3.6366946 ],\n",
              "       [ 3.10744723],\n",
              "       [ 2.60083794],\n",
              "       [ 3.31327787],\n",
              "       [ 5.43301467],\n",
              "       [ 3.49240436],\n",
              "       [ 2.87117609],\n",
              "       [ 6.15479555],\n",
              "       [11.76002627],\n",
              "       [ 3.01568612]])"
            ]
          },
          "metadata": {},
          "execution_count": 32
        }
      ],
      "source": [
        "yp = X.dot(theta)  # This is predicted y for each x\n",
        "yp"
      ]
    },
    {
      "cell_type": "code",
      "execution_count": 33,
      "metadata": {
        "id": "U2H_h2AosJm5",
        "scrolled": true,
        "outputId": "720cc577-fa01-400f-8729-6f09866b5fb2",
        "colab": {
          "base_uri": "https://localhost:8080/",
          "height": 448
        }
      },
      "outputs": [
        {
          "output_type": "execute_result",
          "data": {
            "text/plain": [
              "[<matplotlib.lines.Line2D at 0x7fd899dfd7c0>]"
            ]
          },
          "metadata": {},
          "execution_count": 33
        },
        {
          "output_type": "display_data",
          "data": {
            "text/plain": [
              "<Figure size 640x480 with 1 Axes>"
            ],
            "image/png": "[encoded data removed]"
          },
          "metadata": {}
        }
      ],
      "source": [
        "plt.scatter(data.Visitor_Count,data.Revenue) ## Original data\n",
        "plt.plot(x,yp,'r-') ##  x versus predicted y in red color"
      ]
    },
    {
      "cell_type": "markdown",
      "metadata": {
        "id": "i4owrvXGiH5j"
      },
      "source": [
        "### Prediction for any new instance"
      ]
    },
    {
      "cell_type": "code",
      "execution_count": 34,
      "metadata": {
        "id": "2tZY950UsJm6"
      },
      "outputs": [],
      "source": [
        "## Making function for prediction\n",
        "def predict(x):\n",
        "    theta = np.array([[-3.89578081], [ 1.19303364]])\n",
        "    X1 = np.array([[1,x]])\n",
        "    yp = X1.dot(theta)\n",
        "    return yp[0,0]"
      ]
    },
    {
      "cell_type": "code",
      "execution_count": 35,
      "metadata": {
        "id": "IF47qzxLsJm7",
        "outputId": "0f9ff1e0-e649-4187-a1f9-0e5db3bf31c1",
        "colab": {
          "base_uri": "https://localhost:8080/"
        }
      },
      "outputs": [
        {
          "output_type": "execute_result",
          "data": {
            "text/plain": [
              "19.964891989999995"
            ]
          },
          "metadata": {},
          "execution_count": 35
        }
      ],
      "source": [
        "predict(20)"
      ]
    },
    {
      "cell_type": "markdown",
      "metadata": {
        "id": "D_TFU9y96nDz"
      },
      "source": [
        "### Stochastic Gradient Descent Algorithm and its Implementation"
      ]
    },
    {
      "cell_type": "code",
      "execution_count": 36,
      "metadata": {
        "id": "2K-EgXCd6nD0",
        "outputId": "07ca879b-0c64-4a9c-cf13-c8380191a3d0",
        "colab": {
          "base_uri": "https://localhost:8080/"
        }
      },
      "outputs": [
        {
          "output_type": "stream",
          "name": "stdout",
          "text": [
            "(97, 1) [6.1101]\n",
            "(97, 2) [1.     6.1101]\n",
            "(97, 1) [17.592]\n"
          ]
        }
      ],
      "source": [
        "# Displaying shape of feature, target, and  first value of each array to feed into SGD\n",
        "print(x.shape, x[0])\n",
        "print(X.shape, X[0])\n",
        "print(y.shape,y[0])"
      ]
    },
    {
      "cell_type": "code",
      "execution_count": 37,
      "metadata": {
        "id": "xKj1VcnS6nD2",
        "outputId": "b6f6d85b-e62a-4f2a-ba15-cd5070c9f45b",
        "colab": {
          "base_uri": "https://localhost:8080/"
        }
      },
      "outputs": [
        {
          "output_type": "stream",
          "name": "stdout",
          "text": [
            "[[-3.41367752]\n",
            " [ 1.17266871]]\n"
          ]
        }
      ],
      "source": [
        "n_epoch = 50\n",
        "t0, t1 = 5, 500 ## learning schedule hyperparameter\n",
        "\n",
        "def learning_schedule(t):\n",
        "    return t0/(t+t1)\n",
        "\n",
        "theta = np.random.randn(2,1)\n",
        "m = len(x)\n",
        "cost = []\n",
        "\n",
        "for epoch in range(n_epoch):\n",
        "    for i in range(m): # In every epoch, the weights are updated exactly m (the number of samples in the data set) numbers of times.\n",
        "        random_index = np.random.randint(m) \n",
        "        Xi = X[random_index:random_index+1]  # A single sample is picked randomly, and weights are updated for each sample at a time.\n",
        "        Yi = y[random_index:random_index+1]\n",
        "        grad = Xi.T.dot((Xi.dot(theta)-Yi))  # Gradient calculation\n",
        "        alpha = learning_schedule(epoch*m+i) # Learning rate is updated according to the learning_schedule function.\n",
        "        theta = theta-alpha*grad             # Update of weights\n",
        "    cost.append((1/(2*m))*np.sum(np.square((X.dot(theta)-y)))) # Tracking of cost for each epoch\n",
        "      \n",
        "print(theta)"
      ]
    },
    {
      "cell_type": "code",
      "execution_count": 38,
      "metadata": {
        "id": "aXRe4yw-6nD4",
        "outputId": "5d81d9fe-2f63-4837-8159-fea29a5a0727",
        "colab": {
          "base_uri": "https://localhost:8080/",
          "height": 448
        }
      },
      "outputs": [
        {
          "output_type": "execute_result",
          "data": {
            "text/plain": [
              "[<matplotlib.lines.Line2D at 0x7fd899d7b7c0>]"
            ]
          },
          "metadata": {},
          "execution_count": 38
        },
        {
          "output_type": "display_data",
          "data": {
            "text/plain": [
              "<Figure size 640x480 with 1 Axes>"
            ],
            "image/png": "[encoded data removed]"
          },
          "metadata": {}
        }
      ],
      "source": [
        "# Displaying Cost vs Epoch\n",
        "plt.plot(cost)"
      ]
    },
    {
      "cell_type": "markdown",
      "source": [
        "**Comparison of gradient descent variants**\n",
        "\n",
        "![img](https://cdn.iisc.talentsprint.com/CDS/Images/Gradient_descent_variants_comparison.JPG)\n",
        "\n",
        "To know more about gradient descent variants, click [here](https://hackernoon.com/demystifying-different-variants-of-gradient-descent-optimization-algorithm-19ae9ba2e9bc)."
      ],
      "metadata": {
        "id": "8Dv7ISE4vEpL"
      }
    }
  ],
  "metadata": {
    "colab": {
      "provenance": []
    },
    "kernelspec": {
      "display_name": "Python 3 (ipykernel)",
      "language": "python",
      "name": "python3"
    },
    "language_info": {
      "codemirror_mode": {
        "name": "ipython",
        "version": 3
      },
      "file_extension": ".py",
      "mimetype": "text/x-python",
      "name": "python",
      "nbconvert_exporter": "python",
      "pygments_lexer": "ipython3",
      "version": "3.10.4"
    }
  },
  "nbformat": 4,
  "nbformat_minor": 0
}