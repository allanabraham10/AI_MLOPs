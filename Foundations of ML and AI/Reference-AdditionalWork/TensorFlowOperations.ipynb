{
  "cells": [
    {
      "cell_type": "markdown",
      "metadata": {
        "id": "RdauzVpMUP-W"
      },
      "source": [
        "## Learning Objectives"
      ]
    },
    {
      "cell_type": "markdown",
      "metadata": {
        "id": "-vPeurvKNAEz"
      },
      "source": [
        "At the end of the experiment, you will be able to\n",
        "* understand Tensors and their application\n",
        "* define/form Tensors\n",
        "* perform different operations of Tensor using NumPy and Tensorflow library"
      ]
    },
    {
      "cell_type": "markdown",
      "metadata": {
        "id": "ynL2MOaMNDrg"
      },
      "source": [
        "#### Importing required library"
      ]
    },
    {
      "cell_type": "code",
      "execution_count": 1,
      "metadata": {
        "id": "7-9RvK3wugWC"
      },
      "outputs": [],
      "source": [
        "import numpy as np\n",
        "import tensorflow as tf"
      ]
    },
    {
      "cell_type": "markdown",
      "metadata": {
        "id": "ZtIJ2TbsO91g"
      },
      "source": [
        "### Introduction to Tensorflow\n",
        "\n",
        "TensorFlow is an end-to-end open-source platform for machine learning,  specifically deep learning. TensorFlow is a rich system for managing all aspects of a machine learning system; however, we focus on using a particular TensorFlow API to develop and train machine learning models.\n",
        "\n",
        "TensorFlow APIs are arranged hierarchically, with the high-level APIs built on the low-level APIs. Machine learning researchers use low-level APIs to create and explore new machine learning algorithms. We are going to use a high-level API named tf.keras to define and train machine learning models and to make predictions. tf.keras is the TensorFlow variant of the open-source Keras API.\n",
        "\n",
        "Tensorflow's name is directly derived from its core framework: Tensor and all the computations carried out involve Tensor and its operations.TensorFlow was developed by the Google Brain team and first released under the Apache License 2.0 in 2015.\n",
        "\n",
        "[Tensorflow toolkit hierarchy ](https://developers.google.com/machine-learning/crash-course/first-steps-with-tensorflow/toolkit)"
      ]
    },
    {
      "cell_type": "markdown",
      "metadata": {
        "id": "qxTXOdtXzrrh"
      },
      "source": [
        "##### What is a Tensor?\n",
        "\n",
        "A tensor is a generalization of vectors and matrices to potentially higher dimensions, see the Table below. Internally, TensorFlow represents tensors as n-dimensional arrays of base datatypes. Each element in the Tensor has the same data type, and the data type is always known. Simply, tensor, in relation to machine learning, is a generalization of scalars, vectors and, matrices. \n",
        "\n",
        "![alt text](https://cdn.extras.talentsprint.com/IOT/Images_AIML/Intro_tensor.png)\n",
        "\n",
        "\n"
      ]
    },
    {
      "cell_type": "markdown",
      "metadata": {
        "id": "qQUX9GMPFl2U"
      },
      "source": [
        "* From the above explanation, you might have understood that the Tensor operations are nothing but matrix operations.\n",
        "\n",
        "* In the following sections, we will see a few commonly used operations of Tensor using both NumPy and TensorFlow Library."
      ]
    },
    {
      "cell_type": "markdown",
      "metadata": {
        "id": "YGkLfp--LidI"
      },
      "source": [
        "### 1. Defining and slicing a 2D/1D-Tensor \n",
        "#### NumPy"
      ]
    },
    {
      "cell_type": "code",
      "execution_count": 2,
      "metadata": {
        "id": "u9ar1fwPwmf1",
        "outputId": "461ce5b9-5542-4325-cd86-fe28dc4d3389",
        "colab": {
          "base_uri": "https://localhost:8080/"
        }
      },
      "outputs": [
        {
          "output_type": "stream",
          "name": "stdout",
          "text": [
            "[[1 2]\n",
            " [2 3]\n",
            " [6 7]]\n",
            "shape =  (3, 2)\n",
            "dimension =  2\n",
            "size = 6\n",
            "lengths =  3\n",
            "data Structure type :  <class 'numpy.ndarray'>\n"
          ]
        },
        {
          "output_type": "execute_result",
          "data": {
            "text/plain": [
              "dtype('int64')"
            ]
          },
          "metadata": {},
          "execution_count": 2
        }
      ],
      "source": [
        "a=np.array([[1,2],[2,3],[6,7]])             # Defining a 2D array in Numpy\n",
        "print(a)                                    # printing the array\n",
        "print('shape = ',a.shape)                   # shape gives counting of number of rows and columns in the forms of tuple \n",
        "print('dimension = ',a.ndim)                # It gives dimension of array , here it is 2D.\n",
        "print('size =',np.size(a))                  # size always gives total number of elements in any array\n",
        "print('lengths = ',len(a))                  # In 2D it gives counting of number of rows in an array\n",
        "print('data Structure type : ',type(a))     # It gives the type of data structure, it is an object of class numpy ndarray .\n",
        "a.dtype                                     # it gives type of data stored in array. For printing the last variable we don't have to write print explicitly."
      ]
    },
    {
      "cell_type": "markdown",
      "source": [
        "#### Slicing: We are going to define a 2D Matrix as given in the image below and apply the slicing operations.\n",
        "\n",
        "![alt text](https://cdn.extras.talentsprint.com/IOT/Images_AIML/Array_slicing.png)"
      ],
      "metadata": {
        "id": "bWURFxA_w4Zy"
      }
    },
    {
      "cell_type": "code",
      "execution_count": 3,
      "metadata": {
        "id": "PNFzlFt2QfoI",
        "outputId": "794a99b2-8894-4f61-cffd-adcde12cbe56",
        "colab": {
          "base_uri": "https://localhost:8080/"
        }
      },
      "outputs": [
        {
          "output_type": "execute_result",
          "data": {
            "text/plain": [
              "array([[ 1,  2,  3,  4],\n",
              "       [ 4,  5,  6,  7],\n",
              "       [ 7,  8,  9, 10]])"
            ]
          },
          "metadata": {},
          "execution_count": 3
        }
      ],
      "source": [
        "a2d = np.array([[1, 2, 3, 4], [4, 5, 6, 7], [7, 8, 9, 10]]) ## Creating a 2D array\n",
        "a2d "
      ]
    },
    {
      "cell_type": "code",
      "execution_count": 4,
      "metadata": {
        "id": "8hiI6vCpQryb",
        "outputId": "d09f6a28-5d2f-4414-b77f-b93e4dbe6b68",
        "colab": {
          "base_uri": "https://localhost:8080/"
        }
      },
      "outputs": [
        {
          "output_type": "execute_result",
          "data": {
            "text/plain": [
              "array([ 7,  8,  9, 10])"
            ]
          },
          "metadata": {},
          "execution_count": 4
        }
      ],
      "source": [
        "a2d[2] # On passing a single integer value inside the square bracket, we get the corresponding indexed row. \n",
        "       # 2nd indexed row is getting sliced here."
      ]
    },
    {
      "cell_type": "code",
      "execution_count": 5,
      "metadata": {
        "id": "2tGDuWBbQvBn",
        "outputId": "3147ab58-137e-4f38-f9fc-f129f774b987",
        "colab": {
          "base_uri": "https://localhost:8080/"
        }
      },
      "outputs": [
        {
          "output_type": "execute_result",
          "data": {
            "text/plain": [
              "array([1, 2, 3, 4])"
            ]
          },
          "metadata": {},
          "execution_count": 5
        }
      ],
      "source": [
        "a2d[0] # zeroth row sliced."
      ]
    },
    {
      "cell_type": "code",
      "execution_count": 6,
      "metadata": {
        "id": "rKtiyYnBQzbH",
        "outputId": "4d7cdf69-e9fc-453a-f5e6-ba064c86daaa",
        "colab": {
          "base_uri": "https://localhost:8080/"
        }
      },
      "outputs": [
        {
          "output_type": "execute_result",
          "data": {
            "text/plain": [
              "7"
            ]
          },
          "metadata": {},
          "execution_count": 6
        }
      ],
      "source": [
        "a2d[1,3]  # The first value before coma is for row index and the second value after coma is for column index."
      ]
    },
    {
      "cell_type": "code",
      "execution_count": 7,
      "metadata": {
        "id": "Db2mLx6mQ354",
        "outputId": "7b54505c-b4d6-4ff5-c01e-d4aeba08b34d",
        "colab": {
          "base_uri": "https://localhost:8080/"
        }
      },
      "outputs": [
        {
          "output_type": "execute_result",
          "data": {
            "text/plain": [
              "7"
            ]
          },
          "metadata": {},
          "execution_count": 7
        }
      ],
      "source": [
        "a2d[1][3]  # This is also possible."
      ]
    },
    {
      "cell_type": "code",
      "execution_count": 8,
      "metadata": {
        "id": "rNWmrrTGQ9Gx",
        "outputId": "1ede0e79-0c75-485a-c809-49ccde2d4327",
        "colab": {
          "base_uri": "https://localhost:8080/"
        }
      },
      "outputs": [
        {
          "output_type": "execute_result",
          "data": {
            "text/plain": [
              "5"
            ]
          },
          "metadata": {},
          "execution_count": 8
        }
      ],
      "source": [
        "a2d[-2,-3] # Using negative index"
      ]
    },
    {
      "cell_type": "code",
      "execution_count": 9,
      "metadata": {
        "id": "L3ZmrbauRETu",
        "outputId": "f297009f-3bac-41dc-ff39-784c787e15ba",
        "colab": {
          "base_uri": "https://localhost:8080/"
        }
      },
      "outputs": [
        {
          "output_type": "execute_result",
          "data": {
            "text/plain": [
              "array([[1, 2],\n",
              "       [4, 5]])"
            ]
          },
          "metadata": {},
          "execution_count": 9
        }
      ],
      "source": [
        "a2d[:-1,:-2] # from the very beginning to -2 indexed row (i.e -3 and -2 indexed row) and -3,-4 indexed columns are sliced"
      ]
    },
    {
      "cell_type": "code",
      "execution_count": 10,
      "metadata": {
        "id": "WL3-HuniRJWl",
        "outputId": "6651949d-b3c1-412e-d347-422d93b24742",
        "colab": {
          "base_uri": "https://localhost:8080/"
        }
      },
      "outputs": [
        {
          "output_type": "execute_result",
          "data": {
            "text/plain": [
              "array([[1, 2, 3, 4],\n",
              "       [4, 5, 6, 7]])"
            ]
          },
          "metadata": {},
          "execution_count": 10
        }
      ],
      "source": [
        "a2d[:2] # from the very beginning to 1 indexed row, i.e 0 and 1 index row sliced. 2 is not included."
      ]
    },
    {
      "cell_type": "code",
      "execution_count": 11,
      "metadata": {
        "id": "IuirfsDkRRXB",
        "outputId": "b88be09e-8369-430d-843c-8cfc46699652",
        "colab": {
          "base_uri": "https://localhost:8080/"
        }
      },
      "outputs": [
        {
          "output_type": "execute_result",
          "data": {
            "text/plain": [
              "array([[3, 4],\n",
              "       [6, 7]])"
            ]
          },
          "metadata": {},
          "execution_count": 11
        }
      ],
      "source": [
        "a2d[:2, 2:] # ( 0 ,1 ) indexed rows and 2 to last indexed columns are sliced."
      ]
    },
    {
      "cell_type": "code",
      "execution_count": 12,
      "metadata": {
        "id": "OAaf6o7VRbFq",
        "outputId": "191bcafc-9299-4a2f-a813-6ea2638b50fe",
        "colab": {
          "base_uri": "https://localhost:8080/"
        }
      },
      "outputs": [
        {
          "output_type": "execute_result",
          "data": {
            "text/plain": [
              "array([4, 5])"
            ]
          },
          "metadata": {},
          "execution_count": 12
        }
      ],
      "source": [
        "a2d[1, :2] # 1 indexed row and (0,1) indexed columns are sliced ."
      ]
    },
    {
      "cell_type": "code",
      "execution_count": 13,
      "metadata": {
        "id": "P9toXdxKRYG-",
        "outputId": "b1bb4a00-42c1-4233-c907-5ef68ad09431",
        "colab": {
          "base_uri": "https://localhost:8080/"
        }
      },
      "outputs": [
        {
          "output_type": "execute_result",
          "data": {
            "text/plain": [
              "array([3, 6])"
            ]
          },
          "metadata": {},
          "execution_count": 13
        }
      ],
      "source": [
        "a2d[:2, 2] # Explain yourself?"
      ]
    },
    {
      "cell_type": "code",
      "execution_count": 14,
      "metadata": {
        "id": "WGBZjVkSRfe1",
        "outputId": "934dace8-ef52-4929-9020-71a6f217ce21",
        "colab": {
          "base_uri": "https://localhost:8080/"
        }
      },
      "outputs": [
        {
          "output_type": "execute_result",
          "data": {
            "text/plain": [
              "array([[1],\n",
              "       [4],\n",
              "       [7]])"
            ]
          },
          "metadata": {},
          "execution_count": 14
        }
      ],
      "source": [
        "a2d[:, :1] # All rows and 0 column ( from the very beginning, but 1 not included i.e. zeroth column ) sliced.\n"
      ]
    },
    {
      "cell_type": "code",
      "execution_count": 15,
      "metadata": {
        "id": "tMemWat8Rklm",
        "outputId": "1a6a1cff-038b-4bfe-930c-7af0d6e673ee",
        "colab": {
          "base_uri": "https://localhost:8080/"
        }
      },
      "outputs": [
        {
          "output_type": "stream",
          "name": "stdout",
          "text": [
            "Initial Matrix =  [[ 1  2  3  4]\n",
            " [ 4  5  6  7]\n",
            " [ 7  8  9 10]]\n",
            "Matrix after above assigned operations =  [[ 1  0  0  0]\n",
            " [ 4  0  0  0]\n",
            " [ 7  8  9 10]]\n"
          ]
        }
      ],
      "source": [
        "\n",
        "print('Initial Matrix = ',a2d)\n",
        "a2d[:2, 1:] = 0 # This is an assignment operation, a2d  itself gets changed.\n",
        "print('Matrix after above assigned operations = ',a2d)"
      ]
    },
    {
      "cell_type": "markdown",
      "metadata": {
        "id": "ftyZwvizMjaP"
      },
      "source": [
        "#### TensorFlow\n",
        "**tf.Variable** : There are multiple ways of defining/forming a Tensor in Tensorflow, tf.Variable is one of those. A tf.Variable represents a tensor whose value can be changed by running operations on it. Specific operations allow you to read and modify the values of this tensor. Higher-level libraries like tf.keras use tf.Variable to store model parameters that keep changing/updating with subsequent learning steps.\n",
        "\n",
        "**tf.Constant** : This is another way of creating a Tensor but the tensor made through this cannot be updated but can be called multiple times with only 1 copy in the memory, used in section 10."
      ]
    },
    {
      "cell_type": "code",
      "execution_count": 16,
      "metadata": {
        "id": "G_pY-WC8J5rH",
        "outputId": "ff9b7b4d-3cf3-411c-8d28-219dc8459246",
        "colab": {
          "base_uri": "https://localhost:8080/"
        }
      },
      "outputs": [
        {
          "output_type": "stream",
          "name": "stdout",
          "text": [
            "<tf.Variable 'Variable:0' shape=(3, 2) dtype=int32, numpy=\n",
            "array([[1, 2],\n",
            "       [2, 3],\n",
            "       [6, 7]], dtype=int32)>\n",
            "tf.Tensor([3 2], shape=(2,), dtype=int32)\n",
            "tf.Tensor(2, shape=(), dtype=int32)\n",
            "tf.Tensor(6, shape=(), dtype=int32)\n"
          ]
        }
      ],
      "source": [
        "a_tf=tf.Variable([[1,2],[2,3],[6,7]])\n",
        "print(a_tf)\n",
        "print(tf.shape(a_tf))\n",
        "print(tf.rank(a_tf))\n",
        "# print(a_tf.ndim) -->  This operation is not valid for tf.variable object.\n",
        "print(tf.size(a_tf))"
      ]
    },
    {
      "cell_type": "markdown",
      "metadata": {
        "id": "FQMtT9VYOdI-"
      },
      "source": [
        "#### Slicing: Similar to Numpy array slicing."
      ]
    },
    {
      "cell_type": "code",
      "execution_count": 17,
      "metadata": {
        "id": "QSJ1nBOQ9Z1s",
        "outputId": "a45f6fc2-bcf0-41c5-f63e-9d2c1ad183fc",
        "colab": {
          "base_uri": "https://localhost:8080/"
        }
      },
      "outputs": [
        {
          "output_type": "execute_result",
          "data": {
            "text/plain": [
              "<tf.Tensor: shape=(3,), dtype=int32, numpy=array([2, 3, 7], dtype=int32)>"
            ]
          },
          "metadata": {},
          "execution_count": 17
        }
      ],
      "source": [
        "a_tf[:,1]"
      ]
    },
    {
      "cell_type": "markdown",
      "metadata": {
        "id": "r-kOKgPcgK6V"
      },
      "source": [
        "#### Note the difference between 1D tensor, 2D row tensor and 2D column tensor, explained with example below.\n",
        "#### NumPy"
      ]
    },
    {
      "cell_type": "code",
      "execution_count": 18,
      "metadata": {
        "id": "eCmq5aI0gm_6",
        "outputId": "3b7d0a6f-37b8-4d5f-99ac-7ab2909f0d40",
        "colab": {
          "base_uri": "https://localhost:8080/"
        }
      },
      "outputs": [
        {
          "output_type": "stream",
          "name": "stdout",
          "text": [
            "[1 2 3] \n",
            "\n",
            "(3,)\n"
          ]
        }
      ],
      "source": [
        "V1=np.array([1,2,3]) # This is a 1D tensor. There are no concepts of rows and columns in the 1D tensor.\n",
        "print(V1,'\\n')\n",
        "print(V1.shape)"
      ]
    },
    {
      "cell_type": "code",
      "execution_count": 19,
      "metadata": {
        "id": "p06yVFCShM50",
        "outputId": "513a9b3f-05c2-43e0-825c-4575012cd21e",
        "colab": {
          "base_uri": "https://localhost:8080/"
        }
      },
      "outputs": [
        {
          "output_type": "stream",
          "name": "stdout",
          "text": [
            "[[1 2 3]] \n",
            "\n",
            "(1, 3)\n"
          ]
        }
      ],
      "source": [
        "V2=np.array([[1,2,3]]) # This is a 2D tensor having 1 row and 3 columns, i.e. 2D row tensor as it contains only one row.\n",
        "print(V2,'\\n')\n",
        "print(V2.shape)"
      ]
    },
    {
      "cell_type": "code",
      "execution_count": 20,
      "metadata": {
        "id": "U19HA23rgnPN",
        "outputId": "5a8f4e44-89df-419f-9f50-1f7c94a1425d",
        "colab": {
          "base_uri": "https://localhost:8080/"
        }
      },
      "outputs": [
        {
          "output_type": "stream",
          "name": "stdout",
          "text": [
            "[[1]\n",
            " [2]\n",
            " [3]] \n",
            "\n",
            "(3, 1)\n"
          ]
        }
      ],
      "source": [
        "V3=np.array([[1],[2],[3]])  # This is a 2D tensor having 3 rows and 1 column, ie. a 2D column tensor as it contains only one column.\n",
        "print(V3,'\\n')\n",
        "print(V3.shape)"
      ]
    },
    {
      "cell_type": "markdown",
      "metadata": {
        "id": "c24mn429h452"
      },
      "source": [
        "#### TensorFlow"
      ]
    },
    {
      "cell_type": "code",
      "execution_count": 21,
      "metadata": {
        "id": "Fgpl2e6Nh_Hy",
        "outputId": "f2bb1579-d126-4a43-f107-366da932a7a2",
        "colab": {
          "base_uri": "https://localhost:8080/"
        }
      },
      "outputs": [
        {
          "output_type": "stream",
          "name": "stdout",
          "text": [
            "<tf.Variable 'Variable:0' shape=(3,) dtype=int32, numpy=array([1, 2, 3], dtype=int32)>\n"
          ]
        }
      ],
      "source": [
        "V1_tf=tf.Variable([1,2,3])\n",
        "print(V1_tf)"
      ]
    },
    {
      "cell_type": "code",
      "execution_count": 22,
      "metadata": {
        "id": "2eMy_zz-iL2J",
        "outputId": "3b48eaef-215a-4314-ddfe-a9d1c5285ea4",
        "colab": {
          "base_uri": "https://localhost:8080/"
        }
      },
      "outputs": [
        {
          "output_type": "stream",
          "name": "stdout",
          "text": [
            "<tf.Variable 'Variable:0' shape=(1, 3) dtype=int32, numpy=array([[1, 2, 3]], dtype=int32)>\n"
          ]
        }
      ],
      "source": [
        "V2_tf=tf.Variable([[1,2,3]])\n",
        "print(V2_tf)"
      ]
    },
    {
      "cell_type": "code",
      "execution_count": 23,
      "metadata": {
        "id": "G8a5oDGuiaLG",
        "outputId": "2439733f-a79c-4d5e-a988-accdcca02613",
        "colab": {
          "base_uri": "https://localhost:8080/"
        }
      },
      "outputs": [
        {
          "output_type": "stream",
          "name": "stdout",
          "text": [
            "<tf.Variable 'Variable:0' shape=(3, 1) dtype=int32, numpy=\n",
            "array([[1],\n",
            "       [2],\n",
            "       [3]], dtype=int32)>\n"
          ]
        }
      ],
      "source": [
        "V3_tf=tf.Variable([[1],[2],[3]])\n",
        "print(V3_tf)"
      ]
    },
    {
      "cell_type": "markdown",
      "metadata": {
        "id": "qrF7byEzdr4p"
      },
      "source": [
        "### 2. Transpose\n",
        "The new matrix obtained by interchanging the rows and columns of the original matrix is referred to as the transpose of the matrix.\n",
        "#### NumPy"
      ]
    },
    {
      "cell_type": "code",
      "execution_count": 24,
      "metadata": {
        "id": "a9wOlq2nduLQ",
        "outputId": "1a68bb43-78b0-4bb8-ed06-736330e069c9",
        "colab": {
          "base_uri": "https://localhost:8080/"
        }
      },
      "outputs": [
        {
          "output_type": "stream",
          "name": "stdout",
          "text": [
            "[[ 1  0  0  0]\n",
            " [ 4  0  0  0]\n",
            " [ 7  8  9 10]] \n",
            "\n",
            "[[ 1  4  7]\n",
            " [ 0  0  8]\n",
            " [ 0  0  9]\n",
            " [ 0  0 10]]\n"
          ]
        }
      ],
      "source": [
        "print(a2d,'\\n')\n",
        "print(a2d.T)"
      ]
    },
    {
      "cell_type": "markdown",
      "metadata": {
        "id": "k_rdmqffeeJQ"
      },
      "source": [
        "#### TensorFlow"
      ]
    },
    {
      "cell_type": "code",
      "execution_count": 25,
      "metadata": {
        "id": "8HXArIhveA7e",
        "outputId": "596e32ca-f205-49df-b180-e07a32f7b73d",
        "colab": {
          "base_uri": "https://localhost:8080/"
        }
      },
      "outputs": [
        {
          "output_type": "stream",
          "name": "stdout",
          "text": [
            "<tf.Variable 'Variable:0' shape=(3, 4) dtype=int32, numpy=\n",
            "array([[ 1,  2,  3,  4],\n",
            "       [ 4,  5,  6,  7],\n",
            "       [ 7,  8,  9, 10]], dtype=int32)>\n"
          ]
        },
        {
          "output_type": "execute_result",
          "data": {
            "text/plain": [
              "<tf.Tensor: shape=(4, 3), dtype=int32, numpy=\n",
              "array([[ 1,  4,  7],\n",
              "       [ 2,  5,  8],\n",
              "       [ 3,  6,  9],\n",
              "       [ 4,  7, 10]], dtype=int32)>"
            ]
          },
          "metadata": {},
          "execution_count": 25
        }
      ],
      "source": [
        "a2d_tf = tf.Variable([[1, 2, 3, 4], [4, 5, 6, 7], [7, 8, 9, 10]]) ## Creating a 2D tensor\n",
        "print(a2d_tf)\n",
        "tf.transpose(a2d_tf)"
      ]
    },
    {
      "cell_type": "markdown",
      "metadata": {
        "id": "ivm4y0dGpgei"
      },
      "source": [
        "### 3. Scalar Addition and Multiplication\n",
        "Addition or Multiplication of any higher-order tensor with a scalar quantity(zero-order tensor).\n",
        "#### NumPy"
      ]
    },
    {
      "cell_type": "code",
      "execution_count": 26,
      "metadata": {
        "id": "rLPFRvaf4Xu8",
        "outputId": "aa80fdad-e9d5-4e42-f72e-b9e6795d2f58",
        "colab": {
          "base_uri": "https://localhost:8080/"
        }
      },
      "outputs": [
        {
          "output_type": "stream",
          "name": "stdout",
          "text": [
            "[[1 2]\n",
            " [2 3]\n",
            " [6 7]]\n"
          ]
        },
        {
          "output_type": "execute_result",
          "data": {
            "text/plain": [
              "array([[3, 4],\n",
              "       [4, 5],\n",
              "       [8, 9]])"
            ]
          },
          "metadata": {},
          "execution_count": 26
        }
      ],
      "source": [
        "print(a)\n",
        "a+2 # 2 is added to each element of the initial matrix a."
      ]
    },
    {
      "cell_type": "code",
      "execution_count": 27,
      "metadata": {
        "id": "JY1H890u4jqH",
        "outputId": "b7e90b39-baf6-4b24-b12d-6257f6ff931b",
        "colab": {
          "base_uri": "https://localhost:8080/"
        }
      },
      "outputs": [
        {
          "output_type": "execute_result",
          "data": {
            "text/plain": [
              "array([[ 2,  4],\n",
              "       [ 4,  6],\n",
              "       [12, 14]])"
            ]
          },
          "metadata": {},
          "execution_count": 27
        }
      ],
      "source": [
        "a*2 # Each element of the initial matrix is multiplied by 2."
      ]
    },
    {
      "cell_type": "markdown",
      "metadata": {
        "id": "kIRD0ZLF5PNI"
      },
      "source": [
        "#### TensorFlow"
      ]
    },
    {
      "cell_type": "code",
      "execution_count": 28,
      "metadata": {
        "id": "zRqRXSLl4YH7",
        "outputId": "1314f161-1adc-4667-875e-25f5ab41af3d",
        "colab": {
          "base_uri": "https://localhost:8080/"
        }
      },
      "outputs": [
        {
          "output_type": "stream",
          "name": "stdout",
          "text": [
            "<tf.Variable 'Variable:0' shape=(3, 2) dtype=int32, numpy=\n",
            "array([[1, 2],\n",
            "       [2, 3],\n",
            "       [6, 7]], dtype=int32)>\n"
          ]
        },
        {
          "output_type": "execute_result",
          "data": {
            "text/plain": [
              "<tf.Tensor: shape=(3, 2), dtype=int32, numpy=\n",
              "array([[3, 4],\n",
              "       [4, 5],\n",
              "       [8, 9]], dtype=int32)>"
            ]
          },
          "metadata": {},
          "execution_count": 28
        }
      ],
      "source": [
        "print(a_tf)\n",
        "tf.add(a_tf,2)"
      ]
    },
    {
      "cell_type": "code",
      "execution_count": 29,
      "metadata": {
        "id": "4dPKvGka4YTg",
        "outputId": "5c195083-deb8-4292-99c0-7cf28b3b1943",
        "colab": {
          "base_uri": "https://localhost:8080/"
        }
      },
      "outputs": [
        {
          "output_type": "execute_result",
          "data": {
            "text/plain": [
              "<tf.Tensor: shape=(3, 2), dtype=int32, numpy=\n",
              "array([[ 2,  4],\n",
              "       [ 4,  6],\n",
              "       [12, 14]], dtype=int32)>"
            ]
          },
          "metadata": {},
          "execution_count": 29
        }
      ],
      "source": [
        "tf.multiply(a_tf,2)"
      ]
    },
    {
      "cell_type": "markdown",
      "metadata": {
        "id": "AP_xsfdfiy3a"
      },
      "source": [
        "### 4. Addition and Subtraction between tensors\n",
        "When shape matches, simply element-wise addition and subtraction is carried out.\n",
        "#### NumPy"
      ]
    },
    {
      "cell_type": "code",
      "execution_count": 30,
      "metadata": {
        "id": "g3eOutTlbSJr",
        "outputId": "83e5be5c-6e24-494f-98f2-ff25b7abef7c",
        "colab": {
          "base_uri": "https://localhost:8080/"
        }
      },
      "outputs": [
        {
          "output_type": "stream",
          "name": "stdout",
          "text": [
            "b =  \n",
            " [[1 2]\n",
            " [2 3]] \n",
            " c =  \n",
            " [[3 4]\n",
            " [5 6]]\n"
          ]
        }
      ],
      "source": [
        "b=np.array([[1,2],[2,3]])\n",
        "c=np.array([[3,4],[5,6]])\n",
        "print('b = ','\\n',b,'\\n','c = ','\\n',c)"
      ]
    },
    {
      "cell_type": "code",
      "execution_count": 31,
      "metadata": {
        "id": "JHePyXEFbSX-",
        "outputId": "f0b842d2-f97d-48df-bf94-ea7bd9e9e712",
        "colab": {
          "base_uri": "https://localhost:8080/"
        }
      },
      "outputs": [
        {
          "output_type": "stream",
          "name": "stdout",
          "text": [
            "[[4 6]\n",
            " [7 9]] \n",
            "\n",
            "[[-2 -2]\n",
            " [-3 -3]]\n"
          ]
        }
      ],
      "source": [
        "print(b+c,'\\n')\n",
        "print(b-c)"
      ]
    },
    {
      "cell_type": "markdown",
      "metadata": {
        "id": "jDej96KvbRRb"
      },
      "source": [
        "#### TensorFlow"
      ]
    },
    {
      "cell_type": "code",
      "execution_count": 32,
      "metadata": {
        "id": "kpNgf3rvZa2Z",
        "outputId": "7c212dee-8e85-4445-a5cb-8473280fffec",
        "colab": {
          "base_uri": "https://localhost:8080/"
        }
      },
      "outputs": [
        {
          "output_type": "stream",
          "name": "stdout",
          "text": [
            "<tf.Variable 'Variable:0' shape=(2, 2) dtype=int32, numpy=\n",
            "array([[1, 2],\n",
            "       [2, 3]], dtype=int32)> \n",
            " <tf.Variable 'Variable:0' shape=(2, 2) dtype=int32, numpy=\n",
            "array([[3, 4],\n",
            "       [5, 6]], dtype=int32)>\n"
          ]
        }
      ],
      "source": [
        "b_tf=tf.Variable([[1,2],[2,3]])\n",
        "c_tf=tf.Variable([[3,4],[5,6]])\n",
        "print(b_tf,'\\n',c_tf)\n"
      ]
    },
    {
      "cell_type": "code",
      "execution_count": 33,
      "metadata": {
        "id": "tywFTUvUZbME",
        "outputId": "9d74b9f1-a4cf-4315-bcf6-989447450407",
        "colab": {
          "base_uri": "https://localhost:8080/"
        }
      },
      "outputs": [
        {
          "output_type": "execute_result",
          "data": {
            "text/plain": [
              "<tf.Tensor: shape=(2, 2), dtype=int32, numpy=\n",
              "array([[4, 6],\n",
              "       [7, 9]], dtype=int32)>"
            ]
          },
          "metadata": {},
          "execution_count": 33
        }
      ],
      "source": [
        "tf.add(b_tf,c_tf) # Addition"
      ]
    },
    {
      "cell_type": "code",
      "execution_count": 34,
      "metadata": {
        "id": "Z-qhr0OPabAS",
        "outputId": "e3420630-ecfa-4710-c055-96d63bdf7f5d",
        "colab": {
          "base_uri": "https://localhost:8080/"
        }
      },
      "outputs": [
        {
          "output_type": "execute_result",
          "data": {
            "text/plain": [
              "<tf.Tensor: shape=(2, 2), dtype=int32, numpy=\n",
              "array([[-2, -2],\n",
              "       [-3, -3]], dtype=int32)>"
            ]
          },
          "metadata": {},
          "execution_count": 34
        }
      ],
      "source": [
        "tf.subtract(b_tf,c_tf) # subtraction"
      ]
    },
    {
      "cell_type": "markdown",
      "source": [
        "Following is a list of commonly used operations. The idea is the same. Each operation requires one or more arguments.\n",
        "\n",
        "    tf.add(a, b)\n",
        "    tf.substract(a, b)\n",
        "    tf.multiply(a, b)\n",
        "    tf.div(a, b)\n",
        "    tf.pow(a, b)\n",
        "    tf.exp(a)\n",
        "    tf.sqrt(a) "
      ],
      "metadata": {
        "id": "kbUujJZUo1YW"
      }
    },
    {
      "cell_type": "markdown",
      "metadata": {
        "id": "91xEYRpZnWtB"
      },
      "source": [
        "#### Concept of Broadcasting\n",
        "It is better understood by going through the examples given below.\n",
        "#### NumPy\n",
        "\n",
        "[Ref.: https://numpy.org/devdocs/user/theory.broadcasting.html ]"
      ]
    },
    {
      "cell_type": "code",
      "execution_count": 35,
      "metadata": {
        "id": "ttoVSau6kQUg",
        "outputId": "3c28e55f-82c5-4fde-b11a-42dcbf2b3e6e",
        "colab": {
          "base_uri": "https://localhost:8080/"
        }
      },
      "outputs": [
        {
          "output_type": "stream",
          "name": "stdout",
          "text": [
            "[[1 2 3]\n",
            " [4 5 6]]\n"
          ]
        },
        {
          "output_type": "execute_result",
          "data": {
            "text/plain": [
              "(2, 3)"
            ]
          },
          "metadata": {},
          "execution_count": 35
        }
      ],
      "source": [
        "M1=np.array([[1,2,3],[4,5,6]])\n",
        "print(M1)\n",
        "M1.shape"
      ]
    },
    {
      "cell_type": "code",
      "execution_count": 36,
      "metadata": {
        "id": "J7FGP8DxkQj4",
        "outputId": "0264d63a-3c1f-4474-a7c7-43f91b6aaeb0",
        "colab": {
          "base_uri": "https://localhost:8080/"
        }
      },
      "outputs": [
        {
          "output_type": "stream",
          "name": "stdout",
          "text": [
            "[[8]\n",
            " [9]]\n"
          ]
        },
        {
          "output_type": "execute_result",
          "data": {
            "text/plain": [
              "(2, 1)"
            ]
          },
          "metadata": {},
          "execution_count": 36
        }
      ],
      "source": [
        "M2=np.array([[8],[9]])\n",
        "print(M2)\n",
        "M2.shape"
      ]
    },
    {
      "cell_type": "markdown",
      "metadata": {
        "id": "xDi6j-RhniBt"
      },
      "source": [
        "Mathematically M1 and M2 cannot be added as the shape doesn't match, but in NumPy, they can be added. M2 has the same number of rows as that of M1. Its column gets replicated so that its shape becomes equal to M1, and then, both are added. This process of replication is broadcasting. M2 gets broadcasted in the direction of the column of M1. We will see the result after replication and sum operation. Broadcasted M2 is not visible, it is a hidden step. See the result below:"
      ]
    },
    {
      "cell_type": "code",
      "execution_count": 37,
      "metadata": {
        "id": "1XflAQ3qkQwx",
        "outputId": "c12858f7-c105-4dfc-ee31-73451b3bc0d4",
        "colab": {
          "base_uri": "https://localhost:8080/"
        }
      },
      "outputs": [
        {
          "output_type": "execute_result",
          "data": {
            "text/plain": [
              "array([[ 9, 10, 11],\n",
              "       [13, 14, 15]])"
            ]
          },
          "metadata": {},
          "execution_count": 37
        }
      ],
      "source": [
        "M1+M2"
      ]
    },
    {
      "cell_type": "code",
      "execution_count": 38,
      "metadata": {
        "id": "ubKLjJ09oMGI",
        "outputId": "c8bd1dd5-58a6-4d3b-a714-6fd210ab4591",
        "colab": {
          "base_uri": "https://localhost:8080/"
        }
      },
      "outputs": [
        {
          "output_type": "stream",
          "name": "stdout",
          "text": [
            "[[10 20 30]]\n"
          ]
        },
        {
          "output_type": "execute_result",
          "data": {
            "text/plain": [
              "(1, 3)"
            ]
          },
          "metadata": {},
          "execution_count": 38
        }
      ],
      "source": [
        "# Making another array M3\n",
        "M3=np.array([[10,20,30]])\n",
        "print(M3)\n",
        "M3.shape"
      ]
    },
    {
      "cell_type": "markdown",
      "metadata": {
        "id": "anTMwjQQoNa1"
      },
      "source": [
        "Mathematically M1 and M3 can not be added as the shape doesn't match, but in NumPy, they can be added. M3 has the same number of columns as that of M1. Its rows get replicated so that its shape becomes equal to M1, and then, both are added. This process of replication is broadcasting. M3 gets broadcasted in the direction of the rows of M1. We will see the result after replication and sum operation. Broadcasted M3 is not visible, it is a hidden step. See the result below:"
      ]
    },
    {
      "cell_type": "code",
      "execution_count": 39,
      "metadata": {
        "id": "4pQOgvvxoglK",
        "outputId": "34a7b536-b5fc-4c04-d494-5d7719e55326",
        "colab": {
          "base_uri": "https://localhost:8080/"
        }
      },
      "outputs": [
        {
          "output_type": "execute_result",
          "data": {
            "text/plain": [
              "array([[11, 22, 33],\n",
              "       [14, 25, 36]])"
            ]
          },
          "metadata": {},
          "execution_count": 39
        }
      ],
      "source": [
        "M1+M3"
      ]
    },
    {
      "cell_type": "markdown",
      "metadata": {
        "id": "L-wXIU9zcdxr"
      },
      "source": [
        "#### TensorFlow\n",
        " Similar as NumPy.\n",
        " \n",
        " [Ref.: https://www.tensorflow.org/xla/broadcasting ]"
      ]
    },
    {
      "cell_type": "code",
      "execution_count": 40,
      "metadata": {
        "id": "n19AdpclcnFg",
        "outputId": "f1081b35-73e2-4771-d582-e59dc6edbc0f",
        "colab": {
          "base_uri": "https://localhost:8080/"
        }
      },
      "outputs": [
        {
          "output_type": "stream",
          "name": "stdout",
          "text": [
            "<tf.Variable 'Variable:0' shape=(2, 3) dtype=int32, numpy=\n",
            "array([[1, 2, 3],\n",
            "       [4, 5, 6]], dtype=int32)> \n",
            "\n",
            "<tf.Variable 'Variable:0' shape=(2, 1) dtype=int32, numpy=\n",
            "array([[8],\n",
            "       [9]], dtype=int32)>\n"
          ]
        }
      ],
      "source": [
        "M1_tf=tf.Variable([[1,2,3],[4,5,6]])\n",
        "print(M1_tf,'\\n')\n",
        "M2_tf=tf.Variable([[8],[9]])\n",
        "print(M2_tf)\n"
      ]
    },
    {
      "cell_type": "code",
      "execution_count": 41,
      "metadata": {
        "id": "HOUYvim9dFnO",
        "outputId": "8dec8072-7216-4062-f6be-5a07932e90b9",
        "colab": {
          "base_uri": "https://localhost:8080/"
        }
      },
      "outputs": [
        {
          "output_type": "execute_result",
          "data": {
            "text/plain": [
              "<tf.Tensor: shape=(2, 3), dtype=int32, numpy=\n",
              "array([[ 9, 10, 11],\n",
              "       [13, 14, 15]], dtype=int32)>"
            ]
          },
          "metadata": {},
          "execution_count": 41
        }
      ],
      "source": [
        "tf.add(M1_tf,M2_tf)"
      ]
    },
    {
      "cell_type": "markdown",
      "metadata": {
        "id": "RreRdEds5oJ_"
      },
      "source": [
        "### 5. Hadamard Product or Element-wise Multiplication\n",
        "If the two Tensors have the same size, operations are carried out elementwise by default.\n",
        "#### NumPy"
      ]
    },
    {
      "cell_type": "code",
      "execution_count": 42,
      "metadata": {
        "id": "5hhcBj8x6Kfv",
        "outputId": "0f8914ae-f1dd-4c3b-ad1f-29cd2ff5e25f",
        "colab": {
          "base_uri": "https://localhost:8080/"
        }
      },
      "outputs": [
        {
          "output_type": "execute_result",
          "data": {
            "text/plain": [
              "array([[1, 2],\n",
              "       [2, 3],\n",
              "       [6, 7]])"
            ]
          },
          "metadata": {},
          "execution_count": 42
        }
      ],
      "source": [
        "# Using previously defined matrix a by using  Numpy\n",
        "a"
      ]
    },
    {
      "cell_type": "code",
      "execution_count": 43,
      "metadata": {
        "id": "lUO_-LgF7r7u",
        "outputId": "238bbdfc-150f-451f-88a7-a4638e598948",
        "colab": {
          "base_uri": "https://localhost:8080/"
        }
      },
      "outputs": [
        {
          "output_type": "execute_result",
          "data": {
            "text/plain": [
              "array([[2, 3],\n",
              "       [1, 2],\n",
              "       [4, 5]])"
            ]
          },
          "metadata": {},
          "execution_count": 43
        }
      ],
      "source": [
        "# Defining another matrix b\n",
        "b=np.array([[2,3],[1,2],[4,5]])\n",
        "b"
      ]
    },
    {
      "cell_type": "code",
      "execution_count": 44,
      "metadata": {
        "id": "aiwerU6u7_uJ",
        "outputId": "649e654b-8d5f-4538-a88f-0c636fd85ee0",
        "colab": {
          "base_uri": "https://localhost:8080/"
        }
      },
      "outputs": [
        {
          "output_type": "execute_result",
          "data": {
            "text/plain": [
              "array([[ 2,  6],\n",
              "       [ 2,  6],\n",
              "       [24, 35]])"
            ]
          },
          "metadata": {},
          "execution_count": 44
        }
      ],
      "source": [
        "a*b # Here shape of a  and b matches thus default product is Hadamard multiplication. Note: This is not matrix multiplication."
      ]
    },
    {
      "cell_type": "markdown",
      "metadata": {
        "id": "GfEjgkI68RKU"
      },
      "source": [
        "#### TensorFlow"
      ]
    },
    {
      "cell_type": "code",
      "execution_count": 45,
      "metadata": {
        "id": "jZJenXZc8XHU",
        "outputId": "358cd465-9fef-4e6e-c19d-05d6f7cc9052",
        "colab": {
          "base_uri": "https://localhost:8080/"
        }
      },
      "outputs": [
        {
          "output_type": "execute_result",
          "data": {
            "text/plain": [
              "<tf.Variable 'Variable:0' shape=(3, 2) dtype=int32, numpy=\n",
              "array([[1, 2],\n",
              "       [2, 3],\n",
              "       [6, 7]], dtype=int32)>"
            ]
          },
          "metadata": {},
          "execution_count": 45
        }
      ],
      "source": [
        "a_tf"
      ]
    },
    {
      "cell_type": "code",
      "execution_count": 46,
      "metadata": {
        "id": "SWu0-Wzm8XyA",
        "outputId": "205ad3a1-bb14-4fc6-f40e-bf596e20da95",
        "colab": {
          "base_uri": "https://localhost:8080/"
        }
      },
      "outputs": [
        {
          "output_type": "execute_result",
          "data": {
            "text/plain": [
              "<tf.Variable 'Variable:0' shape=(3, 2) dtype=int32, numpy=\n",
              "array([[2, 3],\n",
              "       [1, 2],\n",
              "       [4, 5]], dtype=int32)>"
            ]
          },
          "metadata": {},
          "execution_count": 46
        }
      ],
      "source": [
        "b_tf=tf.Variable([[2,3],[1,2],[4,5]])\n",
        "b_tf"
      ]
    },
    {
      "cell_type": "code",
      "execution_count": 47,
      "metadata": {
        "id": "TwYRQO2I8nQM",
        "outputId": "f4e0fc73-cc3f-45aa-8e4a-26d8d46929af",
        "colab": {
          "base_uri": "https://localhost:8080/"
        }
      },
      "outputs": [
        {
          "output_type": "execute_result",
          "data": {
            "text/plain": [
              "<tf.Tensor: shape=(3, 2), dtype=int32, numpy=\n",
              "array([[ 2,  6],\n",
              "       [ 2,  6],\n",
              "       [24, 35]], dtype=int32)>"
            ]
          },
          "metadata": {},
          "execution_count": 47
        }
      ],
      "source": [
        "a_tf*b_tf # Hadamard Multiplication\n",
        "# OR tf.multiply(a_tf,b_tf)"
      ]
    },
    {
      "cell_type": "markdown",
      "metadata": {
        "id": "TVpqaHzr5jtl"
      },
      "source": [
        "### 6. Matrix Multiplication\n",
        "* For multiplying matrix a and matrix b, the number of columns of matrix a and number of rows of matrix b must match.\n",
        "* Note: Matrix Multiplication is not commutative (i.e.AB != BA) "
      ]
    },
    {
      "cell_type": "markdown",
      "metadata": {
        "id": "raiFR18uZVSn"
      },
      "source": [
        "#### Image below shows the Matrix multiplication process\n",
        "![Matrix Multiplication.PNG](data:image/png;base64,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)"
      ]
    },
    {
      "cell_type": "markdown",
      "metadata": {
        "id": "5rKaS_tBZ8b5"
      },
      "source": [
        "#### NumPy"
      ]
    },
    {
      "cell_type": "code",
      "execution_count": 48,
      "metadata": {
        "id": "srzIkcio_dIg",
        "outputId": "9cb38743-241a-46f0-e1a1-fe20cbc0bbce",
        "colab": {
          "base_uri": "https://localhost:8080/"
        }
      },
      "outputs": [
        {
          "output_type": "stream",
          "name": "stdout",
          "text": [
            "[[1 2 3]\n",
            " [4 5 6]] \n",
            " Shape =  (2, 3)\n",
            "[[2 1]\n",
            " [3 2]\n",
            " [4 3]] \n",
            " Shape =  (3, 2)\n"
          ]
        }
      ],
      "source": [
        "a1=np.array([[1,2,3],[4,5,6]])\n",
        "print(a1,'\\n','Shape = ',a1.shape)\n",
        "b1=np.array([[2,1],[3,2],[4,3]])\n",
        "print(b1,'\\n','Shape = ',b1.shape)"
      ]
    },
    {
      "cell_type": "code",
      "execution_count": 49,
      "metadata": {
        "id": "8reX_9Xr_dZK",
        "outputId": "7ed84ea3-78b5-47e5-97d3-94d06d9ed065",
        "colab": {
          "base_uri": "https://localhost:8080/"
        }
      },
      "outputs": [
        {
          "output_type": "execute_result",
          "data": {
            "text/plain": [
              "array([[20, 14],\n",
              "       [47, 32]])"
            ]
          },
          "metadata": {},
          "execution_count": 49
        }
      ],
      "source": [
        "# Matrix multiplication between a1 and b1 is possible as shape matches.\n",
        "np.dot(a1,b1) # OR\n",
        "a1.dot(b1)"
      ]
    },
    {
      "cell_type": "markdown",
      "metadata": {
        "id": "kJO9YLfsaAMW"
      },
      "source": [
        "#### TensorFlow"
      ]
    },
    {
      "cell_type": "code",
      "execution_count": 50,
      "metadata": {
        "id": "GW14bfECaFHp",
        "outputId": "5c1cae42-df44-406a-a32e-d95127ad4a6f",
        "colab": {
          "base_uri": "https://localhost:8080/"
        }
      },
      "outputs": [
        {
          "output_type": "stream",
          "name": "stdout",
          "text": [
            "<tf.Variable 'Variable:0' shape=(2, 3) dtype=int32, numpy=\n",
            "array([[1, 2, 3],\n",
            "       [4, 5, 6]], dtype=int32)> \n",
            "\n",
            "<tf.Variable 'Variable:0' shape=(3, 2) dtype=int32, numpy=\n",
            "array([[2, 1],\n",
            "       [3, 2],\n",
            "       [4, 3]], dtype=int32)>\n"
          ]
        }
      ],
      "source": [
        "a1_tf=tf.Variable([[1,2,3],[4,5,6]])\n",
        "print(a1_tf,'\\n')\n",
        "b1_tf=tf.Variable([[2,1],[3,2],[4,3]])\n",
        "print(b1_tf)"
      ]
    },
    {
      "cell_type": "code",
      "execution_count": 51,
      "metadata": {
        "id": "MDHyEVavbGWJ",
        "outputId": "7de662fd-1b80-46fa-d63f-0b68193887b6",
        "colab": {
          "base_uri": "https://localhost:8080/"
        }
      },
      "outputs": [
        {
          "output_type": "execute_result",
          "data": {
            "text/plain": [
              "<tf.Tensor: shape=(2, 2), dtype=int32, numpy=\n",
              "array([[20, 14],\n",
              "       [47, 32]], dtype=int32)>"
            ]
          },
          "metadata": {},
          "execution_count": 51
        }
      ],
      "source": [
        "tf.linalg.matmul(a1_tf,b1_tf)"
      ]
    },
    {
      "cell_type": "markdown",
      "metadata": {
        "id": "FCc93fa64WSA"
      },
      "source": [
        "### 7. Reduction:\n",
        "Calculating the sum across all elements of a tensor along any one or multiple dimensions.\n",
        "#### NumPy"
      ]
    },
    {
      "cell_type": "code",
      "execution_count": 52,
      "metadata": {
        "id": "GfcsaOqtmyT4",
        "outputId": "70785dc0-1a3c-4294-d4cf-437423a155c6",
        "colab": {
          "base_uri": "https://localhost:8080/"
        }
      },
      "outputs": [
        {
          "output_type": "execute_result",
          "data": {
            "text/plain": [
              "array([[1, 2],\n",
              "       [2, 3],\n",
              "       [6, 7]])"
            ]
          },
          "metadata": {},
          "execution_count": 52
        }
      ],
      "source": [
        "a   # Using the matrix/tensor defined above using Numpy"
      ]
    },
    {
      "cell_type": "code",
      "execution_count": 53,
      "metadata": {
        "id": "uu7riudtmybD",
        "outputId": "956c4405-59d0-4d32-b6a9-55e679e6a276",
        "colab": {
          "base_uri": "https://localhost:8080/"
        }
      },
      "outputs": [
        {
          "output_type": "stream",
          "name": "stdout",
          "text": [
            "21\n",
            "21\n"
          ]
        }
      ],
      "source": [
        "print(a.sum())  # OR\n",
        "print(np.sum(a))"
      ]
    },
    {
      "cell_type": "markdown",
      "metadata": {
        "id": "rfeANjHNraXN"
      },
      "source": [
        "* Summation along any one dimension: Here axis=0 means down the rows and axis=1 means along the columns."
      ]
    },
    {
      "cell_type": "code",
      "execution_count": 54,
      "metadata": {
        "id": "hSnGy0-MrRNg",
        "outputId": "053949f8-8628-4deb-fd2c-fa4a70e8922e",
        "colab": {
          "base_uri": "https://localhost:8080/"
        }
      },
      "outputs": [
        {
          "output_type": "stream",
          "name": "stdout",
          "text": [
            "[ 9 12]\n",
            "[ 9 12]\n"
          ]
        }
      ],
      "source": [
        "print(a.sum(axis=0))  # OR\n",
        "print(np.sum(a,axis=0))"
      ]
    },
    {
      "cell_type": "code",
      "execution_count": 55,
      "metadata": {
        "id": "_NSRx4JtrVIr",
        "outputId": "3d54d83b-ab3c-4444-e8f8-13e1f1ebeaf6",
        "colab": {
          "base_uri": "https://localhost:8080/"
        }
      },
      "outputs": [
        {
          "output_type": "stream",
          "name": "stdout",
          "text": [
            "[ 3  5 13]\n",
            "[ 3  5 13]\n"
          ]
        }
      ],
      "source": [
        "print(a.sum(axis=1))  # OR\n",
        "print(np.sum(a,axis=1))"
      ]
    },
    {
      "cell_type": "markdown",
      "metadata": {
        "id": "kj2qsYVdsGjg"
      },
      "source": [
        "##### Notice the code below and find the difference between the above and below operations."
      ]
    },
    {
      "cell_type": "code",
      "execution_count": 56,
      "metadata": {
        "id": "s4RSKkf2r9kO",
        "outputId": "a0fd9e24-0adc-4733-ce03-d5ce1553f714",
        "colab": {
          "base_uri": "https://localhost:8080/"
        }
      },
      "outputs": [
        {
          "output_type": "stream",
          "name": "stdout",
          "text": [
            "[[ 3]\n",
            " [ 5]\n",
            " [13]]\n",
            "[[ 3]\n",
            " [ 5]\n",
            " [13]]\n"
          ]
        }
      ],
      "source": [
        "print(a.sum(axis=1,keepdims=True))  # OR\n",
        "print(np.sum(a,axis=1,keepdims=True))"
      ]
    },
    {
      "cell_type": "markdown",
      "metadata": {
        "id": "jacCEzGirHNQ"
      },
      "source": [
        "#### TensorFlow"
      ]
    },
    {
      "cell_type": "code",
      "execution_count": 57,
      "metadata": {
        "id": "Qmd9pOnjmyjT",
        "outputId": "d21a2aa1-b366-4f1d-9479-832a3fec25b9",
        "colab": {
          "base_uri": "https://localhost:8080/"
        }
      },
      "outputs": [
        {
          "output_type": "execute_result",
          "data": {
            "text/plain": [
              "<tf.Variable 'Variable:0' shape=(3, 2) dtype=int32, numpy=\n",
              "array([[1, 2],\n",
              "       [2, 3],\n",
              "       [6, 7]], dtype=int32)>"
            ]
          },
          "metadata": {},
          "execution_count": 57
        }
      ],
      "source": [
        "a_tf    # Using the tensor a_tf defined using Tensorflow"
      ]
    },
    {
      "cell_type": "code",
      "execution_count": 58,
      "metadata": {
        "id": "U7RBXWZ_s1-S",
        "outputId": "313e4e68-b9b7-4faa-dc39-fa94cc7524d8",
        "colab": {
          "base_uri": "https://localhost:8080/"
        }
      },
      "outputs": [
        {
          "output_type": "execute_result",
          "data": {
            "text/plain": [
              "<tf.Tensor: shape=(), dtype=int32, numpy=21>"
            ]
          },
          "metadata": {},
          "execution_count": 58
        }
      ],
      "source": [
        "tf.reduce_sum(a_tf)"
      ]
    },
    {
      "cell_type": "code",
      "execution_count": 59,
      "metadata": {
        "id": "g0cnA5fus2MC",
        "outputId": "43cc7956-5db2-401f-cbda-d53031ce1d62",
        "colab": {
          "base_uri": "https://localhost:8080/"
        }
      },
      "outputs": [
        {
          "output_type": "execute_result",
          "data": {
            "text/plain": [
              "<tf.Tensor: shape=(2,), dtype=int32, numpy=array([ 9, 12], dtype=int32)>"
            ]
          },
          "metadata": {},
          "execution_count": 59
        }
      ],
      "source": [
        "tf.reduce_sum(a_tf,0)  # down the rows"
      ]
    },
    {
      "cell_type": "code",
      "execution_count": 60,
      "metadata": {
        "id": "G420vLmzs2XK",
        "outputId": "7e1bc25f-9a31-4d9d-8b0e-91ad630dc83b",
        "colab": {
          "base_uri": "https://localhost:8080/"
        }
      },
      "outputs": [
        {
          "output_type": "execute_result",
          "data": {
            "text/plain": [
              "<tf.Tensor: shape=(3,), dtype=int32, numpy=array([ 3,  5, 13], dtype=int32)>"
            ]
          },
          "metadata": {},
          "execution_count": 60
        }
      ],
      "source": [
        "tf.reduce_sum(a_tf,1) # along the columns"
      ]
    },
    {
      "cell_type": "markdown",
      "metadata": {
        "id": "mrNWUO_HveDC"
      },
      "source": [
        "### 8. Tensor/Matrix Determinant & Inversion\n",
        "* The matrix inversion is only valid for non-singular matrix i.e. matrix with non zero determinants. All columns of the matrix must be linearly independent.\n",
        "* Inversion is only calculated for the square matrix.\n",
        "#### NumPy"
      ]
    },
    {
      "cell_type": "code",
      "execution_count": 61,
      "metadata": {
        "id": "0_vBuCpBtZf5",
        "outputId": "afef7b68-8ff4-415d-c5a0-20ea4a39e313",
        "colab": {
          "base_uri": "https://localhost:8080/"
        }
      },
      "outputs": [
        {
          "output_type": "execute_result",
          "data": {
            "text/plain": [
              "array([[2, 3],\n",
              "       [5, 9]])"
            ]
          },
          "metadata": {},
          "execution_count": 61
        }
      ],
      "source": [
        "X=np.array([[2,3],[5,9]])\n",
        "X"
      ]
    },
    {
      "cell_type": "code",
      "execution_count": 62,
      "metadata": {
        "id": "0IM4Kf6QtZyI",
        "outputId": "a2efa66c-aedf-432c-b533-e36c696f7102",
        "colab": {
          "base_uri": "https://localhost:8080/"
        }
      },
      "outputs": [
        {
          "output_type": "execute_result",
          "data": {
            "text/plain": [
              "3.0000000000000004"
            ]
          },
          "metadata": {},
          "execution_count": 62
        }
      ],
      "source": [
        "np.linalg.det(X) # Determinant calculation"
      ]
    },
    {
      "cell_type": "code",
      "execution_count": 63,
      "metadata": {
        "id": "ffr898zyxdd3",
        "outputId": "0827566a-076a-45d4-cc46-06731cc01e18",
        "colab": {
          "base_uri": "https://localhost:8080/"
        }
      },
      "outputs": [
        {
          "output_type": "execute_result",
          "data": {
            "text/plain": [
              "array([[ 3.        , -1.        ],\n",
              "       [-1.66666667,  0.66666667]])"
            ]
          },
          "metadata": {},
          "execution_count": 63
        }
      ],
      "source": [
        "X_inv=np.linalg.inv(X)\n",
        "X_inv"
      ]
    },
    {
      "cell_type": "code",
      "execution_count": 64,
      "metadata": {
        "id": "7DryrhzGxlC_",
        "outputId": "91d579fb-f02e-4db8-ace2-235465121c6f",
        "colab": {
          "base_uri": "https://localhost:8080/"
        }
      },
      "outputs": [
        {
          "output_type": "execute_result",
          "data": {
            "text/plain": [
              "array([[ 1.00000000e+00, -1.11022302e-16],\n",
              "       [ 1.33226763e-15,  1.00000000e+00]])"
            ]
          },
          "metadata": {},
          "execution_count": 64
        }
      ],
      "source": [
        "np.dot(X,X_inv)"
      ]
    },
    {
      "cell_type": "markdown",
      "metadata": {
        "id": "CYQy5bDgxyRK"
      },
      "source": [
        "#### TensorFlow"
      ]
    },
    {
      "cell_type": "code",
      "execution_count": 65,
      "metadata": {
        "id": "W0Cjj6Aax0lC",
        "outputId": "97977e4b-8cd7-4db1-ef42-636b816a0766",
        "colab": {
          "base_uri": "https://localhost:8080/"
        }
      },
      "outputs": [
        {
          "output_type": "execute_result",
          "data": {
            "text/plain": [
              "<tf.Variable 'Variable:0' shape=(2, 2) dtype=float32, numpy=\n",
              "array([[2., 3.],\n",
              "       [5., 9.]], dtype=float32)>"
            ]
          },
          "metadata": {},
          "execution_count": 65
        }
      ],
      "source": [
        "X_tf=tf.Variable([[2.,3.],[5.,9.]]) # To get inverse, make sure that  tensor has entries as float\n",
        "X_tf"
      ]
    },
    {
      "cell_type": "code",
      "execution_count": 66,
      "metadata": {
        "id": "6k5tmZEUyqx9",
        "outputId": "eb00e249-6c26-401c-b5fb-219831e06671",
        "colab": {
          "base_uri": "https://localhost:8080/"
        }
      },
      "outputs": [
        {
          "output_type": "execute_result",
          "data": {
            "text/plain": [
              "<tf.Tensor: shape=(), dtype=float32, numpy=3.0000007>"
            ]
          },
          "metadata": {},
          "execution_count": 66
        }
      ],
      "source": [
        "tf.linalg.det(X_tf)    # Determinant Calculation"
      ]
    },
    {
      "cell_type": "code",
      "execution_count": 67,
      "metadata": {
        "id": "kzmfqXYN0WXN",
        "outputId": "081111a6-d110-4617-dc77-ccfc060a2914",
        "colab": {
          "base_uri": "https://localhost:8080/"
        }
      },
      "outputs": [
        {
          "output_type": "execute_result",
          "data": {
            "text/plain": [
              "3.0000007"
            ]
          },
          "metadata": {},
          "execution_count": 67
        }
      ],
      "source": [
        "## To get only the final result, add --> .numpy() at the end as given below. Valid everywhere.\n",
        "tf.linalg.det(X_tf).numpy()"
      ]
    },
    {
      "cell_type": "code",
      "execution_count": 68,
      "metadata": {
        "id": "zPnSRvrbx03Q",
        "outputId": "6b299627-e872-4f88-dcc3-0987836fe61c",
        "colab": {
          "base_uri": "https://localhost:8080/"
        }
      },
      "outputs": [
        {
          "output_type": "execute_result",
          "data": {
            "text/plain": [
              "<tf.Tensor: shape=(2, 2), dtype=float32, numpy=\n",
              "array([[ 2.9999993, -0.9999997],\n",
              "       [-1.6666663,  0.6666665]], dtype=float32)>"
            ]
          },
          "metadata": {},
          "execution_count": 68
        }
      ],
      "source": [
        "X_tf_inv=tf.linalg.inv(X_tf)\n",
        "X_tf_inv"
      ]
    },
    {
      "cell_type": "code",
      "execution_count": 69,
      "metadata": {
        "id": "jD__pHJxy2Ze",
        "outputId": "3bbbd85e-40da-4b13-e1d9-299545c5caef",
        "colab": {
          "base_uri": "https://localhost:8080/"
        }
      },
      "outputs": [
        {
          "output_type": "execute_result",
          "data": {
            "text/plain": [
              "<tf.Tensor: shape=(2, 2), dtype=float32, numpy=\n",
              "array([[9.9999952e-01, 1.1920929e-07],\n",
              "       [0.0000000e+00, 1.0000000e+00]], dtype=float32)>"
            ]
          },
          "metadata": {},
          "execution_count": 69
        }
      ],
      "source": [
        "tf.matmul(X_tf,X_tf_inv)"
      ]
    },
    {
      "cell_type": "markdown",
      "source": [
        "### 9. Higher-order tensor\n",
        "A colored image consists of three channels of pixels one for Red color, one for Green color, and one for Blue color. Each channel is a 2D matrix. That means, any colored image is represented by a 3-tensor of pixels composed of three 2D matrices stacked one after another and each 2D matrix is called a channel. Say we have an image of 32 pixels then the shape of the tensor representation of this image is (32,32,3),i.e. three 32X32 matrices are stacked one after another. So this is a tensor of order/rank 3 and it is used for the representation of an image.\n",
        "\n",
        "![alt text](https://cdn.extras.talentsprint.com/IOT/Images_AIML/Higher_order_tensor.png)\n"
      ],
      "metadata": {
        "id": "5NIJUDElxqdm"
      }
    },
    {
      "cell_type": "markdown",
      "metadata": {
        "id": "Cqo8QwnSk-AI"
      },
      "source": [
        "Now, say there are 100 such images, then the tensor will be of 4th order and the shape will be (100,32,32,3). So the tensor contains information of 100 images each consists of RGB  channels of 32 by 32 megapixel.\n",
        "#### NumPy"
      ]
    },
    {
      "cell_type": "code",
      "execution_count": 70,
      "metadata": {
        "id": "Yp4GwRO_kkWQ",
        "outputId": "642052da-eefd-4786-9815-4725e6312399",
        "colab": {
          "base_uri": "https://localhost:8080/"
        }
      },
      "outputs": [
        {
          "output_type": "execute_result",
          "data": {
            "text/plain": [
              "array([[[0., 0., 0.],\n",
              "        [0., 0., 0.]],\n",
              "\n",
              "       [[0., 0., 0.],\n",
              "        [0., 0., 0.]],\n",
              "\n",
              "       [[0., 0., 0.],\n",
              "        [0., 0., 0.]]])"
            ]
          },
          "metadata": {},
          "execution_count": 70
        }
      ],
      "source": [
        "np.zeros([3,2,3]) # Making a 3 rank/order tensor filled with zeros."
      ]
    },
    {
      "cell_type": "code",
      "execution_count": 71,
      "metadata": {
        "id": "yd4eXWN2obzr",
        "outputId": "f2e03f73-4ee5-4d13-e783-7014005c28c7",
        "colab": {
          "base_uri": "https://localhost:8080/"
        }
      },
      "outputs": [
        {
          "output_type": "execute_result",
          "data": {
            "text/plain": [
              "array([[[[0., 0., 0.],\n",
              "         [0., 0., 0.]],\n",
              "\n",
              "        [[0., 0., 0.],\n",
              "         [0., 0., 0.]],\n",
              "\n",
              "        [[0., 0., 0.],\n",
              "         [0., 0., 0.]]],\n",
              "\n",
              "\n",
              "       [[[0., 0., 0.],\n",
              "         [0., 0., 0.]],\n",
              "\n",
              "        [[0., 0., 0.],\n",
              "         [0., 0., 0.]],\n",
              "\n",
              "        [[0., 0., 0.],\n",
              "         [0., 0., 0.]]]])"
            ]
          },
          "metadata": {},
          "execution_count": 71
        }
      ],
      "source": [
        "np.zeros([2,3,2,3]) # Making a 4 rank/order tensor filled with zeros."
      ]
    },
    {
      "cell_type": "markdown",
      "metadata": {
        "id": "HHQmSvGFqajN"
      },
      "source": [
        "#### TensorFlow"
      ]
    },
    {
      "cell_type": "code",
      "execution_count": 72,
      "metadata": {
        "id": "tTxz6fZZnkQD",
        "outputId": "ca63db35-df20-4cf7-d90f-0bf5d6e59d5a",
        "colab": {
          "base_uri": "https://localhost:8080/"
        }
      },
      "outputs": [
        {
          "output_type": "execute_result",
          "data": {
            "text/plain": [
              "<tf.Tensor: shape=(3, 2, 3), dtype=float32, numpy=\n",
              "array([[[0., 0., 0.],\n",
              "        [0., 0., 0.]],\n",
              "\n",
              "       [[0., 0., 0.],\n",
              "        [0., 0., 0.]],\n",
              "\n",
              "       [[0., 0., 0.],\n",
              "        [0., 0., 0.]]], dtype=float32)>"
            ]
          },
          "metadata": {},
          "execution_count": 72
        }
      ],
      "source": [
        "tf.zeros([3,2,3])"
      ]
    },
    {
      "cell_type": "code",
      "execution_count": 73,
      "metadata": {
        "id": "EDcCe5RakZkw",
        "outputId": "fe551426-1d98-42ba-f825-b0a587b86d51",
        "colab": {
          "base_uri": "https://localhost:8080/"
        }
      },
      "outputs": [
        {
          "output_type": "execute_result",
          "data": {
            "text/plain": [
              "<tf.Tensor: shape=(2, 3, 2, 3), dtype=float32, numpy=\n",
              "array([[[[0., 0., 0.],\n",
              "         [0., 0., 0.]],\n",
              "\n",
              "        [[0., 0., 0.],\n",
              "         [0., 0., 0.]],\n",
              "\n",
              "        [[0., 0., 0.],\n",
              "         [0., 0., 0.]]],\n",
              "\n",
              "\n",
              "       [[[0., 0., 0.],\n",
              "         [0., 0., 0.]],\n",
              "\n",
              "        [[0., 0., 0.],\n",
              "         [0., 0., 0.]],\n",
              "\n",
              "        [[0., 0., 0.],\n",
              "         [0., 0., 0.]]]], dtype=float32)>"
            ]
          },
          "metadata": {},
          "execution_count": 73
        }
      ],
      "source": [
        "tf.zeros([2,3,2,3])"
      ]
    },
    {
      "cell_type": "markdown",
      "metadata": {
        "id": "W263Lyklop8B"
      },
      "source": [
        "### 11. Converting NumPy Tensor into TensorFlow Tensor and vice-versa :"
      ]
    },
    {
      "cell_type": "code",
      "execution_count": 74,
      "metadata": {
        "id": "4qzVJJoeo4FJ",
        "outputId": "6be3557d-1f2a-4882-d983-8846d71693a6",
        "colab": {
          "base_uri": "https://localhost:8080/"
        }
      },
      "outputs": [
        {
          "output_type": "execute_result",
          "data": {
            "text/plain": [
              "<tf.Tensor: shape=(2, 3), dtype=int32, numpy=\n",
              "array([[1, 2, 3],\n",
              "       [4, 5, 6]], dtype=int32)>"
            ]
          },
          "metadata": {},
          "execution_count": 74
        }
      ],
      "source": [
        "x = tf.constant([[1, 2, 3], [4, 5, 6]])\n",
        "x"
      ]
    },
    {
      "cell_type": "code",
      "execution_count": 75,
      "metadata": {
        "id": "LxF0-D75pD8z",
        "outputId": "a1116f61-39f8-448a-c00b-0a0881bfeba0",
        "colab": {
          "base_uri": "https://localhost:8080/"
        }
      },
      "outputs": [
        {
          "output_type": "execute_result",
          "data": {
            "text/plain": [
              "array([[1, 2, 3],\n",
              "       [4, 5, 6]], dtype=int32)"
            ]
          },
          "metadata": {},
          "execution_count": 75
        }
      ],
      "source": [
        "x_np=x.numpy()\n",
        "x_np"
      ]
    },
    {
      "cell_type": "code",
      "execution_count": 76,
      "metadata": {
        "id": "I_3gsLeQpXdT",
        "outputId": "b1521736-34b4-4912-9227-d68d842f304c",
        "colab": {
          "base_uri": "https://localhost:8080/"
        }
      },
      "outputs": [
        {
          "output_type": "execute_result",
          "data": {
            "text/plain": [
              "<tf.Tensor: shape=(2, 3), dtype=int32, numpy=\n",
              "array([[1, 2, 3],\n",
              "       [4, 5, 6]], dtype=int32)>"
            ]
          },
          "metadata": {},
          "execution_count": 76
        }
      ],
      "source": [
        "x_tf=tf.convert_to_tensor(x_np)\n",
        "x_tf"
      ]
    },
    {
      "cell_type": "markdown",
      "metadata": {
        "id": "h6AeoqU2UQAw"
      },
      "source": [
        "**Comparison --> Tensor in NumPy and TensorFlow** : We have carried out different operations of Tensor using both NumPy and TensorFlow libraries. In general, the Tensors defined in NumPy are called Nd-Arrays whereas in TensorFlow they are called Tensors.\n",
        "* Do NumPy arrays differ from Tensors?\n",
        "\n",
        "There is no difference between Tensors defined through both the libraries apart from the syntactical difference (that we have seen in the above operations) but a Tensor is a more suitable choice if we are going to use GPUs/TPUs as it can reside in accelerators memory. This is the main reasoning behind the application of TensorFlow in deep learning."
      ]
    },
    {
      "cell_type": "markdown",
      "metadata": {
        "id": "O1kyY1mt6vdv"
      },
      "source": [
        "##### Many other operations can be explored at the link :>  https://www.tensorflow.org/guide/tensor"
      ]
    }
  ],
  "metadata": {
    "colab": {
      "provenance": []
    },
    "kernelspec": {
      "display_name": "Python 3",
      "language": "python",
      "name": "python3"
    },
    "language_info": {
      "codemirror_mode": {
        "name": "ipython",
        "version": 3
      },
      "file_extension": ".py",
      "mimetype": "text/x-python",
      "name": "python",
      "nbconvert_exporter": "python",
      "pygments_lexer": "ipython3",
      "version": "3.7.1"
    }
  },
  "nbformat": 4,
  "nbformat_minor": 0
}